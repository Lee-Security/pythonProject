{
 "cells": [
  {
   "cell_type": "markdown",
   "id": "a7368b43",
   "metadata": {},
   "source": [
    "### 문자열 자료형\n"
   ]
  },
  {
   "cell_type": "code",
   "execution_count": 1,
   "id": "03cd12a9",
   "metadata": {},
   "outputs": [
    {
     "ename": "NameError",
     "evalue": "name 'i' is not defined",
     "output_type": "error",
     "traceback": [
      "\u001b[31m---------------------------------------------------------------------------\u001b[39m",
      "\u001b[31mNameError\u001b[39m                                 Traceback (most recent call last)",
      "\u001b[36mCell\u001b[39m\u001b[36m \u001b[39m\u001b[32mIn[1]\u001b[39m\u001b[32m, line 4\u001b[39m\n\u001b[32m      1\u001b[39m \u001b[38;5;66;03m#for, while의 경우 탈출 방법 break\u001b[39;00m\n\u001b[32m      2\u001b[39m \u001b[38;5;66;03m#중첩반복문에서의 탈출은 break가 필요하나 전체를 탈출이 가능한 것이 아님.\u001b[39;00m\n\u001b[32m----> \u001b[39m\u001b[32m4\u001b[39m number = \u001b[43mi\u001b[49m * j\n\u001b[32m      6\u001b[39m \u001b[38;5;28;01mfor\u001b[39;00m i \u001b[38;5;129;01min\u001b[39;00m \u001b[38;5;28mrange\u001b[39m(\u001b[32m5\u001b[39m):\n\u001b[32m      7\u001b[39m     \u001b[38;5;28;01mfor\u001b[39;00m j \u001b[38;5;129;01min\u001b[39;00m \u001b[38;5;28mrange\u001b[39m(\u001b[32m5\u001b[39m):\n",
      "\u001b[31mNameError\u001b[39m: name 'i' is not defined"
     ]
    }
   ],
   "source": [
    "#for, while의 경우 탈출 방법 break\n",
    "#중첩반복문에서의 탈출은 break가 필요하나 전체를 탈출이 가능한 것이 아님.\n",
    "\n",
    "number = i * j\n",
    "\n",
    "for i in range(5):\n",
    "    for j in range(5):\n",
    "        print(f\"(i = {i}, j={j})\")\n",
    "        if i == 2 and j == 3:\n",
    "         break\n",
    "    if i == 2 and j == 3:\n",
    "         break\n",
    "\n",
    "print(number)"
   ]
  },
  {
   "cell_type": "markdown",
   "id": "9ac7dde2",
   "metadata": {},
   "source": [
    "## 문자열 인덱싱"
   ]
  },
  {
   "cell_type": "code",
   "execution_count": null,
   "id": "0e037859",
   "metadata": {},
   "outputs": [],
   "source": [
    "my_str = \"Hello, Python\"\n",
    "#양수 인덱싱의 경우 맨앞 0부터 시작함.\n",
    "#음수 인덱싱의 경우 맨뒤 0부터 시작함."
   ]
  },
  {
   "cell_type": "code",
   "execution_count": null,
   "id": "1f90cae5",
   "metadata": {},
   "outputs": [
    {
     "data": {
      "text/plain": [
       "'n'"
      ]
     },
     "execution_count": 14,
     "metadata": {},
     "output_type": "execute_result"
    }
   ],
   "source": [
    "#n 가져오기\n",
    "my_str[-1] #음수 인덱싱"
   ]
  },
  {
   "cell_type": "code",
   "execution_count": null,
   "id": "ad0e9d17",
   "metadata": {},
   "outputs": [
    {
     "data": {
      "text/plain": [
       "'Pyth'"
      ]
     },
     "execution_count": 17,
     "metadata": {},
     "output_type": "execute_result"
    }
   ],
   "source": [
    "my_str[7:11] # 슬라이싱 접근법\n",
    "# [7,8,9,10] 단순 기입의 경우 오류 발생\n",
    "# 끝번호까지 출력하고 싶은 경우 +1 헤야함"
   ]
  },
  {
   "cell_type": "code",
   "execution_count": null,
   "id": "5936f0c4",
   "metadata": {},
   "outputs": [
    {
     "data": {
      "text/plain": [
       "'Python'"
      ]
     },
     "execution_count": 19,
     "metadata": {},
     "output_type": "execute_result"
    }
   ],
   "source": [
    "#슬라이싱 앞뒤 번호를 생략하면 제외된 라인 외 전체를 출력함 \n",
    "my_str[7:]"
   ]
  },
  {
   "cell_type": "code",
   "execution_count": 23,
   "id": "253a2519",
   "metadata": {},
   "outputs": [
    {
     "data": {
      "text/plain": [
       "'nhy olH'"
      ]
     },
     "execution_count": 23,
     "metadata": {},
     "output_type": "execute_result"
    }
   ],
   "source": [
    "#슬라이싱[start:end:step(음수도 가능)]\n",
    "my_str[::-2]"
   ]
  },
  {
   "cell_type": "code",
   "execution_count": null,
   "id": "78d26e0f",
   "metadata": {},
   "outputs": [
    {
     "data": {
      "text/plain": [
       "str"
      ]
     },
     "execution_count": 25,
     "metadata": {},
     "output_type": "execute_result"
    }
   ],
   "source": [
    "type(my_str) # 타입을 알려줌 # 문자열"
   ]
  },
  {
   "cell_type": "code",
   "execution_count": null,
   "id": "7b8a0afc",
   "metadata": {},
   "outputs": [
    {
     "data": {
      "text/plain": [
       "13"
      ]
     },
     "execution_count": 26,
     "metadata": {},
     "output_type": "execute_result"
    }
   ],
   "source": [
    "len(my_str) # 길이를 알려줌 len\n"
   ]
  },
  {
   "cell_type": "code",
   "execution_count": null,
   "id": "1c9ef5bb",
   "metadata": {},
   "outputs": [
    {
     "name": "stdout",
     "output_type": "stream",
     "text": [
      "H\n",
      "e\n",
      "l\n",
      "l\n",
      "o\n",
      ",\n",
      " \n",
      "P\n",
      "y\n",
      "t\n",
      "h\n",
      "o\n",
      "n\n"
     ]
    }
   ],
   "source": [
    "for i in my_str:\n",
    "    print(i) # print(\"Hello\")\n",
    "    #문자열 데이터도 이터러블로 동작함."
   ]
  },
  {
   "cell_type": "code",
   "execution_count": null,
   "id": "0f4a09ba",
   "metadata": {},
   "outputs": [
    {
     "name": "stdout",
     "output_type": "stream",
     "text": [
      "H\n",
      "e\n",
      "l\n",
      "l\n",
      "o\n",
      ",\n",
      " \n",
      "P\n",
      "y\n",
      "t\n",
      "h\n",
      "o\n",
      "n\n"
     ]
    }
   ],
   "source": [
    "for i in range(len(my_str)):\n",
    "    print(my_str[i])\n",
    "#같은 결과를 반복문으로도 만들 수 있음."
   ]
  },
  {
   "cell_type": "code",
   "execution_count": null,
   "id": "390bc595",
   "metadata": {},
   "outputs": [
    {
     "data": {
      "text/plain": [
       "'hello, python'"
      ]
     },
     "execution_count": 32,
     "metadata": {},
     "output_type": "execute_result"
    }
   ],
   "source": [
    "# 문자열, 데이터의 여러가지 기능들\n",
    " \n",
    "my_str.lower() \n",
    "# 전체 문자열을 소문자로 바꾸는 메소드"
   ]
  },
  {
   "cell_type": "code",
   "execution_count": null,
   "id": "f5eaaded",
   "metadata": {},
   "outputs": [
    {
     "data": {
      "text/plain": [
       "'HELLO, PYTHON'"
      ]
     },
     "execution_count": 33,
     "metadata": {},
     "output_type": "execute_result"
    }
   ],
   "source": [
    "my_str.upper()\n",
    "# 전체 문자열을 대문자로 바꾸는 메소드"
   ]
  },
  {
   "cell_type": "code",
   "execution_count": null,
   "id": "05ff7b4c",
   "metadata": {},
   "outputs": [
    {
     "name": "stdout",
     "output_type": "stream",
     "text": [
      "['Hello', ' Python']\n"
     ]
    }
   ],
   "source": [
    "words = my_str.split(\",\")\n",
    "print(words)\n",
    "# 문자열을 쪼개는 메소드"
   ]
  },
  {
   "cell_type": "markdown",
   "id": "a3a17752",
   "metadata": {},
   "source": [
    "### 자료형"
   ]
  },
  {
   "cell_type": "code",
   "execution_count": null,
   "id": "165608ce",
   "metadata": {},
   "outputs": [],
   "source": [
    "# 자료형: 프로그래밍을 할 때 쓰이는 숫자, 문자열 등 자료 형태로 사용하는 모든 것\n",
    "# 매번 요소에 따라 선언해야 하는 번거로움이 있음을 해결하기 위해서\n",
    "# 컬렉션 자료형 : 여러 개의 요소를 하나로 묶어 사용하는 자료형\n",
    "\n",
    "# 리스트 (list)\n",
    "# 딕셔너리 (dictionary)"
   ]
  },
  {
   "cell_type": "markdown",
   "id": "8aa6e94c",
   "metadata": {},
   "source": [
    "### 컬렉션 자료형"
   ]
  },
  {
   "cell_type": "markdown",
   "id": "a2791ecc",
   "metadata": {},
   "source": [
    "리스트 : 리스트 : 복수의 데이터 형태를 순서대로 저장하고 조작하는 기본 자료형"
   ]
  },
  {
   "cell_type": "code",
   "execution_count": 40,
   "id": "d2efaa8f",
   "metadata": {},
   "outputs": [],
   "source": [
    "numbers = [1,2,3,4,5]"
   ]
  },
  {
   "cell_type": "code",
   "execution_count": 41,
   "id": "b5f5095f",
   "metadata": {},
   "outputs": [],
   "source": [
    "fruits = [\"apple\", \"banana\", \"mango\"]"
   ]
  },
  {
   "cell_type": "code",
   "execution_count": 44,
   "id": "4a3aa13f",
   "metadata": {},
   "outputs": [],
   "source": [
    "numbers1 = [1,2,3,4,5]\n",
    "numbers2 = [6,7,8,9,10]"
   ]
  },
  {
   "cell_type": "code",
   "execution_count": 48,
   "id": "581a1bd4",
   "metadata": {},
   "outputs": [
    {
     "data": {
      "text/plain": [
       "[1, 2, 3, 4, 5, 6, 7, 8, 9, 10]"
      ]
     },
     "execution_count": 48,
     "metadata": {},
     "output_type": "execute_result"
    }
   ],
   "source": [
    "numbers1 + numbers2\n",
    "#연결연산자가 됨"
   ]
  },
  {
   "cell_type": "code",
   "execution_count": null,
   "id": "2de8db3e",
   "metadata": {},
   "outputs": [
    {
     "data": {
      "text/plain": [
       "[1, 2, 3, 4, 5, 1, 2, 3, 4, 5, 1, 2, 3, 4, 5]"
      ]
     },
     "execution_count": 47,
     "metadata": {},
     "output_type": "execute_result"
    }
   ],
   "source": [
    "numbers1 * 3\n",
    "# 반복연산자로도 동작함."
   ]
  },
  {
   "cell_type": "code",
   "execution_count": 42,
   "id": "f33a5111",
   "metadata": {},
   "outputs": [],
   "source": [
    "mixed = [1, \"apple\", True, [10, 20, 30 ]]"
   ]
  },
  {
   "cell_type": "code",
   "execution_count": 37,
   "id": "6f655714",
   "metadata": {},
   "outputs": [
    {
     "data": {
      "text/plain": [
       "list"
      ]
     },
     "execution_count": 37,
     "metadata": {},
     "output_type": "execute_result"
    }
   ],
   "source": [
    "type(numbers)"
   ]
  },
  {
   "cell_type": "code",
   "execution_count": null,
   "id": "209673da",
   "metadata": {},
   "outputs": [
    {
     "data": {
      "text/plain": [
       "'mango'"
      ]
     },
     "execution_count": 50,
     "metadata": {},
     "output_type": "execute_result"
    }
   ],
   "source": [
    "fruits[-1] \n",
    "# 인덱싱 접근으로 데이터를 가져오는 것도 가능"
   ]
  },
  {
   "cell_type": "code",
   "execution_count": 54,
   "id": "aa132cdc",
   "metadata": {},
   "outputs": [
    {
     "data": {
      "text/plain": [
       "['apple', 'banana', 'mango']"
      ]
     },
     "execution_count": 54,
     "metadata": {},
     "output_type": "execute_result"
    }
   ],
   "source": [
    "fruits[:3] "
   ]
  },
  {
   "cell_type": "code",
   "execution_count": null,
   "id": "39a1db98",
   "metadata": {},
   "outputs": [],
   "source": [
    "fruits[0] = \"grape\" \n",
    "# 새로운 데이터 수정"
   ]
  },
  {
   "cell_type": "code",
   "execution_count": null,
   "id": "1be71e6d",
   "metadata": {},
   "outputs": [
    {
     "data": {
      "text/plain": [
       "['grape', 'banana', 'mango']"
      ]
     },
     "execution_count": 56,
     "metadata": {},
     "output_type": "execute_result"
    }
   ],
   "source": [
    "fruits\n",
    "#새로운 값 변경\n",
    "#하지만 없는 인덱스 번호로는 적용 불가"
   ]
  },
  {
   "cell_type": "code",
   "execution_count": null,
   "id": "bc57ba3c",
   "metadata": {},
   "outputs": [],
   "source": [
    "fruits.append(\"cherry\")\n",
    "# append는 맨뒤에 추가"
   ]
  },
  {
   "cell_type": "code",
   "execution_count": 58,
   "id": "3be1a2e5",
   "metadata": {},
   "outputs": [
    {
     "data": {
      "text/plain": [
       "['grape', 'banana', 'mango', 'cherry']"
      ]
     },
     "execution_count": 58,
     "metadata": {},
     "output_type": "execute_result"
    }
   ],
   "source": [
    "fruits"
   ]
  },
  {
   "cell_type": "code",
   "execution_count": null,
   "id": "d6f9a206",
   "metadata": {},
   "outputs": [],
   "source": [
    "fruits.insert(2, \"kiwi\")\n",
    "# 특정 위치 삽입 추가"
   ]
  },
  {
   "cell_type": "code",
   "execution_count": 62,
   "id": "b203cae5",
   "metadata": {},
   "outputs": [
    {
     "data": {
      "text/plain": [
       "['grape', 'banana', 'kiwi', 'mango', 'cherry']"
      ]
     },
     "execution_count": 62,
     "metadata": {},
     "output_type": "execute_result"
    }
   ],
   "source": [
    "fruits"
   ]
  },
  {
   "cell_type": "code",
   "execution_count": null,
   "id": "d22ceeac",
   "metadata": {},
   "outputs": [],
   "source": [
    "fruits.extend([\"orange\", \"date\"])\n",
    "# extend 리스트에 여러 개의 항목을 한 번에 추가할 때 사용하는 메서드\n"
   ]
  },
  {
   "cell_type": "code",
   "execution_count": 64,
   "id": "6400c30b",
   "metadata": {},
   "outputs": [
    {
     "data": {
      "text/plain": [
       "['grape', 'banana', 'kiwi', 'mango', 'cherry', 'orange', 'date']"
      ]
     },
     "execution_count": 64,
     "metadata": {},
     "output_type": "execute_result"
    }
   ],
   "source": [
    "fruits"
   ]
  },
  {
   "cell_type": "code",
   "execution_count": null,
   "id": "ebd046c3",
   "metadata": {},
   "outputs": [
    {
     "data": {
      "text/plain": [
       "'orange'"
      ]
     },
     "execution_count": 66,
     "metadata": {},
     "output_type": "execute_result"
    }
   ],
   "source": [
    "fruits.pop()\n",
    "# 맨뒤 값 제거 \n",
    "# 2번 실행함"
   ]
  },
  {
   "cell_type": "code",
   "execution_count": null,
   "id": "91fbc1bb",
   "metadata": {},
   "outputs": [
    {
     "data": {
      "text/plain": [
       "['grape', 'banana', 'kiwi', 'mango', 'cherry']"
      ]
     },
     "execution_count": 67,
     "metadata": {},
     "output_type": "execute_result"
    }
   ],
   "source": [
    "fruits"
   ]
  },
  {
   "cell_type": "code",
   "execution_count": null,
   "id": "2e483256",
   "metadata": {},
   "outputs": [],
   "source": [
    "fruits.remove(\"cherry\")\n",
    "# 특정 값 지정 제거"
   ]
  },
  {
   "cell_type": "code",
   "execution_count": 75,
   "id": "7a77c6d3",
   "metadata": {},
   "outputs": [],
   "source": [
    "fruits.remove(\"kiwi\")"
   ]
  },
  {
   "cell_type": "code",
   "execution_count": 69,
   "id": "13222213",
   "metadata": {},
   "outputs": [
    {
     "data": {
      "text/plain": [
       "['grape', 'banana', 'kiwi', 'mango']"
      ]
     },
     "execution_count": 69,
     "metadata": {},
     "output_type": "execute_result"
    }
   ],
   "source": [
    "fruits"
   ]
  },
  {
   "cell_type": "code",
   "execution_count": null,
   "id": "e5224365",
   "metadata": {},
   "outputs": [
    {
     "data": {
      "text/plain": [
       "0"
      ]
     },
     "execution_count": 70,
     "metadata": {},
     "output_type": "execute_result"
    }
   ],
   "source": [
    "fruits.index(\"grape\")\n",
    "#인덱스 위치 확인하기"
   ]
  },
  {
   "cell_type": "code",
   "execution_count": null,
   "id": "110622ff",
   "metadata": {},
   "outputs": [
    {
     "data": {
      "text/plain": [
       "1"
      ]
     },
     "execution_count": 71,
     "metadata": {},
     "output_type": "execute_result"
    }
   ],
   "source": [
    "fruits.count(\"grape\")\n",
    "#몇 번 등장하는지 세는 메서드"
   ]
  },
  {
   "cell_type": "code",
   "execution_count": null,
   "id": "3023abc1",
   "metadata": {},
   "outputs": [
    {
     "data": {
      "text/plain": [
       "4"
      ]
     },
     "execution_count": 72,
     "metadata": {},
     "output_type": "execute_result"
    }
   ],
   "source": [
    "len(fruits)\n",
    "# ()안에 있는 항목의 개수"
   ]
  },
  {
   "cell_type": "code",
   "execution_count": 79,
   "id": "100751b8",
   "metadata": {},
   "outputs": [],
   "source": [
    "fruits.append(\"apple\")"
   ]
  },
  {
   "cell_type": "code",
   "execution_count": 74,
   "id": "07fa3a57",
   "metadata": {},
   "outputs": [
    {
     "data": {
      "text/plain": [
       "['grape', 'banana', 'kiwi', 'mango', 'apple']"
      ]
     },
     "execution_count": 74,
     "metadata": {},
     "output_type": "execute_result"
    }
   ],
   "source": [
    "fruits"
   ]
  },
  {
   "cell_type": "code",
   "execution_count": 80,
   "id": "53c64d9d",
   "metadata": {},
   "outputs": [],
   "source": [
    "fruits.sort()\n",
    "# 리스트 안의 항목들을 오름차순으로 정렬"
   ]
  },
  {
   "cell_type": "code",
   "execution_count": 81,
   "id": "681f17f8",
   "metadata": {},
   "outputs": [
    {
     "data": {
      "text/plain": [
       "['apple', 'apple', 'banana', 'grape', 'mango']"
      ]
     },
     "execution_count": 81,
     "metadata": {},
     "output_type": "execute_result"
    }
   ],
   "source": [
    "fruits"
   ]
  },
  {
   "cell_type": "code",
   "execution_count": null,
   "id": "26ad8965",
   "metadata": {},
   "outputs": [],
   "source": [
    "fruits.sort(reverse = True)\n",
    "#내림차순"
   ]
  },
  {
   "cell_type": "code",
   "execution_count": 83,
   "id": "24c5b36c",
   "metadata": {},
   "outputs": [
    {
     "data": {
      "text/plain": [
       "['mango', 'grape', 'banana', 'apple', 'apple']"
      ]
     },
     "execution_count": 83,
     "metadata": {},
     "output_type": "execute_result"
    }
   ],
   "source": [
    "fruits"
   ]
  },
  {
   "cell_type": "code",
   "execution_count": 85,
   "id": "ec58b61d",
   "metadata": {},
   "outputs": [],
   "source": [
    "fruits.reverse()"
   ]
  },
  {
   "cell_type": "code",
   "execution_count": 86,
   "id": "5cd01939",
   "metadata": {},
   "outputs": [
    {
     "data": {
      "text/plain": [
       "['apple', 'apple', 'banana', 'grape', 'mango']"
      ]
     },
     "execution_count": 86,
     "metadata": {},
     "output_type": "execute_result"
    }
   ],
   "source": [
    "fruits"
   ]
  },
  {
   "cell_type": "code",
   "execution_count": 87,
   "id": "d0e5ea91",
   "metadata": {},
   "outputs": [],
   "source": [
    "fruits = [\"apple\", \"banana\", \"mango\", \"cherry\"]"
   ]
  },
  {
   "cell_type": "code",
   "execution_count": 89,
   "id": "7a22d9cc",
   "metadata": {},
   "outputs": [
    {
     "name": "stdout",
     "output_type": "stream",
     "text": [
      "apple\n",
      "banana\n",
      "mango\n",
      "cherry\n"
     ]
    }
   ],
   "source": [
    "for i in fruits:\n",
    "    print(i)"
   ]
  },
  {
   "cell_type": "code",
   "execution_count": 91,
   "id": "0ecbd72a",
   "metadata": {},
   "outputs": [
    {
     "name": "stdout",
     "output_type": "stream",
     "text": [
      "0번째 과일apple\n",
      "1번째 과일banana\n",
      "2번째 과일mango\n",
      "3번째 과일cherry\n"
     ]
    }
   ],
   "source": [
    "for i in range(len(fruits)):\n",
    "    print(f\"{i}번째 과일{fruits[i]}\")"
   ]
  },
  {
   "cell_type": "code",
   "execution_count": 92,
   "id": "aca957e8",
   "metadata": {},
   "outputs": [],
   "source": [
    "numbers = [10,20,30,40,50]"
   ]
  },
  {
   "cell_type": "code",
   "execution_count": 93,
   "id": "6a3cb452",
   "metadata": {},
   "outputs": [
    {
     "data": {
      "text/plain": [
       "5"
      ]
     },
     "execution_count": 93,
     "metadata": {},
     "output_type": "execute_result"
    }
   ],
   "source": [
    "len(numbers)"
   ]
  },
  {
   "cell_type": "code",
   "execution_count": null,
   "id": "eb29bfba",
   "metadata": {},
   "outputs": [
    {
     "data": {
      "text/plain": [
       "50"
      ]
     },
     "execution_count": 94,
     "metadata": {},
     "output_type": "execute_result"
    }
   ],
   "source": [
    "max(numbers)\n",
    "# 내장함수 동작이 훨씬 빠름\n",
    "# 큰 값을 찾아주는 기능"
   ]
  },
  {
   "cell_type": "code",
   "execution_count": null,
   "id": "005a9a70",
   "metadata": {},
   "outputs": [
    {
     "data": {
      "text/plain": [
       "10"
      ]
     },
     "execution_count": 96,
     "metadata": {},
     "output_type": "execute_result"
    }
   ],
   "source": [
    "min(numbers)\n",
    "# 내장함수 동작이 훨씬 빠름\n",
    "# 작은 값을 찾아주는 기능"
   ]
  },
  {
   "cell_type": "code",
   "execution_count": null,
   "id": "acd18ee3",
   "metadata": {},
   "outputs": [
    {
     "data": {
      "text/plain": [
       "30.0"
      ]
     },
     "execution_count": 97,
     "metadata": {},
     "output_type": "execute_result"
    }
   ],
   "source": [
    "#평균값\n",
    "#avg는 지원 안 함\n",
    "sum(numbers)/len(numbers)"
   ]
  },
  {
   "cell_type": "code",
   "execution_count": 99,
   "id": "b85d4744",
   "metadata": {},
   "outputs": [],
   "source": [
    "# 반복문을 이용해서 리스트를 간단하게 생성 -> 리스트컴프리헨션\n",
    "numbers = [i for i in range(10)]"
   ]
  },
  {
   "cell_type": "code",
   "execution_count": 105,
   "id": "3712838a",
   "metadata": {},
   "outputs": [
    {
     "data": {
      "text/plain": [
       "[0, 1, 2, 3, 4, 5, 6, 7, 8, 9]"
      ]
     },
     "execution_count": 105,
     "metadata": {},
     "output_type": "execute_result"
    }
   ],
   "source": [
    "num_list= []\n",
    "for i in range(10):\n",
    "    # print(i)\n",
    "    num_list.append(i)\n",
    "num_list"
   ]
  },
  {
   "cell_type": "code",
   "execution_count": null,
   "id": "ec18a111",
   "metadata": {},
   "outputs": [
    {
     "data": {
      "text/plain": [
       "[2, 4, 6, 8, 10, 12, 14, 16, 18, 20]"
      ]
     },
     "execution_count": 107,
     "metadata": {},
     "output_type": "execute_result"
    }
   ],
   "source": [
    "numbers = [i*2 for i in range(1, 10+1)]\n",
    "numbers\n",
    "# (2의 복수)"
   ]
  },
  {
   "cell_type": "code",
   "execution_count": null,
   "id": "cfc84658",
   "metadata": {},
   "outputs": [
    {
     "data": {
      "text/plain": [
       "[2, 4, 6, 8, 10]"
      ]
     },
     "execution_count": 108,
     "metadata": {},
     "output_type": "execute_result"
    }
   ],
   "source": [
    "numbers = [i for i in range(1, 10+1) if i % 2 == 0]\n",
    "numbers\n",
    "# (2의 복수)\n",
    "# 특정 조건 만족 리스트"
   ]
  },
  {
   "cell_type": "code",
   "execution_count": null,
   "id": "ff9d2602",
   "metadata": {},
   "outputs": [],
   "source": [
    "num_list= []\n",
    "for i in range(10):\n",
    "    # print(i)\n",
    "    num_list.append(i)\n",
    "num_list"
   ]
  },
  {
   "cell_type": "code",
   "execution_count": 118,
   "id": "0a68a485",
   "metadata": {},
   "outputs": [
    {
     "name": "stdout",
     "output_type": "stream",
     "text": [
      "1번 학생 합격\n",
      "2번 학생 불합격\n",
      "3번 학생 합격\n",
      "4번 학생 불합격\n",
      "5번 학생 합격\n"
     ]
    }
   ],
   "source": [
    "marks = [90, 25, 67, 45, 80]\n",
    "num = 0\n",
    "\n",
    "for i in marks:\n",
    "    num += 1\n",
    "    if i >= 60:\n",
    "        print(f\"{num}번 학생 합격\")\n",
    "    else:\n",
    "        print(f\"{num}번 학생 불합격\")"
   ]
  },
  {
   "cell_type": "code",
   "execution_count": null,
   "id": "ca760e8c",
   "metadata": {},
   "outputs": [
    {
     "name": "stdout",
     "output_type": "stream",
     "text": [
      "1번 학생 합격\n",
      "2번 학생 불합격\n",
      "3번 학생 합격\n",
      "4번 학생 불합격\n",
      "5번 학생 합격\n"
     ]
    }
   ],
   "source": [
    "marks = [90, 25, 67, 45, 80]\n",
    "\n",
    "for i in range(len(marks)): # i는 5번 반복\n",
    "\n",
    "\n",
    "    if marks[i] >= 60: # i번째 학생의 점수가 60점 이상이면\n",
    "\n",
    "        print(f\"{i+1}번 학생 합격\")\n",
    "    else:\n",
    "        print(f\"{i+1}번 학생 불합격\")"
   ]
  },
  {
   "cell_type": "code",
   "execution_count": 132,
   "id": "719ff16e",
   "metadata": {},
   "outputs": [
    {
     "name": "stdout",
     "output_type": "stream",
     "text": [
      "가나다\n",
      "다람쥐\n",
      "이름\n",
      "패배하셨습니다.\n"
     ]
    }
   ],
   "source": [
    "#끝말 잇기 게임\n",
    "var=\"가나다\"\n",
    "\n",
    "print(var)\n",
    "while True:\n",
    "    answer = input(\"끝말잇기 단어를 입력: \")\n",
    "    print(answer)\n",
    "    #비교하는 루틴\n",
    "    if answer[0] == var[-1]:\n",
    "        var = answer\n",
    "    else:\n",
    "        print(\"패배하셨습니다.\")\n",
    "        break"
   ]
  },
  {
   "cell_type": "code",
   "execution_count": null,
   "id": "e6b1fd51",
   "metadata": {},
   "outputs": [],
   "source": [
    "# numbers = [1,1,3,3,0,1,1] -> [1,3,0,1]\n",
    "# numbers = [4,4,4,3,3] -> [4,3]\n",
    "\n"
   ]
  },
  {
   "cell_type": "code",
   "execution_count": null,
   "id": "ddff3c1f",
   "metadata": {},
   "outputs": [
    {
     "data": {
      "text/plain": [
       "[1, 3, 0, 1]"
      ]
     },
     "execution_count": 141,
     "metadata": {},
     "output_type": "execute_result"
    }
   ],
   "source": [
    "numbers = [1,1,3,3,0,1,1]\n",
    "\n",
    "answer = []\n",
    "comp = numbers[0]\n",
    "answer.append(comp)\n",
    "\n",
    "for i in numbers:\n",
    "    if comp != i: #이전 숫자와 같은지 비교\n",
    "        comp = i # 다르면 비교할 숫자 갱신\n",
    "        answer.append(comp) # 새로운 숫자이므로 리스트에 삽입\n",
    "\n",
    "answer"
   ]
  },
  {
   "cell_type": "code",
   "execution_count": 142,
   "id": "fa19d066",
   "metadata": {},
   "outputs": [
    {
     "data": {
      "text/plain": [
       "[4, 3]"
      ]
     },
     "execution_count": 142,
     "metadata": {},
     "output_type": "execute_result"
    }
   ],
   "source": [
    "numbers = [4,4,4,3,3]\n",
    "\n",
    "answer = []\n",
    "comp = numbers[0]\n",
    "answer.append(comp)\n",
    "\n",
    "for i in numbers:\n",
    "    if comp != i: #이전 숫자와 같은지 비교\n",
    "        comp = i # 다르면 비교할 숫자 갱신\n",
    "        answer.append(comp) # 새로운 숫자이므로 리스트에 삽입\n",
    "\n",
    "answer"
   ]
  },
  {
   "cell_type": "markdown",
   "id": "a66d3ef9",
   "metadata": {},
   "source": [
    "딕셔너리(dictionary)\n",
    "순서가 없는 컬렉션 자료형으로 각각의 요소는 {키 : 값} 형태로 저장됨.\n",
    "(키는 중복할 수 없지만, 값은 중복이 가능함.)"
   ]
  },
  {
   "cell_type": "markdown",
   "id": "49c20cf8",
   "metadata": {},
   "source": [
    "### 딕셔너리"
   ]
  },
  {
   "cell_type": "code",
   "execution_count": 144,
   "id": "fdef7385",
   "metadata": {},
   "outputs": [],
   "source": [
    "student = {'name': 'jimin', 'age': 29, 'hobby': 'game'}"
   ]
  },
  {
   "cell_type": "code",
   "execution_count": null,
   "id": "129b4718",
   "metadata": {},
   "outputs": [
    {
     "data": {
      "text/plain": [
       "dict"
      ]
     },
     "execution_count": 145,
     "metadata": {},
     "output_type": "execute_result"
    }
   ],
   "source": [
    "type(student)"
   ]
  },
  {
   "cell_type": "code",
   "execution_count": 146,
   "id": "53d3344d",
   "metadata": {},
   "outputs": [],
   "source": [
    "mydict = {}\n",
    "mydict = dict()"
   ]
  },
  {
   "cell_type": "code",
   "execution_count": 149,
   "id": "34f49607",
   "metadata": {},
   "outputs": [],
   "source": [
    "student = {'name': 'jimin', 'age': 29, 'hobby': 'game', 'name':'망개'}"
   ]
  },
  {
   "cell_type": "code",
   "execution_count": 155,
   "id": "5fc0bfb0",
   "metadata": {},
   "outputs": [],
   "source": [
    "student = {'name': 'jimin', 'age': 29, 'hobby': 'game', 'nickname':'망개'}"
   ]
  },
  {
   "cell_type": "code",
   "execution_count": 156,
   "id": "712e854a",
   "metadata": {},
   "outputs": [
    {
     "data": {
      "text/plain": [
       "{'name': 'jimin', 'age': 29, 'hobby': 'game', 'nickname': '망개'}"
      ]
     },
     "execution_count": 156,
     "metadata": {},
     "output_type": "execute_result"
    }
   ],
   "source": [
    "student\n",
    "# 에러는 발생하지 않으나 키가 중복될 경우 마지막에 선언된 값으로 덮어씌어짐."
   ]
  },
  {
   "cell_type": "code",
   "execution_count": 157,
   "id": "ade9162d",
   "metadata": {},
   "outputs": [
    {
     "data": {
      "text/plain": [
       "29"
      ]
     },
     "execution_count": 157,
     "metadata": {},
     "output_type": "execute_result"
    }
   ],
   "source": [
    "student['age']"
   ]
  },
  {
   "cell_type": "code",
   "execution_count": 158,
   "id": "e0ff3072",
   "metadata": {},
   "outputs": [
    {
     "data": {
      "text/plain": [
       "dict_keys(['name', 'age', 'hobby', 'nickname'])"
      ]
     },
     "execution_count": 158,
     "metadata": {},
     "output_type": "execute_result"
    }
   ],
   "source": [
    "student.keys()"
   ]
  },
  {
   "cell_type": "code",
   "execution_count": 159,
   "id": "66325b96",
   "metadata": {},
   "outputs": [
    {
     "data": {
      "text/plain": [
       "dict_values(['jimin', 29, 'game', '망개'])"
      ]
     },
     "execution_count": 159,
     "metadata": {},
     "output_type": "execute_result"
    }
   ],
   "source": [
    "student.values()"
   ]
  },
  {
   "cell_type": "code",
   "execution_count": 160,
   "id": "c83ce8f2",
   "metadata": {},
   "outputs": [
    {
     "data": {
      "text/plain": [
       "dict_items([('name', 'jimin'), ('age', 29), ('hobby', 'game'), ('nickname', '망개')])"
      ]
     },
     "execution_count": 160,
     "metadata": {},
     "output_type": "execute_result"
    }
   ],
   "source": [
    "student.items()"
   ]
  },
  {
   "cell_type": "code",
   "execution_count": 161,
   "id": "4d7ddabb",
   "metadata": {},
   "outputs": [
    {
     "name": "stdout",
     "output_type": "stream",
     "text": [
      "name\n",
      "age\n",
      "hobby\n",
      "nickname\n"
     ]
    }
   ],
   "source": [
    "for i in student.keys():\n",
    "    print(i)"
   ]
  },
  {
   "cell_type": "code",
   "execution_count": 162,
   "id": "23806c3d",
   "metadata": {},
   "outputs": [
    {
     "name": "stdout",
     "output_type": "stream",
     "text": [
      "jimin\n",
      "29\n",
      "game\n",
      "망개\n"
     ]
    }
   ],
   "source": [
    "for i in student.values():\n",
    "    print(i)"
   ]
  },
  {
   "cell_type": "code",
   "execution_count": 163,
   "id": "8fb00656",
   "metadata": {},
   "outputs": [
    {
     "name": "stdout",
     "output_type": "stream",
     "text": [
      "('name', 'jimin')\n",
      "('age', 29)\n",
      "('hobby', 'game')\n",
      "('nickname', '망개')\n"
     ]
    }
   ],
   "source": [
    "for i in student.items():\n",
    "    print(i)"
   ]
  },
  {
   "cell_type": "code",
   "execution_count": null,
   "id": "a82c2664",
   "metadata": {},
   "outputs": [],
   "source": [
    "student['nickname'] = '망개떡'"
   ]
  },
  {
   "cell_type": "code",
   "execution_count": 166,
   "id": "20cf54f5",
   "metadata": {},
   "outputs": [],
   "source": [
    "student['addr'] = '서울시 용산구'"
   ]
  },
  {
   "cell_type": "code",
   "execution_count": 167,
   "id": "9c3a3db7",
   "metadata": {},
   "outputs": [
    {
     "data": {
      "text/plain": [
       "{'name': 'jimin',\n",
       " 'age': 29,\n",
       " 'hobby': 'game',\n",
       " 'nickname': '망개떡',\n",
       " 'addr': '서울시 용산구'}"
      ]
     },
     "execution_count": 167,
     "metadata": {},
     "output_type": "execute_result"
    }
   ],
   "source": [
    "student"
   ]
  },
  {
   "cell_type": "code",
   "execution_count": 169,
   "id": "f4f262f6",
   "metadata": {},
   "outputs": [
    {
     "name": "stdout",
     "output_type": "stream",
     "text": [
      "값이 없음\n"
     ]
    }
   ],
   "source": [
    "print(student.get('addr2', \"값이 없음\"))"
   ]
  },
  {
   "cell_type": "code",
   "execution_count": 170,
   "id": "e5d35f4f",
   "metadata": {},
   "outputs": [
    {
     "data": {
      "text/plain": [
       "29"
      ]
     },
     "execution_count": 170,
     "metadata": {},
     "output_type": "execute_result"
    }
   ],
   "source": [
    "student.pop('age')\n",
    "#리스트는 순서가 있는 데이터이나, 딕셔너리는 순서가 없는 데이터"
   ]
  },
  {
   "cell_type": "code",
   "execution_count": 175,
   "id": "9a20e921",
   "metadata": {},
   "outputs": [
    {
     "data": {
      "text/plain": [
       "{'name': 'jimin', 'hobby': 'game', 'nickname': '망개떡', 'addr': '서울시 용산구'}"
      ]
     },
     "execution_count": 175,
     "metadata": {},
     "output_type": "execute_result"
    }
   ],
   "source": [
    "student"
   ]
  },
  {
   "cell_type": "code",
   "execution_count": 178,
   "id": "9e3ab999",
   "metadata": {},
   "outputs": [
    {
     "data": {
      "text/plain": [
       "True"
      ]
     },
     "execution_count": 178,
     "metadata": {},
     "output_type": "execute_result"
    }
   ],
   "source": [
    "'name' in student.keys()"
   ]
  },
  {
   "cell_type": "code",
   "execution_count": 181,
   "id": "05f09798",
   "metadata": {},
   "outputs": [
    {
     "name": "stdout",
     "output_type": "stream",
     "text": [
      "name jimin\n",
      "hobby game\n",
      "nickname 망개떡\n",
      "addr 서울시 용산구\n"
     ]
    }
   ],
   "source": [
    "for i, j in student.items():\n",
    "    print(i, j)"
   ]
  },
  {
   "cell_type": "code",
   "execution_count": null,
   "id": "35df1c17",
   "metadata": {},
   "outputs": [],
   "source": [
    "모스부호  \n",
    "\n",
    " \n",
    "\n",
    "문자열 letter가 주어질 때, letter를 영어 소문자로 바꾼 문자열을 출력 하도록 코드작성 \n",
    "\n",
    " \n",
    "\n",
    "모스부호는 다음과 같습니다. \n",
    "\n",
    "morse = { \n",
    "\n",
    "    '.-':'a','-...':'b','-.-.':'c','-..':'d','.':'e','..-.':'f', \n",
    "\n",
    "    '--.':'g','....':'h','..':'i','.---':'j','-.-':'k','.-..':'l', \n",
    "\n",
    "    '--':'m','-.':'n','---':'o','.--.':'p','--.-':'q','.-.':'r', \n",
    "\n",
    "    '...':'s','-':'t','..-':'u','...-':'v','.--':'w','-..-':'x', \n",
    "\n",
    "    '-.--':'y','--..':'z' \n",
    "\n",
    "} \n",
    "\n",
    " \n",
    "\n",
    "입출력 예 \n",
    "\n",
    "letter  result \n",
    "\n",
    "\".... . .-.. .-.. ---\"  \"hello\" \n",
    "\n",
    "\".--. -.-- - .... --- -.\"   \"python\" "
   ]
  },
  {
   "cell_type": "code",
   "execution_count": 188,
   "id": "66b7552d",
   "metadata": {},
   "outputs": [
    {
     "name": "stdout",
     "output_type": "stream",
     "text": [
      "hello\n"
     ]
    }
   ],
   "source": [
    "#모스부호로 hello python\n",
    "\n",
    "morse = { \n",
    "\n",
    "    '.-':'a','-...':'b','-.-.':'c','-..':'d','.':'e','..-.':'f', \n",
    "\n",
    "    '--.':'g','....':'h','..':'i','.---':'j','-.-':'k','.-..':'l', \n",
    "\n",
    "    '--':'m','-.':'n','---':'o','.--.':'p','--.-':'q','.-.':'r', \n",
    "\n",
    "    '...':'s','-':'t','..-':'u','...-':'v','.--':'w','-..-':'x', \n",
    "\n",
    "    '-.--':'y','--..':'z' \n",
    "\n",
    "} \n",
    "\n",
    "letter = \".... . .-.. .-.. ---\"\n",
    "\n",
    "#코드구현 morse.keys() morse.values() morse.items()\n",
    "\n",
    "a = letter.split()\n",
    "\n",
    "answer =''\n",
    "for i in a:\n",
    "    answer += morse[i]\n",
    "\n",
    "print(answer)\n"
   ]
  },
  {
   "cell_type": "code",
   "execution_count": null,
   "id": "8da82223",
   "metadata": {},
   "outputs": [],
   "source": [
    "#모스부호로 hello python\n",
    "\n",
    "morse = { \n",
    "\n",
    "    '.-':'a','-...':'b','-.-.':'c','-..':'d','.':'e','..-.':'f', \n",
    "\n",
    "    '--.':'g','....':'h','..':'i','.---':'j','-.-':'k','.-..':'l', \n",
    "\n",
    "    '--':'m','-.':'n','---':'o','.--.':'p','--.-':'q','.-.':'r', \n",
    "\n",
    "    '...':'s','-':'t','..-':'u','...-':'v','.--':'w','-..-':'x', \n",
    "\n",
    "    '-.--':'y','--..':'z' \n",
    "\n",
    "} \n",
    "\n",
    "letter = \".... . .-.. .-.. ---\"\n",
    "\n",
    "#코드구현 morse.keys() morse.values() morse.items()\n",
    "\n",
    "a = letter.split()\n",
    "\n",
    "answer =''\n",
    "for i in a:\n",
    "    answer += morse[i]\n",
    "\n",
    "print(answer)"
   ]
  },
  {
   "cell_type": "markdown",
   "id": "09aa8c60",
   "metadata": {},
   "source": [
    "### 튜플 자료형\n",
    "세트(set) {} 중괄호 사용\n",
    "하나의 변수 이름 선언 i={'01', '123', '567'}"
   ]
  },
  {
   "cell_type": "markdown",
   "id": "bf4e4975",
   "metadata": {},
   "source": [
    "### set 자료형 \n",
    "중복을 허용하지 않고, 순서가 없는 데이터 =  집합에 가까움.\n",
    "s = {1, 2, 3, 4, 2, 3}"
   ]
  },
  {
   "cell_type": "code",
   "execution_count": null,
   "id": "238557cf",
   "metadata": {},
   "outputs": [],
   "source": [
    "s = {1, 2, 3, 4, 2, 3}"
   ]
  },
  {
   "cell_type": "code",
   "execution_count": 190,
   "id": "f7344acf",
   "metadata": {},
   "outputs": [
    {
     "data": {
      "text/plain": [
       "set"
      ]
     },
     "execution_count": 190,
     "metadata": {},
     "output_type": "execute_result"
    }
   ],
   "source": [
    "type(s)"
   ]
  },
  {
   "cell_type": "code",
   "execution_count": null,
   "id": "755cc429",
   "metadata": {},
   "outputs": [
    {
     "data": {
      "text/plain": [
       "{1, 2, 3, 4}"
      ]
     },
     "execution_count": 191,
     "metadata": {},
     "output_type": "execute_result"
    }
   ],
   "source": [
    "s\n",
    "# 알아서 중복값을 제거해줌(강력)\n",
    "# 집합 개념을 제공해줌\n",
    "# 인덱싱으로 접근할 수 없음(교집합, 차집함에 주로 사용)"
   ]
  },
  {
   "cell_type": "code",
   "execution_count": 193,
   "id": "8b2f392b",
   "metadata": {},
   "outputs": [],
   "source": [
    "s.add(5)"
   ]
  },
  {
   "cell_type": "code",
   "execution_count": null,
   "id": "a86753e8",
   "metadata": {},
   "outputs": [
    {
     "data": {
      "text/plain": [
       "{1, 2, 3, 4, 5}"
      ]
     },
     "execution_count": 194,
     "metadata": {},
     "output_type": "execute_result"
    }
   ],
   "source": [
    "s\n",
    "# s.pop()을 그대로 사용하면 임으로 삭제됨\n",
    "# 그렇기 때문에 remove를 사용하여 특정 데이터 삭제를 함"
   ]
  },
  {
   "cell_type": "code",
   "execution_count": 195,
   "id": "0833916b",
   "metadata": {},
   "outputs": [],
   "source": [
    "my_list = [1,2,3,5,1,2,3,]"
   ]
  },
  {
   "cell_type": "code",
   "execution_count": 196,
   "id": "fa8638fb",
   "metadata": {},
   "outputs": [
    {
     "data": {
      "text/plain": [
       "[1, 2, 3, 5]"
      ]
     },
     "execution_count": 196,
     "metadata": {},
     "output_type": "execute_result"
    }
   ],
   "source": [
    "list(set(my_list))"
   ]
  },
  {
   "cell_type": "code",
   "execution_count": 197,
   "id": "a9e2fb4d",
   "metadata": {},
   "outputs": [],
   "source": [
    "a = {1,2,3,4}\n",
    "b = {3,4,5,6}"
   ]
  },
  {
   "cell_type": "code",
   "execution_count": null,
   "id": "69bd4b5a",
   "metadata": {},
   "outputs": [
    {
     "data": {
      "text/plain": [
       "{1, 2, 3, 4, 5, 6}"
      ]
     },
     "execution_count": 198,
     "metadata": {},
     "output_type": "execute_result"
    }
   ],
   "source": [
    "a | b # or연산자 (쉬프트 \\) 합집합"
   ]
  },
  {
   "cell_type": "code",
   "execution_count": null,
   "id": "3b645bf9",
   "metadata": {},
   "outputs": [
    {
     "data": {
      "text/plain": [
       "{1, 2, 3, 4, 5, 6}"
      ]
     },
     "execution_count": 199,
     "metadata": {},
     "output_type": "execute_result"
    }
   ],
   "source": [
    "a.union(b) #합집합"
   ]
  },
  {
   "cell_type": "code",
   "execution_count": 200,
   "id": "1ecec2bd",
   "metadata": {},
   "outputs": [
    {
     "data": {
      "text/plain": [
       "{3, 4}"
      ]
     },
     "execution_count": 200,
     "metadata": {},
     "output_type": "execute_result"
    }
   ],
   "source": [
    "a & b # and연산자 (쉬프트 7) 교집합"
   ]
  },
  {
   "cell_type": "code",
   "execution_count": 201,
   "id": "6046d3ff",
   "metadata": {},
   "outputs": [
    {
     "data": {
      "text/plain": [
       "{3, 4}"
      ]
     },
     "execution_count": 201,
     "metadata": {},
     "output_type": "execute_result"
    }
   ],
   "source": [
    "a.intersection(b) #교집합"
   ]
  },
  {
   "cell_type": "code",
   "execution_count": 202,
   "id": "80eaccad",
   "metadata": {},
   "outputs": [
    {
     "data": {
      "text/plain": [
       "{1, 2}"
      ]
     },
     "execution_count": 202,
     "metadata": {},
     "output_type": "execute_result"
    }
   ],
   "source": [
    "a - b #차집합"
   ]
  },
  {
   "cell_type": "code",
   "execution_count": 203,
   "id": "0af3f299",
   "metadata": {},
   "outputs": [
    {
     "data": {
      "text/plain": [
       "{1, 2}"
      ]
     },
     "execution_count": 203,
     "metadata": {},
     "output_type": "execute_result"
    }
   ],
   "source": [
    "a.difference(b) #차집합     "
   ]
  },
  {
   "cell_type": "markdown",
   "id": "24f761b4",
   "metadata": {},
   "source": [
    "### 튜플\n",
    "리스트의 성질을 다 갖고 있은나 초기화 후 편집이 불가함.\n",
    "전체 삭제는 가능하나 일부 삭제는 불가능함."
   ]
  },
  {
   "cell_type": "code",
   "execution_count": 213,
   "id": "5a4029f5",
   "metadata": {},
   "outputs": [],
   "source": [
    "t1 = ()"
   ]
  },
  {
   "cell_type": "code",
   "execution_count": 214,
   "id": "38a145ca",
   "metadata": {},
   "outputs": [],
   "source": [
    "t2 = (1,2,3)"
   ]
  },
  {
   "cell_type": "code",
   "execution_count": 215,
   "id": "7e270c56",
   "metadata": {},
   "outputs": [
    {
     "data": {
      "text/plain": [
       "tuple"
      ]
     },
     "execution_count": 215,
     "metadata": {},
     "output_type": "execute_result"
    }
   ],
   "source": [
    "type(t2)"
   ]
  },
  {
   "cell_type": "code",
   "execution_count": 216,
   "id": "e9df1d5f",
   "metadata": {},
   "outputs": [
    {
     "data": {
      "text/plain": [
       "1"
      ]
     },
     "execution_count": 216,
     "metadata": {},
     "output_type": "execute_result"
    }
   ],
   "source": [
    "t2[0]"
   ]
  },
  {
   "cell_type": "code",
   "execution_count": 217,
   "id": "25d2aa2d",
   "metadata": {},
   "outputs": [
    {
     "ename": "TypeError",
     "evalue": "'tuple' object does not support item assignment",
     "output_type": "error",
     "traceback": [
      "\u001b[31m---------------------------------------------------------------------------\u001b[39m",
      "\u001b[31mTypeError\u001b[39m                                 Traceback (most recent call last)",
      "\u001b[36mCell\u001b[39m\u001b[36m \u001b[39m\u001b[32mIn[217]\u001b[39m\u001b[32m, line 1\u001b[39m\n\u001b[32m----> \u001b[39m\u001b[32m1\u001b[39m \u001b[43mt2\u001b[49m\u001b[43m[\u001b[49m\u001b[32;43m0\u001b[39;49m\u001b[43m]\u001b[49m = \u001b[32m10\u001b[39m\n\u001b[32m      2\u001b[39m \u001b[38;5;66;03m#튜플은 초기화 후 편집이 불가함.\u001b[39;00m\n",
      "\u001b[31mTypeError\u001b[39m: 'tuple' object does not support item assignment"
     ]
    }
   ],
   "source": [
    "t2[0] = 10\n",
    "#튜플은 초기화 후 편집이 불가함."
   ]
  },
  {
   "cell_type": "code",
   "execution_count": null,
   "id": "c6e44be0",
   "metadata": {},
   "outputs": [],
   "source": [
    "t3 =('a', 4, ('ab', 'g'))"
   ]
  },
  {
   "cell_type": "code",
   "execution_count": null,
   "id": "06536ed4",
   "metadata": {},
   "outputs": [],
   "source": [
    "rawdata = ()"
   ]
  },
  {
   "cell_type": "code",
   "execution_count": null,
   "id": "dce8de78",
   "metadata": {},
   "outputs": [],
   "source": [
    "t4 = 1,2,3,4"
   ]
  },
  {
   "cell_type": "code",
   "execution_count": null,
   "id": "b467aa1b",
   "metadata": {},
   "outputs": [
    {
     "data": {
      "text/plain": [
       "tuple"
      ]
     },
     "execution_count": 212,
     "metadata": {},
     "output_type": "execute_result"
    }
   ],
   "source": [
    "type(t4)"
   ]
  },
  {
   "cell_type": "markdown",
   "id": "e371f08e",
   "metadata": {},
   "source": [
    "빼빼로데이 \n",
    "빼빼로의 종류는 6가지 맛('누드초코', '아몬드', '초코', '크런키', '크림치즈', '화이트쿠키')이 있었습니다.\n",
    "이벤트 빼빼로는 한가지 맛에 하나만 구매할 수 있습니다.\n",
    "구매한 빼빼로를 오름차순으로 정렬하여 결과를 나타내 주세요.\n",
    "\n",
    "입력1\n",
    "[\"초코\", \"누드초코\", \"크런키\", \"아몬드\", \"초코\", \"누드초코\", \"아몬드\", \"화이트쿠키\", \"초코\", \"초코\"]\n",
    "\n",
    "출력1\n",
    "['누드초코', '아몬드', '초코', '크런키', '화이트쿠키']"
   ]
  },
  {
   "cell_type": "code",
   "execution_count": 222,
   "id": "ca805989",
   "metadata": {},
   "outputs": [
    {
     "name": "stdout",
     "output_type": "stream",
     "text": [
      "['누드초코', '아몬드', '초코', '크런키', '화이트쿠키']\n"
     ]
    }
   ],
   "source": [
    "pepero = [\"초코\", \"누드초코\", \"크런키\", \"아몬드\", \"초코\", \"누드초코\", \"아몬드\", \"화이트쿠키\", \"초코\", \"초코\"]\n",
    "# 빼빼로 변수 지정\n",
    "result = sorted(set(pepero))\n",
    "# 결과 변수 = 오름차순(중복값 불가(빼빼로 변수))\n",
    "print(result)\n",
    "# 출력 (결과 변수)"
   ]
  },
  {
   "cell_type": "code",
   "execution_count": null,
   "id": "d4fae27e",
   "metadata": {},
   "outputs": [
    {
     "name": "stdout",
     "output_type": "stream",
     "text": [
      "['누드초코', '아몬드', '초코', '크런키', '화이트쿠키']\n"
     ]
    }
   ],
   "source": [
    "pepero = [\"초코\", \"누드초코\", \"크런키\", \"아몬드\", \"초코\", \"누드초코\", \"아몬드\", \"화이트쿠키\", \"초코\", \"초코\"]\n",
    "\n",
    "answer = list(set(pepero))\n",
    "answer.sort()\n",
    "print(answer)\n",
    "\n",
    "#다른 풀이"
   ]
  },
  {
   "cell_type": "markdown",
   "id": "dc3d7842",
   "metadata": {},
   "source": [
    "영단어갯수세기\n",
    "\n",
    "내가 외운 단어의 개수는 몇개일까요?\n",
    "\n",
    "입력1\n",
    "\"culture experience symbol symbol education symbol effect education affair liberty liberty affair\"\n",
    "\n",
    "출력1\n",
    "7"
   ]
  },
  {
   "cell_type": "code",
   "execution_count": 228,
   "id": "749c1b33",
   "metadata": {},
   "outputs": [
    {
     "name": "stdout",
     "output_type": "stream",
     "text": [
      "7\n"
     ]
    }
   ],
   "source": [
    "words = \"culture experience symbol symbol education symbol effect education affair liberty liberty affair\"\n",
    "\n",
    "unique_words = set(words.split())\n",
    "\n",
    "result = len(unique_words)\n",
    "\n",
    "print(result)\n",
    "\n",
    "# 7"
   ]
  },
  {
   "cell_type": "code",
   "execution_count": 231,
   "id": "9d9fd779",
   "metadata": {},
   "outputs": [
    {
     "data": {
      "text/plain": [
       "7"
      ]
     },
     "execution_count": 231,
     "metadata": {},
     "output_type": "execute_result"
    }
   ],
   "source": [
    "words = \"culture experience symbol symbol education symbol effect education affair liberty liberty affair\"\n",
    "\n",
    "len(set(words.split())) #내부적으로 list로 바뀌는 것을 확인\n",
    "\n",
    "\n",
    "# 7"
   ]
  }
 ],
 "metadata": {
  "kernelspec": {
   "display_name": "Python 3",
   "language": "python",
   "name": "python3"
  },
  "language_info": {
   "codemirror_mode": {
    "name": "ipython",
    "version": 3
   },
   "file_extension": ".py",
   "mimetype": "text/x-python",
   "name": "python",
   "nbconvert_exporter": "python",
   "pygments_lexer": "ipython3",
   "version": "3.11.8"
  }
 },
 "nbformat": 4,
 "nbformat_minor": 5
}
