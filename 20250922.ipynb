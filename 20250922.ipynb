{
 "cells": [
  {
   "cell_type": "markdown",
   "id": "a7368b43",
   "metadata": {},
   "source": [
    "### 문자열 자료형\n"
   ]
  },
  {
   "cell_type": "code",
   "execution_count": 1,
   "id": "03cd12a9",
   "metadata": {},
   "outputs": [
    {
     "ename": "NameError",
     "evalue": "name 'i' is not defined",
     "output_type": "error",
     "traceback": [
      "\u001b[31m---------------------------------------------------------------------------\u001b[39m",
      "\u001b[31mNameError\u001b[39m                                 Traceback (most recent call last)",
      "\u001b[36mCell\u001b[39m\u001b[36m \u001b[39m\u001b[32mIn[1]\u001b[39m\u001b[32m, line 4\u001b[39m\n\u001b[32m      1\u001b[39m \u001b[38;5;66;03m#for, while의 경우 탈출 방법 break\u001b[39;00m\n\u001b[32m      2\u001b[39m \u001b[38;5;66;03m#중첩반복문에서의 탈출은 break가 필요하나 전체를 탈출이 가능한 것이 아님.\u001b[39;00m\n\u001b[32m----> \u001b[39m\u001b[32m4\u001b[39m number = \u001b[43mi\u001b[49m * j\n\u001b[32m      6\u001b[39m \u001b[38;5;28;01mfor\u001b[39;00m i \u001b[38;5;129;01min\u001b[39;00m \u001b[38;5;28mrange\u001b[39m(\u001b[32m5\u001b[39m):\n\u001b[32m      7\u001b[39m     \u001b[38;5;28;01mfor\u001b[39;00m j \u001b[38;5;129;01min\u001b[39;00m \u001b[38;5;28mrange\u001b[39m(\u001b[32m5\u001b[39m):\n",
      "\u001b[31mNameError\u001b[39m: name 'i' is not defined"
     ]
    }
   ],
   "source": [
    "#for, while의 경우 탈출 방법 break\n",
    "#중첩반복문에서의 탈출은 break가 필요하나 전체를 탈출이 가능한 것이 아님.\n",
    "\n",
    "number = i * j\n",
    "\n",
    "for i in range(5):\n",
    "    for j in range(5):\n",
    "        print(f\"(i = {i}, j={j})\")\n",
    "        if i == 2 and j == 3:\n",
    "         break\n",
    "    if i == 2 and j == 3:\n",
    "         break\n",
    "\n",
    "print(number)"
   ]
  },
  {
   "cell_type": "markdown",
   "id": "9ac7dde2",
   "metadata": {},
   "source": [
    "## 문자열 인덱싱"
   ]
  },
  {
   "cell_type": "code",
   "execution_count": null,
   "id": "0e037859",
   "metadata": {},
   "outputs": [],
   "source": [
    "my_str = \"Hello, Python\"\n",
    "#양수 인덱싱의 경우 맨앞 0부터 시작함.\n",
    "#음수 인덱싱의 경우 맨뒤 0부터 시작함."
   ]
  },
  {
   "cell_type": "code",
   "execution_count": null,
   "id": "1f90cae5",
   "metadata": {},
   "outputs": [
    {
     "data": {
      "text/plain": [
       "'n'"
      ]
     },
     "execution_count": 14,
     "metadata": {},
     "output_type": "execute_result"
    }
   ],
   "source": [
    "#n 가져오기\n",
    "my_str[-1] #음수 인덱싱"
   ]
  },
  {
   "cell_type": "code",
   "execution_count": null,
   "id": "ad0e9d17",
   "metadata": {},
   "outputs": [
    {
     "data": {
      "text/plain": [
       "'Pyth'"
      ]
     },
     "execution_count": 17,
     "metadata": {},
     "output_type": "execute_result"
    }
   ],
   "source": [
    "my_str[7:11] # 슬라이싱 접근법\n",
    "# [7,8,9,10] 단순 기입의 경우 오류 발생\n",
    "# 끝번호까지 출력하고 싶은 경우 +1 헤야함"
   ]
  },
  {
   "cell_type": "code",
   "execution_count": null,
   "id": "5936f0c4",
   "metadata": {},
   "outputs": [
    {
     "data": {
      "text/plain": [
       "'Python'"
      ]
     },
     "execution_count": 19,
     "metadata": {},
     "output_type": "execute_result"
    }
   ],
   "source": [
    "#슬라이싱 앞뒤 번호를 생략하면 제외된 라인 외 전체를 출력함 \n",
    "my_str[7:]"
   ]
  },
  {
   "cell_type": "code",
   "execution_count": 23,
   "id": "253a2519",
   "metadata": {},
   "outputs": [
    {
     "data": {
      "text/plain": [
       "'nhy olH'"
      ]
     },
     "execution_count": 23,
     "metadata": {},
     "output_type": "execute_result"
    }
   ],
   "source": [
    "#슬라이싱[start:end:step(음수도 가능)]\n",
    "my_str[::-2]"
   ]
  },
  {
   "cell_type": "code",
   "execution_count": null,
   "id": "78d26e0f",
   "metadata": {},
   "outputs": [
    {
     "data": {
      "text/plain": [
       "str"
      ]
     },
     "execution_count": 25,
     "metadata": {},
     "output_type": "execute_result"
    }
   ],
   "source": [
    "type(my_str) # 타입을 알려줌 # 문자열"
   ]
  },
  {
   "cell_type": "code",
   "execution_count": null,
   "id": "7b8a0afc",
   "metadata": {},
   "outputs": [
    {
     "data": {
      "text/plain": [
       "13"
      ]
     },
     "execution_count": 26,
     "metadata": {},
     "output_type": "execute_result"
    }
   ],
   "source": [
    "len(my_str) # 길이를 알려줌 len\n"
   ]
  },
  {
   "cell_type": "code",
   "execution_count": null,
   "id": "1c9ef5bb",
   "metadata": {},
   "outputs": [
    {
     "name": "stdout",
     "output_type": "stream",
     "text": [
      "H\n",
      "e\n",
      "l\n",
      "l\n",
      "o\n",
      ",\n",
      " \n",
      "P\n",
      "y\n",
      "t\n",
      "h\n",
      "o\n",
      "n\n"
     ]
    }
   ],
   "source": [
    "for i in my_str:\n",
    "    print(i) # print(\"Hello\")\n",
    "    #문자열 데이터도 이터러블로 동작함."
   ]
  },
  {
   "cell_type": "code",
   "execution_count": null,
   "id": "0f4a09ba",
   "metadata": {},
   "outputs": [
    {
     "name": "stdout",
     "output_type": "stream",
     "text": [
      "H\n",
      "e\n",
      "l\n",
      "l\n",
      "o\n",
      ",\n",
      " \n",
      "P\n",
      "y\n",
      "t\n",
      "h\n",
      "o\n",
      "n\n"
     ]
    }
   ],
   "source": [
    "for i in range(len(my_str)):\n",
    "    print(my_str[i])\n",
    "#같은 결과를 반복문으로도 만들 수 있음."
   ]
  },
  {
   "cell_type": "code",
   "execution_count": null,
   "id": "390bc595",
   "metadata": {},
   "outputs": [
    {
     "data": {
      "text/plain": [
       "'hello, python'"
      ]
     },
     "execution_count": 32,
     "metadata": {},
     "output_type": "execute_result"
    }
   ],
   "source": [
    "# 문자열, 데이터의 여러가지 기능들\n",
    " \n",
    "my_str.lower() \n",
    "# 전체 문자열을 소문자로 바꾸는 메소드"
   ]
  },
  {
   "cell_type": "code",
   "execution_count": null,
   "id": "f5eaaded",
   "metadata": {},
   "outputs": [
    {
     "data": {
      "text/plain": [
       "'HELLO, PYTHON'"
      ]
     },
     "execution_count": 33,
     "metadata": {},
     "output_type": "execute_result"
    }
   ],
   "source": [
    "my_str.upper()\n",
    "# 전체 문자열을 대문자로 바꾸는 메소드"
   ]
  },
  {
   "cell_type": "code",
   "execution_count": null,
   "id": "05ff7b4c",
   "metadata": {},
   "outputs": [
    {
     "name": "stdout",
     "output_type": "stream",
     "text": [
      "['Hello', ' Python']\n"
     ]
    }
   ],
   "source": [
    "words = my_str.split(\",\")\n",
    "print(words)\n",
    "# 문자열을 쪼개는 메소드"
   ]
  },
  {
   "cell_type": "markdown",
   "id": "a3a17752",
   "metadata": {},
   "source": [
    "### 자료형"
   ]
  },
  {
   "cell_type": "code",
   "execution_count": null,
   "id": "165608ce",
   "metadata": {},
   "outputs": [],
   "source": [
    "# 자료형: 프로그래밍을 할 때 쓰이는 숫자, 문자열 등 자료 형태로 사용하는 모든 것\n",
    "# 매번 요소에 따라 선언해야 하는 번거로움이 있음을 해결하기 위해서\n",
    "# 컬렉션 자료형 : 여러 개의 요소를 하나로 묶어 사용하는 자료형\n",
    "\n",
    "# 리스트 (list)\n",
    "# 딕셔너리 (dictionery)"
   ]
  },
  {
   "cell_type": "markdown",
   "id": "8aa6e94c",
   "metadata": {},
   "source": [
    "### 컬렉션 자료형"
   ]
  },
  {
   "cell_type": "markdown",
   "id": "a2791ecc",
   "metadata": {},
   "source": [
    "리스트 : 리스트 : 복수의 데이터 형태를 순서대로 저장하고 조작하는 기본 자료형"
   ]
  },
  {
   "cell_type": "code",
   "execution_count": 40,
   "id": "d2efaa8f",
   "metadata": {},
   "outputs": [],
   "source": [
    "numbers = [1,2,3,4,5]"
   ]
  },
  {
   "cell_type": "code",
   "execution_count": 41,
   "id": "b5f5095f",
   "metadata": {},
   "outputs": [],
   "source": [
    "fruits = [\"apple\", \"banana\", \"mango\"]"
   ]
  },
  {
   "cell_type": "code",
   "execution_count": 44,
   "id": "4a3aa13f",
   "metadata": {},
   "outputs": [],
   "source": [
    "numbers1 = [1,2,3,4,5]\n",
    "numbers2 = [6,7,8,9,10]"
   ]
  },
  {
   "cell_type": "code",
   "execution_count": 48,
   "id": "581a1bd4",
   "metadata": {},
   "outputs": [
    {
     "data": {
      "text/plain": [
       "[1, 2, 3, 4, 5, 6, 7, 8, 9, 10]"
      ]
     },
     "execution_count": 48,
     "metadata": {},
     "output_type": "execute_result"
    }
   ],
   "source": [
    "numbers1 + numbers2\n",
    "#연결연산자가 됨"
   ]
  },
  {
   "cell_type": "code",
   "execution_count": null,
   "id": "2de8db3e",
   "metadata": {},
   "outputs": [
    {
     "data": {
      "text/plain": [
       "[1, 2, 3, 4, 5, 1, 2, 3, 4, 5, 1, 2, 3, 4, 5]"
      ]
     },
     "execution_count": 47,
     "metadata": {},
     "output_type": "execute_result"
    }
   ],
   "source": [
    "numbers1 * 3\n",
    "# 반복연산자로도 동작함."
   ]
  },
  {
   "cell_type": "code",
   "execution_count": 42,
   "id": "f33a5111",
   "metadata": {},
   "outputs": [],
   "source": [
    "mixed = [1, \"apple\", True, [10, 20, 30 ]]"
   ]
  },
  {
   "cell_type": "code",
   "execution_count": 37,
   "id": "6f655714",
   "metadata": {},
   "outputs": [
    {
     "data": {
      "text/plain": [
       "list"
      ]
     },
     "execution_count": 37,
     "metadata": {},
     "output_type": "execute_result"
    }
   ],
   "source": [
    "type(numbers)"
   ]
  },
  {
   "cell_type": "code",
   "execution_count": null,
   "id": "209673da",
   "metadata": {},
   "outputs": [
    {
     "data": {
      "text/plain": [
       "'mango'"
      ]
     },
     "execution_count": 50,
     "metadata": {},
     "output_type": "execute_result"
    }
   ],
   "source": [
    "fruits[-1] \n",
    "# 인덱싱 접근으로 데이터를 가져오는 것도 가능"
   ]
  },
  {
   "cell_type": "code",
   "execution_count": 54,
   "id": "aa132cdc",
   "metadata": {},
   "outputs": [
    {
     "data": {
      "text/plain": [
       "['apple', 'banana', 'mango']"
      ]
     },
     "execution_count": 54,
     "metadata": {},
     "output_type": "execute_result"
    }
   ],
   "source": [
    "fruits[:3] "
   ]
  },
  {
   "cell_type": "code",
   "execution_count": null,
   "id": "39a1db98",
   "metadata": {},
   "outputs": [],
   "source": [
    "fruits[0] = \"grape\" \n",
    "# 새로운 데이터 수정"
   ]
  },
  {
   "cell_type": "code",
   "execution_count": null,
   "id": "1be71e6d",
   "metadata": {},
   "outputs": [
    {
     "data": {
      "text/plain": [
       "['grape', 'banana', 'mango']"
      ]
     },
     "execution_count": 56,
     "metadata": {},
     "output_type": "execute_result"
    }
   ],
   "source": [
    "fruits\n",
    "#새로운 값 변경\n",
    "#하지만 없는 인덱스 번호로는 적용 불가"
   ]
  },
  {
   "cell_type": "code",
   "execution_count": null,
   "id": "bc57ba3c",
   "metadata": {},
   "outputs": [],
   "source": [
    "fruits.append(\"cherry\")\n",
    "# append는 맨뒤에 추가"
   ]
  },
  {
   "cell_type": "code",
   "execution_count": 58,
   "id": "3be1a2e5",
   "metadata": {},
   "outputs": [
    {
     "data": {
      "text/plain": [
       "['grape', 'banana', 'mango', 'cherry']"
      ]
     },
     "execution_count": 58,
     "metadata": {},
     "output_type": "execute_result"
    }
   ],
   "source": [
    "fruits"
   ]
  },
  {
   "cell_type": "code",
   "execution_count": null,
   "id": "d6f9a206",
   "metadata": {},
   "outputs": [],
   "source": [
    "fruits.insert(2, \"kiwi\")\n",
    "# 특정 위치 삽입 추가"
   ]
  },
  {
   "cell_type": "code",
   "execution_count": 62,
   "id": "b203cae5",
   "metadata": {},
   "outputs": [
    {
     "data": {
      "text/plain": [
       "['grape', 'banana', 'kiwi', 'mango', 'cherry']"
      ]
     },
     "execution_count": 62,
     "metadata": {},
     "output_type": "execute_result"
    }
   ],
   "source": [
    "fruits"
   ]
  },
  {
   "cell_type": "code",
   "execution_count": null,
   "id": "d22ceeac",
   "metadata": {},
   "outputs": [],
   "source": [
    "fruits.extend([\"orange\", \"date\"])\n",
    "# extend 리스트에 여러 개의 항목을 한 번에 추가할 때 사용하는 메서드\n"
   ]
  },
  {
   "cell_type": "code",
   "execution_count": 64,
   "id": "6400c30b",
   "metadata": {},
   "outputs": [
    {
     "data": {
      "text/plain": [
       "['grape', 'banana', 'kiwi', 'mango', 'cherry', 'orange', 'date']"
      ]
     },
     "execution_count": 64,
     "metadata": {},
     "output_type": "execute_result"
    }
   ],
   "source": [
    "fruits"
   ]
  },
  {
   "cell_type": "code",
   "execution_count": null,
   "id": "ebd046c3",
   "metadata": {},
   "outputs": [
    {
     "data": {
      "text/plain": [
       "'orange'"
      ]
     },
     "execution_count": 66,
     "metadata": {},
     "output_type": "execute_result"
    }
   ],
   "source": [
    "fruits.pop()\n",
    "# 맨뒤 값 제거 \n",
    "# 2번 실행함"
   ]
  },
  {
   "cell_type": "code",
   "execution_count": null,
   "id": "91fbc1bb",
   "metadata": {},
   "outputs": [
    {
     "data": {
      "text/plain": [
       "['grape', 'banana', 'kiwi', 'mango', 'cherry']"
      ]
     },
     "execution_count": 67,
     "metadata": {},
     "output_type": "execute_result"
    }
   ],
   "source": [
    "fruits"
   ]
  },
  {
   "cell_type": "code",
   "execution_count": null,
   "id": "2e483256",
   "metadata": {},
   "outputs": [],
   "source": [
    "fruits.remove(\"cherry\")\n",
    "# 특정 값 지정 제거"
   ]
  },
  {
   "cell_type": "code",
   "execution_count": 75,
   "id": "7a77c6d3",
   "metadata": {},
   "outputs": [],
   "source": [
    "fruits.remove(\"kiwi\")"
   ]
  },
  {
   "cell_type": "code",
   "execution_count": 69,
   "id": "13222213",
   "metadata": {},
   "outputs": [
    {
     "data": {
      "text/plain": [
       "['grape', 'banana', 'kiwi', 'mango']"
      ]
     },
     "execution_count": 69,
     "metadata": {},
     "output_type": "execute_result"
    }
   ],
   "source": [
    "fruits"
   ]
  },
  {
   "cell_type": "code",
   "execution_count": null,
   "id": "e5224365",
   "metadata": {},
   "outputs": [
    {
     "data": {
      "text/plain": [
       "0"
      ]
     },
     "execution_count": 70,
     "metadata": {},
     "output_type": "execute_result"
    }
   ],
   "source": [
    "fruits.index(\"grape\")\n",
    "#인덱스 위치 확인하기"
   ]
  },
  {
   "cell_type": "code",
   "execution_count": null,
   "id": "110622ff",
   "metadata": {},
   "outputs": [
    {
     "data": {
      "text/plain": [
       "1"
      ]
     },
     "execution_count": 71,
     "metadata": {},
     "output_type": "execute_result"
    }
   ],
   "source": [
    "fruits.count(\"grape\")\n",
    "#몇 번 등장하는지 세는 메서드"
   ]
  },
  {
   "cell_type": "code",
   "execution_count": null,
   "id": "3023abc1",
   "metadata": {},
   "outputs": [
    {
     "data": {
      "text/plain": [
       "4"
      ]
     },
     "execution_count": 72,
     "metadata": {},
     "output_type": "execute_result"
    }
   ],
   "source": [
    "len(fruits)\n",
    "# ()안에 있는 항목의 개수"
   ]
  },
  {
   "cell_type": "code",
   "execution_count": 79,
   "id": "100751b8",
   "metadata": {},
   "outputs": [],
   "source": [
    "fruits.append(\"apple\")"
   ]
  },
  {
   "cell_type": "code",
   "execution_count": 74,
   "id": "07fa3a57",
   "metadata": {},
   "outputs": [
    {
     "data": {
      "text/plain": [
       "['grape', 'banana', 'kiwi', 'mango', 'apple']"
      ]
     },
     "execution_count": 74,
     "metadata": {},
     "output_type": "execute_result"
    }
   ],
   "source": [
    "fruits"
   ]
  },
  {
   "cell_type": "code",
   "execution_count": 80,
   "id": "53c64d9d",
   "metadata": {},
   "outputs": [],
   "source": [
    "fruits.sort()\n",
    "# 리스트 안의 항목들을 오름차순으로 정렬"
   ]
  },
  {
   "cell_type": "code",
   "execution_count": 81,
   "id": "681f17f8",
   "metadata": {},
   "outputs": [
    {
     "data": {
      "text/plain": [
       "['apple', 'apple', 'banana', 'grape', 'mango']"
      ]
     },
     "execution_count": 81,
     "metadata": {},
     "output_type": "execute_result"
    }
   ],
   "source": [
    "fruits"
   ]
  },
  {
   "cell_type": "code",
   "execution_count": null,
   "id": "26ad8965",
   "metadata": {},
   "outputs": [],
   "source": [
    "fruits.sort(reverse = True)\n",
    "#내림차순"
   ]
  },
  {
   "cell_type": "code",
   "execution_count": 83,
   "id": "24c5b36c",
   "metadata": {},
   "outputs": [
    {
     "data": {
      "text/plain": [
       "['mango', 'grape', 'banana', 'apple', 'apple']"
      ]
     },
     "execution_count": 83,
     "metadata": {},
     "output_type": "execute_result"
    }
   ],
   "source": [
    "fruits"
   ]
  },
  {
   "cell_type": "code",
   "execution_count": 85,
   "id": "ec58b61d",
   "metadata": {},
   "outputs": [],
   "source": [
    "fruits.reverse()"
   ]
  },
  {
   "cell_type": "code",
   "execution_count": 86,
   "id": "5cd01939",
   "metadata": {},
   "outputs": [
    {
     "data": {
      "text/plain": [
       "['apple', 'apple', 'banana', 'grape', 'mango']"
      ]
     },
     "execution_count": 86,
     "metadata": {},
     "output_type": "execute_result"
    }
   ],
   "source": [
    "fruits"
   ]
  },
  {
   "cell_type": "code",
   "execution_count": 87,
   "id": "d0e5ea91",
   "metadata": {},
   "outputs": [],
   "source": [
    "fruits = [\"apple\", \"banana\", \"mango\", \"cherry\"]"
   ]
  },
  {
   "cell_type": "code",
   "execution_count": 89,
   "id": "7a22d9cc",
   "metadata": {},
   "outputs": [
    {
     "name": "stdout",
     "output_type": "stream",
     "text": [
      "apple\n",
      "banana\n",
      "mango\n",
      "cherry\n"
     ]
    }
   ],
   "source": [
    "for i in fruits:\n",
    "    print(i)"
   ]
  },
  {
   "cell_type": "code",
   "execution_count": 91,
   "id": "0ecbd72a",
   "metadata": {},
   "outputs": [
    {
     "name": "stdout",
     "output_type": "stream",
     "text": [
      "0번째 과일apple\n",
      "1번째 과일banana\n",
      "2번째 과일mango\n",
      "3번째 과일cherry\n"
     ]
    }
   ],
   "source": [
    "for i in range(len(fruits)):\n",
    "    print(f\"{i}번째 과일{fruits[i]}\")"
   ]
  },
  {
   "cell_type": "code",
   "execution_count": 92,
   "id": "aca957e8",
   "metadata": {},
   "outputs": [],
   "source": [
    "numbers = [10,20,30,40,50]"
   ]
  },
  {
   "cell_type": "code",
   "execution_count": 93,
   "id": "6a3cb452",
   "metadata": {},
   "outputs": [
    {
     "data": {
      "text/plain": [
       "5"
      ]
     },
     "execution_count": 93,
     "metadata": {},
     "output_type": "execute_result"
    }
   ],
   "source": [
    "len(numbers)"
   ]
  },
  {
   "cell_type": "code",
   "execution_count": null,
   "id": "eb29bfba",
   "metadata": {},
   "outputs": [
    {
     "data": {
      "text/plain": [
       "50"
      ]
     },
     "execution_count": 94,
     "metadata": {},
     "output_type": "execute_result"
    }
   ],
   "source": [
    "max(numbers)\n",
    "# 내장함수 동작이 훨씬 빠름\n",
    "# 큰 값을 찾아주는 기능"
   ]
  },
  {
   "cell_type": "code",
   "execution_count": null,
   "id": "005a9a70",
   "metadata": {},
   "outputs": [
    {
     "data": {
      "text/plain": [
       "10"
      ]
     },
     "execution_count": 96,
     "metadata": {},
     "output_type": "execute_result"
    }
   ],
   "source": [
    "min(numbers)\n",
    "# 내장함수 동작이 훨씬 빠름\n",
    "# 작은 값을 찾아주는 기능"
   ]
  },
  {
   "cell_type": "code",
   "execution_count": null,
   "id": "acd18ee3",
   "metadata": {},
   "outputs": [
    {
     "data": {
      "text/plain": [
       "30.0"
      ]
     },
     "execution_count": 97,
     "metadata": {},
     "output_type": "execute_result"
    }
   ],
   "source": [
    "#평균값\n",
    "#avg는 지원 안 함\n",
    "sum(numbers)/len(numbers)"
   ]
  },
  {
   "cell_type": "code",
   "execution_count": 99,
   "id": "b85d4744",
   "metadata": {},
   "outputs": [],
   "source": [
    "# 반복문을 이용해서 리스트를 간단하게 생성 -> 리스트컴프리헨션\n",
    "numbers = [i for i in range(10)]"
   ]
  },
  {
   "cell_type": "code",
   "execution_count": 105,
   "id": "3712838a",
   "metadata": {},
   "outputs": [
    {
     "data": {
      "text/plain": [
       "[0, 1, 2, 3, 4, 5, 6, 7, 8, 9]"
      ]
     },
     "execution_count": 105,
     "metadata": {},
     "output_type": "execute_result"
    }
   ],
   "source": [
    "num_list= []\n",
    "for i in range(10):\n",
    "    # print(i)\n",
    "    num_list.append(i)\n",
    "num_list"
   ]
  },
  {
   "cell_type": "code",
   "execution_count": null,
   "id": "ec18a111",
   "metadata": {},
   "outputs": [
    {
     "data": {
      "text/plain": [
       "[2, 4, 6, 8, 10, 12, 14, 16, 18, 20]"
      ]
     },
     "execution_count": 107,
     "metadata": {},
     "output_type": "execute_result"
    }
   ],
   "source": [
    "numbers = [i*2 for i in range(1, 10+1)]\n",
    "numbers\n",
    "# (2의 복수)"
   ]
  },
  {
   "cell_type": "code",
   "execution_count": null,
   "id": "cfc84658",
   "metadata": {},
   "outputs": [
    {
     "data": {
      "text/plain": [
       "[2, 4, 6, 8, 10]"
      ]
     },
     "execution_count": 108,
     "metadata": {},
     "output_type": "execute_result"
    }
   ],
   "source": [
    "numbers = [i for i in range(1, 10+1) if i % 2 == 0]\n",
    "numbers\n",
    "# (2의 복수)\n",
    "# 특정 조건 만족 리스트"
   ]
  },
  {
   "cell_type": "code",
   "execution_count": null,
   "id": "ff9d2602",
   "metadata": {},
   "outputs": [],
   "source": [
    "num_list= []\n",
    "for i in range(10):\n",
    "    # print(i)\n",
    "    num_list.append(i)\n",
    "num_list"
   ]
  },
  {
   "cell_type": "code",
   "execution_count": 118,
   "id": "0a68a485",
   "metadata": {},
   "outputs": [
    {
     "name": "stdout",
     "output_type": "stream",
     "text": [
      "1번 학생 합격\n",
      "2번 학생 불합격\n",
      "3번 학생 합격\n",
      "4번 학생 불합격\n",
      "5번 학생 합격\n"
     ]
    }
   ],
   "source": [
    "marks = [90, 25, 67, 45, 80]\n",
    "num = 0\n",
    "\n",
    "for i in marks:\n",
    "    num += 1\n",
    "    if i >= 60:\n",
    "        print(f\"{num}번 학생 합격\")\n",
    "    else:\n",
    "        print(f\"{num}번 학생 불합격\")"
   ]
  },
  {
   "cell_type": "code",
   "execution_count": null,
   "id": "ca760e8c",
   "metadata": {},
   "outputs": [
    {
     "name": "stdout",
     "output_type": "stream",
     "text": [
      "1번 학생 합격\n",
      "2번 학생 불합격\n",
      "3번 학생 합격\n",
      "4번 학생 불합격\n",
      "5번 학생 합격\n"
     ]
    }
   ],
   "source": [
    "marks = [90, 25, 67, 45, 80]\n",
    "\n",
    "for i in range(len(marks)): # i는 5번 반복\n",
    "\n",
    "\n",
    "    if marks[i] >= 60: # i번째 학생의 점수가 60점 이상이면\n",
    "\n",
    "        print(f\"{i+1}번 학생 합격\")\n",
    "    else:\n",
    "        print(f\"{i+1}번 학생 불합격\")"
   ]
  },
  {
   "cell_type": "code",
   "execution_count": 132,
   "id": "719ff16e",
   "metadata": {},
   "outputs": [
    {
     "name": "stdout",
     "output_type": "stream",
     "text": [
      "가나다\n",
      "다람쥐\n",
      "이름\n",
      "패배하셨습니다.\n"
     ]
    }
   ],
   "source": [
    "#끝말 잇기 게임\n",
    "var=\"가나다\"\n",
    "\n",
    "print(var)\n",
    "while True:\n",
    "    answer = input(\"끝말잇기 단어를 입력: \")\n",
    "    print(answer)\n",
    "    #비교하는 루틴\n",
    "    if answer[0] == var[-1]:\n",
    "        var = answer\n",
    "    else:\n",
    "        print(\"패배하셨습니다.\")\n",
    "        break"
   ]
  },
  {
   "cell_type": "markdown",
   "id": "d4d210b3",
   "metadata": {},
   "source": []
  }
 ],
 "metadata": {
  "kernelspec": {
   "display_name": "Python 3",
   "language": "python",
   "name": "python3"
  },
  "language_info": {
   "codemirror_mode": {
    "name": "ipython",
    "version": 3
   },
   "file_extension": ".py",
   "mimetype": "text/x-python",
   "name": "python",
   "nbconvert_exporter": "python",
   "pygments_lexer": "ipython3",
   "version": "3.11.8"
  }
 },
 "nbformat": 4,
 "nbformat_minor": 5
}
