{
 "cells": [
  {
   "cell_type": "markdown",
   "id": "2489fc14",
   "metadata": {},
   "source": [
    "2025-09-19"
   ]
  },
  {
   "cell_type": "code",
   "execution_count": null,
   "id": "b989116a",
   "metadata": {},
   "outputs": [
    {
     "name": "stdout",
     "output_type": "stream",
     "text": [
      "안녕 이제 파이썬을 시작하려고 해\n"
     ]
    }
   ],
   "source": [
    "print(\"안녕 이제 파이썬을 시작하려고 해\")"
   ]
  },
  {
   "cell_type": "code",
   "execution_count": null,
   "id": "aa88d839",
   "metadata": {},
   "outputs": [
    {
     "data": {
      "text/plain": [
       "(True, False)"
      ]
     },
     "metadata": {},
     "output_type": "display_data"
    }
   ],
   "source": [
    "\"Hello\" # 문자열 데이터 string\n",
    "'Hello' # \"\", ''로 감싼 경우는 문자열 데이터됨\n",
    "\n",
    "123 #숫자 데이터, 정수형 데이터 integer\n",
    "36.5 # (소수점)실수형 데이터 float\n",
    "True, False # 논리데이터 참, 거짓 boolean"
   ]
  },
  {
   "cell_type": "code",
   "execution_count": null,
   "id": "67dec509",
   "metadata": {},
   "outputs": [
    {
     "name": "stdout",
     "output_type": "stream",
     "text": [
      "29\n"
     ]
    }
   ],
   "source": [
    "print(29)"
   ]
  },
  {
   "cell_type": "code",
   "execution_count": null,
   "id": "6b124531",
   "metadata": {},
   "outputs": [
    {
     "name": "stdout",
     "output_type": "stream",
     "text": [
      "20\n"
     ]
    }
   ],
   "source": [
    "print(10+10)"
   ]
  },
  {
   "cell_type": "code",
   "execution_count": null,
   "id": "f2178d96",
   "metadata": {},
   "outputs": [
    {
     "name": "stdout",
     "output_type": "stream",
     "text": [
      "10+10\n"
     ]
    }
   ],
   "source": [
    "print(\"10+10\")"
   ]
  },
  {
   "cell_type": "code",
   "execution_count": null,
   "id": "790e9d1c",
   "metadata": {},
   "outputs": [
    {
     "data": {
      "text/plain": [
       "10"
      ]
     },
     "metadata": {},
     "output_type": "display_data"
    }
   ],
   "source": [
    "10"
   ]
  },
  {
   "cell_type": "code",
   "execution_count": null,
   "id": "84682d20",
   "metadata": {},
   "outputs": [
    {
     "data": {
      "text/plain": [
       "str"
      ]
     },
     "metadata": {},
     "output_type": "display_data"
    }
   ],
   "source": [
    "type('Hello world')"
   ]
  },
  {
   "cell_type": "code",
   "execution_count": null,
   "id": "56152529",
   "metadata": {},
   "outputs": [
    {
     "data": {
      "text/plain": [
       "str"
      ]
     },
     "metadata": {},
     "output_type": "display_data"
    }
   ],
   "source": [
    "type('100')"
   ]
  },
  {
   "cell_type": "code",
   "execution_count": null,
   "id": "7a3c80f6",
   "metadata": {},
   "outputs": [
    {
     "data": {
      "text/plain": [
       "int"
      ]
     },
     "metadata": {},
     "output_type": "display_data"
    }
   ],
   "source": [
    "type(100)"
   ]
  },
  {
   "cell_type": "code",
   "execution_count": null,
   "id": "32e81ded",
   "metadata": {},
   "outputs": [
    {
     "data": {
      "text/plain": [
       "float"
      ]
     },
     "metadata": {},
     "output_type": "display_data"
    }
   ],
   "source": [
    "type(3.14)"
   ]
  },
  {
   "cell_type": "code",
   "execution_count": null,
   "id": "6c20d43b",
   "metadata": {},
   "outputs": [
    {
     "data": {
      "text/plain": [
       "bool"
      ]
     },
     "metadata": {},
     "output_type": "display_data"
    }
   ],
   "source": [
    "type(False)"
   ]
  },
  {
   "cell_type": "markdown",
   "id": "bbfd9b0c",
   "metadata": {},
   "source": [
    "변수"
   ]
  },
  {
   "cell_type": "code",
   "execution_count": null,
   "id": "f9c7760c",
   "metadata": {},
   "outputs": [],
   "source": [
    "mynumber = 100"
   ]
  },
  {
   "cell_type": "code",
   "execution_count": null,
   "id": "cef77760",
   "metadata": {},
   "outputs": [
    {
     "data": {
      "text/plain": [
       "100"
      ]
     },
     "metadata": {},
     "output_type": "display_data"
    }
   ],
   "source": [
    "mynumber"
   ]
  },
  {
   "cell_type": "code",
   "execution_count": null,
   "id": "8e8bea58",
   "metadata": {},
   "outputs": [
    {
     "data": {
      "text/plain": [
       "110"
      ]
     },
     "metadata": {},
     "output_type": "display_data"
    }
   ],
   "source": [
    "mynumber + 10"
   ]
  },
  {
   "cell_type": "code",
   "execution_count": null,
   "id": "eb32d45d",
   "metadata": {},
   "outputs": [
    {
     "data": {
      "text/plain": [
       "int"
      ]
     },
     "metadata": {},
     "output_type": "display_data"
    }
   ],
   "source": [
    "type(mynumber)"
   ]
  },
  {
   "cell_type": "markdown",
   "id": "3947c642",
   "metadata": {},
   "source": [
    "연산자"
   ]
  },
  {
   "cell_type": "code",
   "execution_count": null,
   "id": "e30711d5",
   "metadata": {},
   "outputs": [],
   "source": [
    "num1 = 2\n",
    "num2 = 5"
   ]
  },
  {
   "cell_type": "markdown",
   "id": "951d0889",
   "metadata": {},
   "source": [
    "+, -, *, /, //, %, **"
   ]
  },
  {
   "cell_type": "code",
   "execution_count": null,
   "id": "72799577",
   "metadata": {},
   "outputs": [
    {
     "data": {
      "text/plain": [
       "7"
      ]
     },
     "metadata": {},
     "output_type": "display_data"
    }
   ],
   "source": [
    "num1 + num2"
   ]
  },
  {
   "cell_type": "code",
   "execution_count": null,
   "id": "4f40ca99",
   "metadata": {},
   "outputs": [
    {
     "data": {
      "text/plain": [
       "-3"
      ]
     },
     "metadata": {},
     "output_type": "display_data"
    }
   ],
   "source": [
    "num1 - num2"
   ]
  },
  {
   "cell_type": "code",
   "execution_count": null,
   "id": "73f5c14c",
   "metadata": {},
   "outputs": [
    {
     "data": {
      "text/plain": [
       "10"
      ]
     },
     "metadata": {},
     "output_type": "display_data"
    }
   ],
   "source": [
    "num1 * num2"
   ]
  },
  {
   "cell_type": "code",
   "execution_count": null,
   "id": "32a8275e",
   "metadata": {},
   "outputs": [
    {
     "data": {
      "text/plain": [
       "0.4"
      ]
     },
     "metadata": {},
     "output_type": "display_data"
    }
   ],
   "source": [
    "num1 / num2"
   ]
  },
  {
   "cell_type": "code",
   "execution_count": null,
   "id": "31a63a91",
   "metadata": {},
   "outputs": [
    {
     "data": {
      "text/plain": [
       "0"
      ]
     },
     "metadata": {},
     "output_type": "display_data"
    }
   ],
   "source": [
    "num1 // num2 # 몫"
   ]
  },
  {
   "cell_type": "code",
   "execution_count": null,
   "id": "4fba367e",
   "metadata": {},
   "outputs": [
    {
     "data": {
      "text/plain": [
       "2"
      ]
     },
     "metadata": {},
     "output_type": "display_data"
    }
   ],
   "source": [
    "num1 % num2 # 나머지"
   ]
  },
  {
   "cell_type": "code",
   "execution_count": null,
   "id": "b21c9132",
   "metadata": {},
   "outputs": [
    {
     "data": {
      "text/plain": [
       "32"
      ]
     },
     "metadata": {},
     "output_type": "display_data"
    }
   ],
   "source": [
    "num1 ** num2 #거듭제곱"
   ]
  },
  {
   "cell_type": "code",
   "execution_count": null,
   "id": "df5c1eb1",
   "metadata": {},
   "outputs": [],
   "source": [
    "str1 = \"Hello\"\n",
    "str2 = \"World\""
   ]
  },
  {
   "cell_type": "code",
   "execution_count": null,
   "id": "4b5a1b81",
   "metadata": {},
   "outputs": [
    {
     "data": {
      "text/plain": [
       "'HelloWorld'"
      ]
     },
     "metadata": {},
     "output_type": "display_data"
    }
   ],
   "source": [
    "str1 + str2 # 연결 연산자가 됨"
   ]
  },
  {
   "cell_type": "code",
   "execution_count": null,
   "id": "aeb4c83c",
   "metadata": {},
   "outputs": [
    {
     "data": {
      "text/plain": [
       "'HelloHello'"
      ]
     },
     "metadata": {},
     "output_type": "display_data"
    }
   ],
   "source": [
    "str1 * num1"
   ]
  },
  {
   "cell_type": "code",
   "execution_count": null,
   "id": "7465a91f",
   "metadata": {},
   "outputs": [
    {
     "data": {
      "text/plain": [
       "'HelloHello'"
      ]
     },
     "metadata": {},
     "output_type": "display_data"
    }
   ],
   "source": [
    "num1 * str1"
   ]
  },
  {
   "cell_type": "code",
   "execution_count": null,
   "id": "1e4fa435",
   "metadata": {},
   "outputs": [
    {
     "ename": "TypeError",
     "evalue": "can only concatenate str (not \"int\") to str",
     "output_type": "error",
     "traceback": [
      "\u001b[31m---------------------------------------------------------------------------\u001b[39m\n",
      "\u001b[31mTypeError\u001b[39m                                 Traceback (most recent call last)\n",
      "\u001b[36mCell\u001b[39m\u001b[36m \u001b[39m\u001b[32mIn[78]\u001b[39m\u001b[32m, line 1\u001b[39m\n",
      "\u001b[32m----> \u001b[39m\u001b[32m1\u001b[39m \u001b[43mstr1\u001b[49m\u001b[43m \u001b[49m\u001b[43m+\u001b[49m\u001b[43m \u001b[49m\u001b[43mnum1\u001b[49m\n",
      "\n",
      "\u001b[31mTypeError\u001b[39m: can only concatenate str (not \"int\") to str"
     ]
    }
   ],
   "source": [
    "str1 + num1"
   ]
  },
  {
   "cell_type": "markdown",
   "id": "64093d79",
   "metadata": {},
   "source": [
    "비교연산자"
   ]
  },
  {
   "cell_type": "code",
   "execution_count": null,
   "id": "12209790",
   "metadata": {},
   "outputs": [],
   "source": [
    "갈다, !=, 크다, 작다,\n",
    "==, !=, >, <, >=, <="
   ]
  },
  {
   "cell_type": "code",
   "execution_count": null,
   "id": "25def401",
   "metadata": {},
   "outputs": [
    {
     "data": {
      "text/plain": [
       "True"
      ]
     },
     "metadata": {},
     "output_type": "display_data"
    }
   ],
   "source": [
    "5 != 3"
   ]
  },
  {
   "cell_type": "code",
   "execution_count": null,
   "id": "b1f2eae9",
   "metadata": {},
   "outputs": [
    {
     "data": {
      "text/plain": [
       "False"
      ]
     },
     "metadata": {},
     "output_type": "display_data"
    }
   ],
   "source": [
    "5 == 3"
   ]
  },
  {
   "cell_type": "code",
   "execution_count": null,
   "id": "7ba75b87",
   "metadata": {},
   "outputs": [
    {
     "data": {
      "text/plain": [
       "True"
      ]
     },
     "metadata": {},
     "output_type": "display_data"
    }
   ],
   "source": [
    "5 >= 3"
   ]
  },
  {
   "cell_type": "code",
   "execution_count": null,
   "id": "2fa08ed4",
   "metadata": {},
   "outputs": [
    {
     "data": {
      "text/plain": [
       "False"
      ]
     },
     "metadata": {},
     "output_type": "display_data"
    }
   ],
   "source": [
    "5 <= 3"
   ]
  },
  {
   "cell_type": "code",
   "execution_count": 4,
   "id": "d1344ebf",
   "metadata": {},
   "outputs": [],
   "source": [
    "str1 = \"Hello\"\n",
    "str2 = \"World\""
   ]
  },
  {
   "cell_type": "code",
   "execution_count": 5,
   "id": "ca91fc26",
   "metadata": {},
   "outputs": [
    {
     "name": "stdout",
     "output_type": "stream",
     "text": [
      "HelloWorld\n"
     ]
    }
   ],
   "source": [
    "print(str1 + \"\" + str2)"
   ]
  },
  {
   "cell_type": "code",
   "execution_count": 6,
   "id": "69c13cc4",
   "metadata": {},
   "outputs": [
    {
     "name": "stdout",
     "output_type": "stream",
     "text": [
      "Hello World\n"
     ]
    }
   ],
   "source": [
    "print(str1, str2)"
   ]
  },
  {
   "cell_type": "code",
   "execution_count": 7,
   "id": "a509b200",
   "metadata": {},
   "outputs": [
    {
     "name": "stdout",
     "output_type": "stream",
     "text": [
      "Hello Hello Hello Hello Hello\n"
     ]
    }
   ],
   "source": [
    "print(str1,str1,str1,str1,str1)"
   ]
  },
  {
   "cell_type": "markdown",
   "id": "98e79748",
   "metadata": {},
   "source": [
    "사용자입력"
   ]
  },
  {
   "cell_type": "code",
   "execution_count": 1,
   "id": "cf3b9b83",
   "metadata": {},
   "outputs": [
    {
     "name": "stdout",
     "output_type": "stream",
     "text": [
      "이름은  입니다\n"
     ]
    }
   ],
   "source": [
    "name = input(\"이름을 입력하세요:\") #실행 후 되돌려주는 용어\n",
    "print(\"이름은\", name, \"입니다\")"
   ]
  },
  {
   "cell_type": "code",
   "execution_count": 2,
   "id": "59145da7",
   "metadata": {},
   "outputs": [],
   "source": [
    "num1 = 7\n",
    "num2 = 3"
   ]
  },
  {
   "cell_type": "code",
   "execution_count": 8,
   "id": "d61aa4f1",
   "metadata": {},
   "outputs": [
    {
     "name": "stdout",
     "output_type": "stream",
     "text": [
      "10\n",
      "4\n",
      "21\n",
      "2.3333333333333335\n"
     ]
    }
   ],
   "source": [
    "#미션\n",
    "#사용자로부터 숫자 입력을 받아서 +, -, *, / 연산 결과를 출력해주세요\n",
    "n1= int(input(\"첫 번째 숫자를 입력해주세요:\")) #int() 추가\n",
    "n2= int(input(\"두 번째 숫자를 입력해주세요:\"))\n",
    "print(n1+n2)\n",
    "print(n1-n2)\n",
    "print(n1*n2)\n",
    "print(n1/n2)\n"
   ]
  },
  {
   "cell_type": "code",
   "execution_count": null,
   "id": "6538d208",
   "metadata": {},
   "outputs": [
    {
     "data": {
      "text/plain": [
       "str"
      ]
     },
     "execution_count": 7,
     "metadata": {},
     "output_type": "execute_result"
    }
   ],
   "source": [
    "type(n1) #형변환 필요\n",
    "\n",
    "# int(), float(), str()\n",
    "# 정수, 실수, 문자"
   ]
  },
  {
   "cell_type": "code",
   "execution_count": null,
   "id": "f88dba5a",
   "metadata": {},
   "outputs": [],
   "source": [
    "# 파이썬에서는 숫자로 시작하는 변수로 쓸 수 없음\n",
    "#int = 100와 같이 내장함수를 변수로 선언할 경우 상단의 커널 Restart를 눌러줘야 한다"
   ]
  },
  {
   "cell_type": "code",
   "execution_count": 9,
   "id": "af20532e",
   "metadata": {},
   "outputs": [
    {
     "name": "stdout",
     "output_type": "stream",
     "text": [
      "Hello\n",
      "Hello\n"
     ]
    }
   ],
   "source": [
    "print(\"Hello\")\n",
    "print('Hello')\n",
    "# \"\", '' 둘 다 사용이 가능하다"
   ]
  },
  {
   "cell_type": "code",
   "execution_count": 12,
   "id": "585501cb",
   "metadata": {},
   "outputs": [
    {
     "name": "stdout",
     "output_type": "stream",
     "text": [
      "\"안녕\"\n",
      "순간 '바본가'라고 생각했다.\n"
     ]
    },
    {
     "data": {
      "text/plain": [
       "' '"
      ]
     },
     "execution_count": 12,
     "metadata": {},
     "output_type": "execute_result"
    }
   ],
   "source": [
    "print('\\\"안녕\\\"')\n",
    "print(\"순간 '바본가'라고 생각했다.\")\n",
    "''' ''' #멀티 라인 문자열\n",
    "\"\"\" \"\"\""
   ]
  },
  {
   "cell_type": "code",
   "execution_count": 13,
   "id": "19192d8a",
   "metadata": {},
   "outputs": [
    {
     "name": "stdout",
     "output_type": "stream",
     "text": [
      "'낮말'은 새가 듣고 '밤 말'은 쥐가 듣는다.\n"
     ]
    }
   ],
   "source": [
    "print(\"'낮말'은 새가 듣고 '밤 말'은 쥐가 듣는다.\")"
   ]
  },
  {
   "cell_type": "code",
   "execution_count": null,
   "id": "645422f8",
   "metadata": {},
   "outputs": [
    {
     "name": "stdout",
     "output_type": "stream",
     "text": [
      "Hello\n",
      "Hello\n",
      "Hello\n",
      "Hello\n",
      "Hello\n"
     ]
    }
   ],
   "source": [
    "print(\"Hello\")\n",
    "print(\"Hello\")\n",
    "print(\"Hello\")\n",
    "print(\"Hello\")\n",
    "print(\"Hello\")\n",
    "# print는 자동적으로 줄바꿈\\n이 기본적으로 함축되어있음"
   ]
  },
  {
   "cell_type": "code",
   "execution_count": 20,
   "id": "92fa4a87",
   "metadata": {},
   "outputs": [
    {
     "name": "stdout",
     "output_type": "stream",
     "text": [
      "HelloHelloHelloHelloHello\n",
      "Hello,Hello,Hello,Hello,Hello"
     ]
    }
   ],
   "source": [
    "print(\"Hello\", end=\"\")\n",
    "print(\"Hello\", end=\"\")\n",
    "print(\"Hello\", end=\"\")\n",
    "print(\"Hello\", end=\"\")\n",
    "print(\"Hello\", end=\"\")\n",
    "print()\n",
    "print(\"Hello\",\"Hello\",\"Hello\",\"Hello\",\"Hello\", end=\"\", sep=\",\")\n",
    "# 줄바꿈을 하고 싶지 않은 경우 end=\"sS\"\n",
    "# end, sep 설정도 가능함\n",
    "# end=\"\", sep=\",\""
   ]
  },
  {
   "cell_type": "code",
   "execution_count": null,
   "id": "921143f3",
   "metadata": {},
   "outputs": [
    {
     "name": "stdout",
     "output_type": "stream",
     "text": [
      "10\n",
      "4\n",
      "21\n",
      "2.3333333333333335\n"
     ]
    }
   ],
   "source": [
    "n1= int(input(\"첫 번째 숫자를 입력해주세요:\")) #int() 추가\n",
    "n2= int(input(\"두 번째 숫자를 입력해주세요:\"))\n",
    "\n",
    "print(n1+n2) # 7 + 3 = 10\n",
    "print(n1-n2)\n",
    "print(n1*n2)\n",
    "print(n1/n2)"
   ]
  },
  {
   "cell_type": "code",
   "execution_count": null,
   "id": "5153a7e0",
   "metadata": {},
   "outputs": [
    {
     "name": "stdout",
     "output_type": "stream",
     "text": [
      "7 + 3 = 10\n",
      "더하기의 결과: {num1} + {num2} = {num1+num2}\n",
      "더하기의 결과: 7 + 3 = 10\n"
     ]
    }
   ],
   "source": [
    "#f-string 현업에서 많이 사용함.\n",
    "num1 = 7\n",
    "num2 = 3\n",
    "\n",
    "print(num1, \"+\", num2, \"=\", num1 + num2)\n",
    "print(\"더하기의 결과: {num1} + {num2} = {num1+num2}\")\n",
    "print(f\"더하기의 결과: {num1} + {num2} = {num1+num2}\")\n",
    "# \"\" 앞에 f라는 접두어를 붙이면 { } 안은 변수로 인식하고 그외에 값은 문자열(str)으로 인식.\n",
    "# "
   ]
  },
  {
   "cell_type": "code",
   "execution_count": null,
   "id": "15605c1f",
   "metadata": {},
   "outputs": [],
   "source": [
    "True 참, False 거짓"
   ]
  },
  {
   "cell_type": "code",
   "execution_count": 26,
   "id": "e4a4cc52",
   "metadata": {},
   "outputs": [
    {
     "data": {
      "text/plain": [
       "True"
      ]
     },
     "execution_count": 26,
     "metadata": {},
     "output_type": "execute_result"
    }
   ],
   "source": [
    "1 == 1"
   ]
  },
  {
   "cell_type": "code",
   "execution_count": null,
   "id": "2eb4b2e8",
   "metadata": {},
   "outputs": [
    {
     "name": "stdout",
     "output_type": "stream",
     "text": [
      "<class 'bool'>\n"
     ]
    }
   ],
   "source": [
    "type(True)\n",
    "print(type(True))"
   ]
  },
  {
   "cell_type": "code",
   "execution_count": null,
   "id": "54cb1cc1",
   "metadata": {},
   "outputs": [],
   "source": [
    "int(), str(), float(), bool()"
   ]
  },
  {
   "cell_type": "markdown",
   "id": "10298364",
   "metadata": {},
   "source": [
    "bool 자료형"
   ]
  },
  {
   "cell_type": "code",
   "execution_count": 31,
   "id": "828541bd",
   "metadata": {},
   "outputs": [
    {
     "data": {
      "text/plain": [
       "True"
      ]
     },
     "execution_count": 31,
     "metadata": {},
     "output_type": "execute_result"
    }
   ],
   "source": [
    "bool(1)\n",
    "bool(100)\n",
    "bool(-1)\n",
    "bool(\"python\")"
   ]
  },
  {
   "cell_type": "code",
   "execution_count": null,
   "id": "c597bf31",
   "metadata": {},
   "outputs": [
    {
     "data": {
      "text/plain": [
       "False"
      ]
     },
     "execution_count": 32,
     "metadata": {},
     "output_type": "execute_result"
    }
   ],
   "source": [
    "bool(0)\n",
    "bool('')"
   ]
  },
  {
   "cell_type": "markdown",
   "id": "bf27bba7",
   "metadata": {},
   "source": [
    "분식점 계산기 코딩"
   ]
  },
  {
   "cell_type": "code",
   "execution_count": null,
   "id": "90e7af40",
   "metadata": {},
   "outputs": [
    {
     "name": "stdout",
     "output_type": "stream",
     "text": [
      "김밥 주문 갯수: 2\n",
      "떡볶이 주문 갯수: 1\n",
      "라면 주문 갯수: 2\n",
      "지불하실 금액은 : 14500\n"
     ]
    }
   ],
   "source": [
    "kb = 3000 # 김밥 가격\n",
    "tbk = 3500 # 떡볶이 가격\n",
    "rm = 2500 #라면 가격\n",
    "\n",
    "n1= int(input(\"주문하실 김밥 갯수 :\"))\n",
    "n2= int(input(\"주문하실 떡볶이 수량 :\"))\n",
    "n3= int(input(\"주문하실 라면 수량 :\"))\n",
    "\n",
    "print(\"김밥 주문 갯수:\", n1)\n",
    "print(\"떡볶이 주문 갯수:\", n2)\n",
    "print(\"라면 주문 갯수:\", n3)\n",
    "print(f\"지불하실 금액은 : {kb*n1+tbk*n2+rm*n3}\")"
   ]
  },
  {
   "cell_type": "code",
   "execution_count": null,
   "id": "1ff507d6",
   "metadata": {},
   "outputs": [
    {
     "ename": "SyntaxError",
     "evalue": "unterminated string literal (detected at line 11) (1631535242.py, line 11)",
     "output_type": "error",
     "traceback": [
      "  \u001b[36mCell\u001b[39m\u001b[36m \u001b[39m\u001b[32mIn[47]\u001b[39m\u001b[32m, line 11\u001b[39m\n\u001b[31m    \u001b[39m\u001b[31m\"라면 주문 갯수:\", {n3} '\\n\u001b[39m\n                      ^\n\u001b[31mSyntaxError\u001b[39m\u001b[31m:\u001b[39m unterminated string literal (detected at line 11)\n"
     ]
    }
   ],
   "source": [
    "kb = 3000 # 김밥 가격\n",
    "tbk = 3500 # 떡볶이 가격\n",
    "rm = 2500 #라면 가격\n",
    "\n",
    "n1= int(input(\"주문하실 김밥 수량 :\"))\n",
    "n2= int(input(\"주문하실 떡볶이 수량 :\"))\n",
    "n3= int(input(\"주문하실 라면 수량 :\"))\n",
    "\n",
    "print(f\"김밥 주문 갯수:\", {n1} '\\n' \n",
    "      \"떡볶이 주문 갯수:\", {n2} '\\n'\n",
    "      \"라면 주문 갯수:\", {n3} '\\n\n",
    "      \"지불하실 금액은\", : {kb*n1+tbk*n2+rm*n3})"
   ]
  },
  {
   "cell_type": "code",
   "execution_count": 51,
   "id": "21415d51",
   "metadata": {},
   "outputs": [
    {
     "name": "stdout",
     "output_type": "stream",
     "text": [
      "김밥 주문 갯수: 2\n",
      "떡볶이 주문 갯수: 1\n",
      "라면 주문 갯수: 2\n",
      "지불하실 금액은: 14500원\n"
     ]
    }
   ],
   "source": [
    "kb = 3000  # 김밥 가격\n",
    "tbk = 3500  # 떡볶이 가격\n",
    "rm = 2500  # 라면 가격\n",
    "\n",
    "n1 = int(input(\"주문하실 김밥 수량: \"))\n",
    "n2 = int(input(\"주문하실 떡볶이 수량: \"))\n",
    "n3 = int(input(\"주문하실 라면 수량: \"))\n",
    "\n",
    "\n",
    "\n",
    "print(f\"김밥 주문 갯수: {n1}\\n\"\n",
    "      f\"떡볶이 주문 갯수: {n2}\\n\"\n",
    "      f\"라면 주문 갯수: {n3}\\n\"\n",
    "      f\"지불하실 금액은: {kb * n1 + tbk * n2 + rm * n3}원\")\n"
   ]
  },
  {
   "cell_type": "code",
   "execution_count": 59,
   "id": "06f15ef3",
   "metadata": {},
   "outputs": [
    {
     "name": "stdout",
     "output_type": "stream",
     "text": [
      "김밥 주문 갯수: 2\n",
      "떡볶이 주문 갯수: 1\n",
      "라면 주문 갯수: 2\n",
      "지불하실 금액은: 14500원\n"
     ]
    }
   ],
   "source": [
    "kb, tbk, rm = 3000, 3500, 2500  # 순서대로 김밥, 떡볶이, 라면\n",
    "n1 = int(input(\"주문하실 김밥 수량: \"))\n",
    "n2 = int(input(\"주문하실 떡볶이 수량: \"))\n",
    "n3 = int(input(\"주문하실 라면 수량: \"))\n",
    "print(f\"김밥 주문 갯수: {n1}\\n떡볶이 주문 갯수: {n2}\\n라면 주문 갯수: {n3}\\n지불하실 금액은: {kb * n1 + tbk * n2 + rm * n3}원\")\n"
   ]
  },
  {
   "cell_type": "markdown",
   "id": "1cd564e3",
   "metadata": {},
   "source": [
    "조건문"
   ]
  },
  {
   "cell_type": "markdown",
   "id": "3f0397ee",
   "metadata": {},
   "source": [
    "#조건에 따라서 명령어의 실행여부가 결정\n",
    "\n",
    "if 조건:(클론) True의 경우 실행할 명령으로 \n",
    "        False의 경우 조건문 밖으로 명령어\n",
    "파이썬에서는 문장의 끝을 구분할 때 파이썬은 들여쓰기를 통해서\n"
   ]
  },
  {
   "cell_type": "code",
   "execution_count": null,
   "id": "bfd89190",
   "metadata": {},
   "outputs": [
    {
     "ename": "IndentationError",
     "evalue": "unexpected indent (3849676302.py, line 6)",
     "output_type": "error",
     "traceback": [
      "  \u001b[36mCell\u001b[39m\u001b[36m \u001b[39m\u001b[32mIn[67]\u001b[39m\u001b[32m, line 6\u001b[39m\n\u001b[31m    \u001b[39m\u001b[31mprint(\"택시도 탄다\")\u001b[39m\n    ^\n\u001b[31mIndentationError\u001b[39m\u001b[31m:\u001b[39m unexpected indent\n"
     ]
    }
   ],
   "source": [
    "\n",
    "money = False\n",
    "\n",
    "if money:\n",
    "    print(\"스테이크를 먹는다\")\n",
    "print(\"커피를 마신다\")\n",
    "    print(\"택시도 탄다\")\n",
    "print('조건문종료')\n",
    "\n",
    "# 들여쓰기를 확실하게 해야하며\n",
    "# 중간에 들여쓰기가 조건 없이 안 써진 경우엔 에러를 발생함(IndentationError: unexpected indent)\n"
   ]
  },
  {
   "cell_type": "code",
   "execution_count": null,
   "id": "08b2c6bc",
   "metadata": {},
   "outputs": [],
   "source": [
    "if 조건:\n",
    "    수행할명령\n",
    "else:           # 나머지 처리기 때문에 \n",
    "    다른명령\n",
    "#조건문의 기본 형식"
   ]
  },
  {
   "cell_type": "code",
   "execution_count": null,
   "id": "04116a13",
   "metadata": {},
   "outputs": [],
   "source": [
    "if 조건:\n",
    "    수행할명령\n",
    "elif 조건2:\n",
    "    수행할명령2\n",
    "elif 조건3:\n",
    "    수행할명령3...\n",
    "else\n",
    "    나머지에 대한 명령"
   ]
  },
  {
   "cell_type": "code",
   "execution_count": 71,
   "id": "be6f0a9a",
   "metadata": {},
   "outputs": [
    {
     "name": "stdout",
     "output_type": "stream",
     "text": [
      "홀수\n"
     ]
    }
   ],
   "source": [
    "#짝수홀수구분\n",
    "\n",
    "# rum % 2 == 0 -> 짝수\n",
    "\n",
    "num = 3\n",
    "\n",
    "if num % 2 == 0:\n",
    "    print('짝수')\n",
    "else:\n",
    "    print('홀수')"
   ]
  },
  {
   "cell_type": "code",
   "execution_count": null,
   "id": "e2b88c59",
   "metadata": {},
   "outputs": [
    {
     "name": "stdout",
     "output_type": "stream",
     "text": [
      "값이 작습니다\n"
     ]
    }
   ],
   "source": [
    "num = 10\n",
    "\n",
    "if num > 100:\n",
    "    print('값이 큽니다')\n",
    "else:\n",
    "    print('값이 작습니다')"
   ]
  },
  {
   "cell_type": "code",
   "execution_count": 73,
   "id": "12a314e6",
   "metadata": {},
   "outputs": [
    {
     "name": "stdout",
     "output_type": "stream",
     "text": [
      "상장 수여\n"
     ]
    }
   ],
   "source": [
    "eng = 80\n",
    "math = 100\n",
    "\n",
    "if eng >= 90 or math >=90:\n",
    "    print('상장 수여')\n",
    "else:\n",
    "    print('좀 더 노력하세요')\n",
    "\n",
    "    # and, or 복합적인 식을 쓰고 싶은 경우 "
   ]
  },
  {
   "cell_type": "code",
   "execution_count": null,
   "id": "89200e01",
   "metadata": {},
   "outputs": [
    {
     "name": "stdout",
     "output_type": "stream",
     "text": [
      "조금 더 노력\n"
     ]
    }
   ],
   "source": [
    "# 중첩 조건문\n",
    "\n",
    "if eng > 90:\n",
    "    if math >= 90:\n",
    "        print('둘다 성공')\n",
    "    else:\n",
    "        print(\"조금 더 노력\")\n",
    "else:\n",
    "    print(\"많이 노력하세요\")\n"
   ]
  },
  {
   "cell_type": "code",
   "execution_count": 109,
   "id": "349b2496",
   "metadata": {},
   "outputs": [
    {
     "name": "stdout",
     "output_type": "stream",
     "text": [
      "홀수입니다.\n"
     ]
    }
   ],
   "source": [
    "#홀수 짝수 구분하기\n",
    "num = int(input('숫자를 입력하세요: '))\n",
    "\n",
    "result = num % 2\n",
    "\n",
    "if result:\n",
    "    print(\"홀수입니다.\")\n",
    "else:\n",
    "    print(\"짝수입니다.\")"
   ]
  },
  {
   "cell_type": "code",
   "execution_count": null,
   "id": "384c15b1",
   "metadata": {},
   "outputs": [
    {
     "name": "stdout",
     "output_type": "stream",
     "text": [
      "B\n"
     ]
    }
   ],
   "source": [
    "test = int(input('점수 입력: '))\n",
    "\n",
    "if test >= 90: \n",
    "    print('A')\n",
    "elif test >= 80: \n",
    "    print(\"B\")\n",
    "elif test >= 70: \n",
    "    print(\"C\")\n",
    "elif test >= 60: \n",
    "    print(\"D\")\n",
    "else:\n",
    "    print(\"F\")\n",
    "\n",
    "# 처리가 빠른 순서부터 아래 방향으로 가는 편이 좋음"
   ]
  },
  {
   "cell_type": "markdown",
   "id": "e2764937",
   "metadata": {},
   "source": [
    "## 반복문\n",
    "for\n",
    "while"
   ]
  },
  {
   "cell_type": "code",
   "execution_count": null,
   "id": "09720d75",
   "metadata": {},
   "outputs": [],
   "source": [
    "#for는 횟수나 범위가 명확한 경우에 사용하는 반복문\n",
    "\n",
    "for 변수 in 이더러블: #반복 가능한 개체 \n",
    "                        # (한정된 수량의 공을 바구니에서 꺼내 변수에 계속 집어넣는 구조)\n",
    "    반복할문장"
   ]
  },
  {
   "cell_type": "code",
   "execution_count": null,
   "id": "fd4ea5d7",
   "metadata": {},
   "outputs": [
    {
     "name": "stdout",
     "output_type": "stream",
     "text": [
      "1번째 Hello\n",
      "3번째 Hello\n",
      "5번째 Hello\n",
      "7번째 Hello\n",
      "9번째 Hello\n"
     ]
    }
   ],
   "source": [
    "for i in range(1, 10+1, 2): #(x,y,z) x는 이상(포함), y는 미만(미포함), z는 step을 의미\n",
    "    print(f\"{i}번째 Hello\") #변수 i에 +1를 추가해도 됨"
   ]
  },
  {
   "cell_type": "code",
   "execution_count": 121,
   "id": "9641f35b",
   "metadata": {},
   "outputs": [
    {
     "name": "stdout",
     "output_type": "stream",
     "text": [
      "10번째 Hello\n",
      "9번째 Hello\n",
      "8번째 Hello\n",
      "7번째 Hello\n",
      "6번째 Hello\n",
      "5번째 Hello\n",
      "4번째 Hello\n",
      "3번째 Hello\n",
      "2번째 Hello\n",
      "1번째 Hello\n"
     ]
    }
   ],
   "source": [
    "for i in range(10, 0, -1): #(x,y,z) x는 이상(포함), y는 미만(미포함), z는 step을 의미\n",
    "    print(f\"{i}번째 Hello\") #변수 i에 +1를 추가해도 됨"
   ]
  },
  {
   "cell_type": "code",
   "execution_count": null,
   "id": "e11bd48f",
   "metadata": {},
   "outputs": [
    {
     "name": "stdout",
     "output_type": "stream",
     "text": [
      "55\n"
     ]
    }
   ],
   "source": [
    "# for 반복문과 range()함수를 사용해서 1부터 10까지의 합을 출력\n",
    "sum = 0\n",
    "for i in range(1, 10+1):\n",
    "    #print(i)\n",
    "    sum += i #sum = sum + i\n",
    "print(sum)\n",
    "\n",
    "#print(sum)을 반복문 안에 넣어놓고 있었음. 주의 필요\n"
   ]
  },
  {
   "cell_type": "code",
   "execution_count": 4,
   "id": "76053ce6",
   "metadata": {},
   "outputs": [
    {
     "name": "stdout",
     "output_type": "stream",
     "text": [
      "3628800\n"
     ]
    }
   ],
   "source": [
    "# for 반복문과 range()함수를 사용하여 1부터 10까지의 곱을 출력\n",
    "a = 1\n",
    "for i in range(1, 10+1):\n",
    "    a *= i\n",
    "print(a)"
   ]
  },
  {
   "cell_type": "code",
   "execution_count": null,
   "id": "3bae455b",
   "metadata": {},
   "outputs": [],
   "source": [
    "# for 반복문과 range()함수를 사용하여 사용자가 입력한 구구단을 출력\n",
    "\n",
    "num = int(input(\"구구단을 보고 싶으신 숫자를 입력해주세요 \"))\n",
    "\n",
    "for i in range(1, 10):\n"
   ]
  },
  {
   "cell_type": "code",
   "execution_count": null,
   "id": "21a1e1e8",
   "metadata": {},
   "outputs": [
    {
     "name": "stdout",
     "output_type": "stream",
     "text": [
      "1번째 Hello\n",
      "2번째 Hello\n",
      "3번째 Hello\n",
      "4번째 Hello\n",
      "5번째 Hello\n"
     ]
    }
   ],
   "source": [
    "# while 조건: 반복할 문장들 #반복할 조건이 부정확한 경우\n",
    "\n",
    "# print(\"Hello\") 5번만 출력\n",
    "i = 1 \n",
    "\n",
    "while i <= 5:\n",
    "    print(f\"{i}번째 Hello\")\n",
    "    i += 1"
   ]
  },
  {
   "cell_type": "code",
   "execution_count": null,
   "id": "2a2ffdc1",
   "metadata": {},
   "outputs": [
    {
     "name": "stdout",
     "output_type": "stream",
     "text": [
      "45\n"
     ]
    }
   ],
   "source": [
    "# while문을 이용해서 사용자로부터 입력받은 정수값까지의 합을 구하세요.\n",
    "\n",
    "n = int(input(\"숫자를 입력해주세요\")) #사용자 입력\n",
    "\n",
    "sum = 0 #누적할 저장할 변수\n",
    "i = 1 #1부터 i까지 증가시킬 변수\n",
    "\n",
    "while i <= n: #i가 1보다 작거나 같을 때까지 반복\n",
    "    sum += i # 현재의 i값을 sum에 더함\n",
    "    i += 1 # i 값을 1 증가시켜 다음 숫자로 이동(중요)\n",
    "print(sum)"
   ]
  },
  {
   "cell_type": "code",
   "execution_count": 165,
   "id": "47009110",
   "metadata": {},
   "outputs": [
    {
     "name": "stdout",
     "output_type": "stream",
     "text": [
      "5040\n"
     ]
    }
   ],
   "source": [
    "# while문을 이용해서 사용자로부터 입력받은 정수값까지의 곱을 구하세요.\n",
    "\n",
    "n = int(input(\"숫자를 입력해주세요\")) #사용자 입력\n",
    "\n",
    "sum = 1\n",
    "i = 1 #1부터 i까지 증가시킬 변수\n",
    "\n",
    "while i <= n: #i가 1보다 작거나 같을 때까지 반복\n",
    "    sum *= i \n",
    "    i += 1 \n",
    "print(sum)"
   ]
  },
  {
   "cell_type": "code",
   "execution_count": 2,
   "id": "9f3d9fd4",
   "metadata": {},
   "outputs": [
    {
     "name": "stdout",
     "output_type": "stream",
     "text": [
      "5 x 1 = 5\n",
      "5 x 2 = 10\n",
      "5 x 3 = 15\n",
      "5 x 4 = 20\n",
      "5 x 5 = 25\n",
      "5 x 6 = 30\n",
      "5 x 7 = 35\n",
      "5 x 8 = 40\n",
      "5 x 9 = 45\n",
      "5 x 10 = 50\n"
     ]
    }
   ],
   "source": [
    "# while문을 이용해서 사용자로부터 입력받은 수의 구구단을 구하세요.\n",
    "\n",
    "n = int(input(\"숫자를 입력해주세요\")) #사용자 입력\n",
    "\n",
    "i = 1 #배수가 될 숫자\n",
    "\n",
    "while i <= 10: \n",
    "    print(f\"{n} x {i} = {n*i}\")\n",
    "    i += 1 "
   ]
  },
  {
   "cell_type": "code",
   "execution_count": 168,
   "id": "fd18b46e",
   "metadata": {},
   "outputs": [
    {
     "name": "stdout",
     "output_type": "stream",
     "text": [
      "9\n"
     ]
    }
   ],
   "source": [
    "sum = 10\n",
    "\n",
    "sum -= 1\n",
    "print(sum)"
   ]
  },
  {
   "cell_type": "code",
   "execution_count": 6,
   "id": "49e4074c",
   "metadata": {},
   "outputs": [],
   "source": [
    "prompt = \"\"\"\n",
    "1. Add\n",
    "2. Del\n",
    "3. List\n",
    "4. Quit\n",
    "\n",
    "Enter number: \"\"\" "
   ]
  },
  {
   "cell_type": "code",
   "execution_count": 10,
   "id": "7650f81a",
   "metadata": {},
   "outputs": [
    {
     "name": "stdout",
     "output_type": "stream",
     "text": [
      "\n",
      "1. Add\n",
      "2. Del\n",
      "3. List\n",
      "4. Quit\n",
      "\n",
      "Enter number: \n"
     ]
    }
   ],
   "source": [
    "number = 0\n",
    "while number !=4:\n",
    "    print(prompt)\n",
    "    number = int(input(\"원하는 메뉴의 번호를 입력하세요: \"))"
   ]
  },
  {
   "cell_type": "markdown",
   "id": "cabf01da",
   "metadata": {},
   "source": [
    "## break, continue"
   ]
  },
  {
   "cell_type": "code",
   "execution_count": null,
   "id": "4e809843",
   "metadata": {},
   "outputs": [
    {
     "name": "stdout",
     "output_type": "stream",
     "text": [
      "정수: 6, 합계: 21\n",
      "21\n"
     ]
    }
   ],
   "source": [
    "#1부터 10까지 더하되, 합이 20 이상이 되는 때의 정수값을 찾고 싶어.\n",
    "\n",
    "sum = 0\n",
    "for i in range(1, 10 +1):\n",
    "    sum += i\n",
    "    if sum >= 20:\n",
    "        print(f\"정수: {i}, 합계: {sum}\")\n",
    "        break\n",
    "print(sum)"
   ]
  },
  {
   "cell_type": "code",
   "execution_count": 14,
   "id": "eb1a6fc1",
   "metadata": {},
   "outputs": [
    {
     "name": "stdout",
     "output_type": "stream",
     "text": [
      "\n",
      "1. Add\n",
      "2. Del\n",
      "3. List\n",
      "4. Quit\n",
      "\n",
      "Enter number: \n"
     ]
    }
   ],
   "source": [
    "number = 0\n",
    "while True:\n",
    "    print(prompt)\n",
    "    number = int(input(\"원하는 메뉴의 번호를 입력하세요.\"))\n",
    "    if number == 4:\n",
    "        break"
   ]
  },
  {
   "cell_type": "code",
   "execution_count": 16,
   "id": "65b37d5e",
   "metadata": {},
   "outputs": [
    {
     "name": "stdout",
     "output_type": "stream",
     "text": [
      "1 2 4 5 7 8 "
     ]
    }
   ],
   "source": [
    "for i in range(10):\n",
    "    if i % 3 == 0:\n",
    "        continue\n",
    "    print(i, end=\" \") #의 배수는 제외하고 싶다고 가정"
   ]
  },
  {
   "cell_type": "code",
   "execution_count": 4,
   "id": "5d68782d",
   "metadata": {},
   "outputs": [
    {
     "name": "stdout",
     "output_type": "stream",
     "text": [
      "너무 작습니다.\n",
      "너무 작습니다.\n",
      "너무 큽니다.\n",
      "너무 큽니다.\n",
      "너무 큽니다.\n",
      "너무 큽니다.\n",
      "너무 작습니다.\n",
      "너무 작습니다.\n",
      "정답입니다.\n",
      "게임종료\n"
     ]
    }
   ],
   "source": [
    "#숫자 맞추기 게임을 만들어 주세요\n",
    "\n",
    "import random\n",
    "answer=random.randint(1,100)\n",
    "\n",
    "while True:\n",
    "    i = int(input(\"1부터 100까지 숫자를 적어주세요. \"))\n",
    "    if i == answer:\n",
    "        print(\"정답입니다.\")\n",
    "        break\n",
    "    elif i > answer:\n",
    "        print(\"너무 큽니다.\")\n",
    "    else:\n",
    "        print(\"너무 작습니다.\")\n",
    "print(\"게임종료\")"
   ]
  },
  {
   "cell_type": "code",
   "execution_count": null,
   "id": "a633dc2e",
   "metadata": {},
   "outputs": [
    {
     "name": "stdout",
     "output_type": "stream",
     "text": [
      "1 2 4 7 8 11 13 14 16 17 19 "
     ]
    }
   ],
   "source": [
    "# 20 보다 작은 정수 중에서 3의 배수와 5의 배수를 제외하고 출력해 봅시다\n",
    "\n",
    "i = 0 #초기값 설정\n",
    "\n",
    "while True: # 무한 반복\n",
    "    i += 1 # 값을 1씩 즐가시킴\n",
    "    if i >= 20:\n",
    "        # 과정 확인 print(f\"{i} break\")\n",
    "        break\n",
    "    if i % 3 == 0 or i % 5 == 0:\n",
    "        # 과정 확인 print(f\"{i} continue\")\n",
    "        continue\n",
    "    print(i, end=\" \")              \n"
   ]
  }
 ],
 "metadata": {
  "kernelspec": {
   "display_name": "Python 3",
   "language": "python",
   "name": "python3"
  },
  "language_info": {
   "codemirror_mode": {
    "name": "ipython",
    "version": 3
   },
   "file_extension": ".py",
   "mimetype": "text/x-python",
   "name": "python",
   "nbconvert_exporter": "python",
   "pygments_lexer": "ipython3",
   "version": "3.11.8"
  }
 },
 "nbformat": 4,
 "nbformat_minor": 5
}
