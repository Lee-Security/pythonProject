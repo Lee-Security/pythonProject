{
 "cells": [
  {
   "cell_type": "code",
   "execution_count": null,
   "id": "d5fed585",
   "metadata": {},
   "outputs": [
    {
     "name": "stdout",
     "output_type": "stream",
     "text": [
      "1\n"
     ]
    }
   ],
   "source": [
    "# 함수와 변수의 효력 범위\n",
    "a = 1\n",
    "def vartest(a): # 매개변수 a는 지역변수\n",
    "    a = a + 1\n",
    "\n",
    "vartest(a) # 아무것도 리턴하지 않음 #none\n",
    "print(a) "
   ]
  },
  {
   "cell_type": "code",
   "execution_count": 7,
   "id": "75dcbd8f",
   "metadata": {},
   "outputs": [
    {
     "name": "stdout",
     "output_type": "stream",
     "text": [
      "None\n",
      "1\n"
     ]
    }
   ],
   "source": [
    "b = 1\n",
    "def vartest(a): # 매개변수 a는 지역변수\n",
    "    a = a + 1\n",
    "\n",
    "print(vartest(b)) # 아무것도 리턴하지 않음 #none\n",
    "print(a) "
   ]
  },
  {
   "cell_type": "code",
   "execution_count": 8,
   "id": "7170f456",
   "metadata": {},
   "outputs": [
    {
     "name": "stdout",
     "output_type": "stream",
     "text": [
      "2\n"
     ]
    }
   ],
   "source": [
    "# 2를 출력하고 싶은 경우\n",
    "a = 1\n",
    "def vartest(a):\n",
    "    return a + 1\n",
    "\n",
    "a = vartest(a)\n",
    "print(a)"
   ]
  },
  {
   "cell_type": "code",
   "execution_count": null,
   "id": "2a0b903a",
   "metadata": {},
   "outputs": [
    {
     "ename": "NameError",
     "evalue": "name 'a' is not defined",
     "output_type": "error",
     "traceback": [
      "\u001b[31m---------------------------------------------------------------------------\u001b[39m",
      "\u001b[31mNameError\u001b[39m                                 Traceback (most recent call last)",
      "\u001b[36mCell\u001b[39m\u001b[36m \u001b[39m\u001b[32mIn[1]\u001b[39m\u001b[32m, line 6\u001b[39m\n\u001b[32m      3\u001b[39m     a = a + \u001b[32m1\u001b[39m\n\u001b[32m      5\u001b[39m vartest(\u001b[32m3\u001b[39m)\n\u001b[32m----> \u001b[39m\u001b[32m6\u001b[39m \u001b[38;5;28mprint\u001b[39m(\u001b[43ma\u001b[49m)\n",
      "\u001b[31mNameError\u001b[39m: name 'a' is not defined"
     ]
    }
   ],
   "source": [
    "# 함수와 변수의 효력 범위\n",
    "def vartest(a):\n",
    "    a = a + 1\n",
    "    # 함수 종료 후 사라짐\n",
    "vartest(3)\n",
    "print(a)\n",
    "#NameError   "
   ]
  },
  {
   "cell_type": "code",
   "execution_count": null,
   "id": "2769f07c",
   "metadata": {},
   "outputs": [
    {
     "name": "stdout",
     "output_type": "stream",
     "text": [
      "1\n",
      "6\n"
     ]
    }
   ],
   "source": [
    "a = 1\n",
    "def vartest():\n",
    "    global a \n",
    "    # 전역변수 a를 직접 수정하겠다\n",
    "    # 유지보수성에 악영향을 줄 수 있음\n",
    "\n",
    "    a = a + 5\n",
    "print(a)\n",
    "vartest()\n",
    "print(a)\n",
    "   "
   ]
  },
  {
   "cell_type": "code",
   "execution_count": null,
   "id": "22afecd4",
   "metadata": {},
   "outputs": [
    {
     "ename": "SyntaxError",
     "evalue": "name 'a' is parameter and global (3706790022.py, line 6)",
     "output_type": "error",
     "traceback": [
      "  \u001b[36mCell\u001b[39m\u001b[36m \u001b[39m\u001b[32mIn[3]\u001b[39m\u001b[32m, line 6\u001b[39m\n\u001b[31m    \u001b[39m\u001b[31mglobal a\u001b[39m\n    ^\n\u001b[31mSyntaxError\u001b[39m\u001b[31m:\u001b[39m name 'a' is parameter and global\n"
     ]
    }
   ],
   "source": [
    "# 만약 매개변수로 받는 변수의 이름과 글로벌 메모리에있는 변수 이름이 겹치면 어떯게 되나요? \n",
    "# 함수 자체가 알아서 글로벌 태그로 구별해주나요? (이승엽 수강생 질문)\n",
    "## SyntaxError 발생\n",
    "a = 1\n",
    "def vartest(a):\n",
    "    global a \n",
    "    # 전역변수 a를 직접 수정하겠다\n",
    "    # 유지보수성에 악영향을 줄 수 있음\n",
    "\n",
    "    a = a + 5\n",
    "print(a)\n",
    "vartest(3)\n",
    "print(a)"
   ]
  },
  {
   "cell_type": "code",
   "execution_count": 8,
   "id": "2ca9184b",
   "metadata": {},
   "outputs": [],
   "source": [
    "def say_myself(name, age, man):\n",
    "    print(f'{name}, {age}')"
   ]
  },
  {
   "cell_type": "code",
   "execution_count": null,
   "id": "9bab09a1",
   "metadata": {},
   "outputs": [
    {
     "ename": "TypeError",
     "evalue": "say_myself() missing 1 required positional argument: 'man'",
     "output_type": "error",
     "traceback": [
      "\u001b[31m---------------------------------------------------------------------------\u001b[39m",
      "\u001b[31mTypeError\u001b[39m                                 Traceback (most recent call last)",
      "\u001b[36mCell\u001b[39m\u001b[36m \u001b[39m\u001b[32mIn[9]\u001b[39m\u001b[32m, line 1\u001b[39m\n\u001b[32m----> \u001b[39m\u001b[32m1\u001b[39m \u001b[43msay_myself\u001b[49m\u001b[43m(\u001b[49m\u001b[33;43m\"\u001b[39;49m\u001b[33;43mjimin\u001b[39;49m\u001b[33;43m\"\u001b[39;49m\u001b[43m,\u001b[49m\u001b[43m \u001b[49m\u001b[32;43m29\u001b[39;49m\u001b[43m)\u001b[49m\n",
      "\u001b[31mTypeError\u001b[39m: say_myself() missing 1 required positional argument: 'man'"
     ]
    }
   ],
   "source": [
    "say_myself(\"jimin\", 29)\n",
    "# typeError: say_myself() missing 1 required positional argument: 'man'"
   ]
  },
  {
   "cell_type": "code",
   "execution_count": 16,
   "id": "3759c728",
   "metadata": {},
   "outputs": [],
   "source": [
    "def say_myself(name, age, man=True, hobby='python'):\n",
    "    print(f'{name}, {age}')\n",
    "    print(man)\n",
    "    print(hobby)"
   ]
  },
  {
   "cell_type": "code",
   "execution_count": null,
   "id": "e98ceed5",
   "metadata": {},
   "outputs": [
    {
     "name": "stdout",
     "output_type": "stream",
     "text": [
      "jimin, 29\n",
      "False\n",
      "game\n"
     ]
    }
   ],
   "source": [
    "say_myself('jimin', 29, False, 'game')"
   ]
  },
  {
   "cell_type": "code",
   "execution_count": 20,
   "id": "d8b267be",
   "metadata": {},
   "outputs": [
    {
     "name": "stdout",
     "output_type": "stream",
     "text": [
      "Hello:::::python:::::World\n"
     ]
    }
   ],
   "source": [
    "print(\"Hello\", \"python\", \"World\", sep=':::::')"
   ]
  },
  {
   "cell_type": "code",
   "execution_count": null,
   "id": "f352d460",
   "metadata": {},
   "outputs": [],
   "source": [
    "# 내장 함수를 활용한 예제\n",
    "zip 함수\n",
    "- zip(*iterable) # 여러 개의 순회 가능한(iterable) 객체를 인자로 받아, 각 객체에서 동일한 인덱스에 위치한 요소들을 튜플로 묶어주는 함수입니다.\n",
    "- 각 iterable의 동일 인덱스의 item들을 묶어서 튜플 쌍으로 반환\n",
    "- 반환되는 객체는 zip 타입이며, iterable의 길이는 달라도 무방"
   ]
  },
  {
   "cell_type": "code",
   "execution_count": 23,
   "id": "15bfb90e",
   "metadata": {},
   "outputs": [
    {
     "name": "stdout",
     "output_type": "stream",
     "text": [
      "<zip object at 0x000001E988677E80>\n"
     ]
    }
   ],
   "source": [
    "r = (52, 255, 39, 132)\n",
    "g = (19, 0, 277, 132)\n",
    "b = (52, 255, 39, 187)\n",
    "\n",
    "img = zip(r, g, b)\n",
    "# img = list(zip(r, g, b))\n",
    "print(img)"
   ]
  },
  {
   "cell_type": "code",
   "execution_count": 24,
   "id": "a3a030e7",
   "metadata": {},
   "outputs": [
    {
     "name": "stdout",
     "output_type": "stream",
     "text": [
      "<zip object at 0x000001E9886BC6C0>\n",
      "[(52, 19, 52), (255, 0, 255), (39, 277, 39), (132, 132, 187)]\n",
      "(52, 19, 52)\n",
      "<class 'tuple'>\n"
     ]
    }
   ],
   "source": [
    "r = (52, 255, 39, 132)\n",
    "g = (19, 0, 277, 132)\n",
    "b = (52, 255, 39, 187)\n",
    "\n",
    "zip_abject = zip(r, g, b)\n",
    "print(zip_abject)\n",
    "\n",
    "img = list(zip_abject)\n",
    "print(img)\n",
    "\n",
    "print(img[0])\n",
    "print(type(img[0]))\n"
   ]
  },
  {
   "cell_type": "code",
   "execution_count": null,
   "id": "f1df0aa9",
   "metadata": {},
   "outputs": [],
   "source": [
    "#내장 함수를 활용한 예제\n",
    "enumerate 함수\n",
    "- enumerate(iterable, [, start=0]) # 순서가 있는 자료형(리스트, 튜플, 문자열)을 입력으로 받아 인덱스 값을 포함하는 enumerate 객체를 반환합니다."
   ]
  },
  {
   "cell_type": "code",
   "execution_count": 33,
   "id": "cd23cdce",
   "metadata": {},
   "outputs": [],
   "source": [
    "f = ('apple', 'banana', 'cherry', 'date')"
   ]
  },
  {
   "cell_type": "code",
   "execution_count": 37,
   "id": "3becbea8",
   "metadata": {},
   "outputs": [
    {
     "data": {
      "text/plain": [
       "<enumerate at 0x1b5e1f2ede0>"
      ]
     },
     "execution_count": 37,
     "metadata": {},
     "output_type": "execute_result"
    }
   ],
   "source": [
    "enumerate(f, 1)\n",
    "# 생성 위치(주소)가 달라짐"
   ]
  },
  {
   "cell_type": "code",
   "execution_count": 20,
   "id": "cdf816bd",
   "metadata": {},
   "outputs": [
    {
     "data": {
      "text/plain": [
       "{1: 'apple', 2: 'banana', 3: 'cherry', 4: 'date'}"
      ]
     },
     "execution_count": 20,
     "metadata": {},
     "output_type": "execute_result"
    }
   ],
   "source": [
    "dict(enumerate(f, 1))"
   ]
  },
  {
   "cell_type": "code",
   "execution_count": null,
   "id": "4f46a2fc",
   "metadata": {},
   "outputs": [],
   "source": [
    "map 함수 #맵핑\n",
    "- map(function, iterable)\n",
    "- function에 iterable의 item들을 인자"
   ]
  },
  {
   "cell_type": "code",
   "execution_count": 38,
   "id": "74372942",
   "metadata": {},
   "outputs": [],
   "source": [
    "mylist = [1, 2, 3, 4, 5]\n",
    "# -> [2, 3, 4, 5, 6]\n"
   ]
  },
  {
   "cell_type": "code",
   "execution_count": 39,
   "id": "2f656d20",
   "metadata": {},
   "outputs": [
    {
     "name": "stdout",
     "output_type": "stream",
     "text": [
      "[2, 3, 4, 5, 6]\n"
     ]
    }
   ],
   "source": [
    "result = []\n",
    "for i in mylist:\n",
    "    result.append(i + 1)\n",
    "\n",
    "print(result)"
   ]
  },
  {
   "cell_type": "code",
   "execution_count": 8,
   "id": "84642068",
   "metadata": {},
   "outputs": [
    {
     "data": {
      "text/plain": [
       "<map at 0x13cb0c43250>"
      ]
     },
     "execution_count": 8,
     "metadata": {},
     "output_type": "execute_result"
    }
   ],
   "source": [
    "mylist = [1, 2, 3, 4, 5]\n",
    "\n",
    "def add_one(n):\n",
    "    return n + 1\n",
    "\n",
    "result = map(add_one, mylist)\n",
    "result"
   ]
  },
  {
   "cell_type": "code",
   "execution_count": 7,
   "id": "3ca96c66",
   "metadata": {},
   "outputs": [
    {
     "data": {
      "text/plain": [
       "[2, 3, 4, 5, 6]"
      ]
     },
     "execution_count": 7,
     "metadata": {},
     "output_type": "execute_result"
    }
   ],
   "source": [
    "result = []\n",
    "\n",
    "def add_one(n):\n",
    "    return n + 1\n",
    "\n",
    "result = list(map(add_one, mylist))\n",
    "result"
   ]
  },
  {
   "cell_type": "code",
   "execution_count": 11,
   "id": "be948842",
   "metadata": {},
   "outputs": [
    {
     "data": {
      "text/plain": [
       "[3, -6, 100, 25]"
      ]
     },
     "execution_count": 11,
     "metadata": {},
     "output_type": "execute_result"
    }
   ],
   "source": [
    "mylist = [3.14, -5.6, 100.4, 25.0]\n",
    "\n",
    "result = list(map(round, mylist))\n",
    "result"
   ]
  },
  {
   "cell_type": "code",
   "execution_count": 10,
   "id": "764d4ee3",
   "metadata": {},
   "outputs": [
    {
     "data": {
      "text/plain": [
       "100"
      ]
     },
     "execution_count": 10,
     "metadata": {},
     "output_type": "execute_result"
    }
   ],
   "source": [
    "round(100.4)"
   ]
  },
  {
   "cell_type": "code",
   "execution_count": null,
   "id": "de7d6b2c",
   "metadata": {},
   "outputs": [],
   "source": [
    "내장 함수를 활용한 예제 - filter 사용하기\n",
    "- 반복 가능한 객체에서 특정 조건을 만족하는 요소들만 걸러내는 함수입니다.\n",
    "- filter 에 지정한 함수의 반환값이 True인 요소들만 걸러냅니다.\n",
    "- filter(함수, 반복 가능한 객체)\n",
    "\n",
    "def f(x):\n",
    "    return x > 5 and x < 10\n",
    "\n",
    "a = [3, 4, 5, 6, 7, 8, 9, 10]\n",
    "list(filter(f, a))"
   ]
  },
  {
   "cell_type": "code",
   "execution_count": 16,
   "id": "8ac1601b",
   "metadata": {},
   "outputs": [],
   "source": [
    "a = [8, 3, 2, 10, 15, 7, 0, 11]"
   ]
  },
  {
   "cell_type": "code",
   "execution_count": 19,
   "id": "c0c5f655",
   "metadata": {},
   "outputs": [
    {
     "data": {
      "text/plain": [
       "[8, 7]"
      ]
     },
     "execution_count": 19,
     "metadata": {},
     "output_type": "execute_result"
    }
   ],
   "source": [
    "list(filter(lambda x: x>5 and x<10, a))"
   ]
  },
  {
   "cell_type": "code",
   "execution_count": 17,
   "id": "11abcf27",
   "metadata": {},
   "outputs": [],
   "source": [
    "def f(x):\n",
    "    return x > 5 and x < 10"
   ]
  },
  {
   "cell_type": "code",
   "execution_count": 18,
   "id": "43ceab2b",
   "metadata": {},
   "outputs": [
    {
     "data": {
      "text/plain": [
       "[8, 7]"
      ]
     },
     "execution_count": 18,
     "metadata": {},
     "output_type": "execute_result"
    }
   ],
   "source": [
    "list(filter(f, a))"
   ]
  },
  {
   "cell_type": "code",
   "execution_count": 14,
   "id": "23dd07f8",
   "metadata": {},
   "outputs": [
    {
     "data": {
      "text/plain": [
       "[8, 7]"
      ]
     },
     "execution_count": 14,
     "metadata": {},
     "output_type": "execute_result"
    }
   ],
   "source": [
    "result = []\n",
    "for i in a:\n",
    "    if i > 5 and i < 10:\n",
    "        result.append(i)\n",
    "\n",
    "result\n"
   ]
  },
  {
   "cell_type": "code",
   "execution_count": null,
   "id": "c6800845",
   "metadata": {},
   "outputs": [],
   "source": [
    "람다함수(익명함수)\n",
    "- 이름이 없는 함수\n",
    "- 람다함수의 장점 -> 코드의 간결함 메모리의 절약\n",
    "\n",
    "def 함수이름(매개변수):     lambda 매개변수: 결과\n",
    "    return 결과\n",
    "\n",
    ">>> lambda x : x + 1 로 표현 가능"
   ]
  },
  {
   "cell_type": "code",
   "execution_count": 20,
   "id": "3f6ac60c",
   "metadata": {},
   "outputs": [
    {
     "name": "stdout",
     "output_type": "stream",
     "text": [
      "[1, 4, 9, 16]\n"
     ]
    }
   ],
   "source": [
    "# 람다함수 사용 예\n",
    "# map: 시퀀스의 각 요소에 함수를 적용하여 새로운 시귄스를 반환.\n",
    "\n",
    "numbers = [1, 2, 3, 4]\n",
    "squared = list(map(lambda x: x**2, numbers))\n",
    "print(squared)"
   ]
  },
  {
   "cell_type": "code",
   "execution_count": 21,
   "id": "4b30716f",
   "metadata": {},
   "outputs": [
    {
     "name": "stdout",
     "output_type": "stream",
     "text": [
      "[2, 4]\n"
     ]
    }
   ],
   "source": [
    "# 람다함수 사용 예\n",
    "# filter: 시퀀스의 각 요소에 함수를 적용하여 조건을 만족하는 요소들만 반환.\n",
    "\n",
    "numbers = [1, 2, 3, 4, 5]\n",
    "even_numbers = list(filter(lambda x: x % 2 == 0, numbers))\n",
    "print(even_numbers)"
   ]
  },
  {
   "cell_type": "code",
   "execution_count": 22,
   "id": "85614e9a",
   "metadata": {},
   "outputs": [
    {
     "name": "stdout",
     "output_type": "stream",
     "text": [
      "[(5, 1), (1, 2), (3, 4)]\n"
     ]
    }
   ],
   "source": [
    "# 람다함수 사용 예\n",
    "# sorted 함수의 키로 사용하여 특정 조건에 따라 데이터를 정렬\n",
    "\n",
    "points = [(1, 2), (3, 4), (5, 1)]\n",
    "sorted_points = sorted(points, key=lambda point: point[1])\n",
    "print(sorted_points)\n",
    "\n",
    "# 두 번째 값을 기준으로 정렬"
   ]
  },
  {
   "cell_type": "code",
   "execution_count": 36,
   "id": "7b1520a5",
   "metadata": {},
   "outputs": [
    {
     "name": "stdout",
     "output_type": "stream",
     "text": [
      "[(4, 1), (5, 1), (1, 2), (3, 4)]\n"
     ]
    }
   ],
   "source": [
    "points = [(1, 2), (3, 4), (5, 1), (4, 1)]\n",
    "sorted_points = sorted(points, key=lambda x: (x[1], x[0]))\n",
    "print(sorted_points)\n",
    "# y축 오름차순"
   ]
  },
  {
   "cell_type": "code",
   "execution_count": null,
   "id": "606edaf3",
   "metadata": {},
   "outputs": [],
   "source": [
    "numbers = [1, 2, 3, 4, 5]"
   ]
  },
  {
   "cell_type": "code",
   "execution_count": 24,
   "id": "259df35f",
   "metadata": {},
   "outputs": [],
   "source": [
    "my_nembers = sorted(numbers, reverse=True)"
   ]
  },
  {
   "cell_type": "code",
   "execution_count": 25,
   "id": "8996c343",
   "metadata": {},
   "outputs": [
    {
     "data": {
      "text/plain": [
       "[1, 2, 3, 4, 5]"
      ]
     },
     "execution_count": 25,
     "metadata": {},
     "output_type": "execute_result"
    }
   ],
   "source": [
    "numbers"
   ]
  },
  {
   "cell_type": "code",
   "execution_count": 26,
   "id": "f6a39bc6",
   "metadata": {},
   "outputs": [
    {
     "data": {
      "text/plain": [
       "[5, 4, 3, 2, 1]"
      ]
     },
     "execution_count": 26,
     "metadata": {},
     "output_type": "execute_result"
    }
   ],
   "source": [
    "my_nembers"
   ]
  },
  {
   "cell_type": "code",
   "execution_count": 28,
   "id": "e992dc29",
   "metadata": {},
   "outputs": [
    {
     "data": {
      "text/plain": [
       "['apple', 'banana', 'cherry', 'date']"
      ]
     },
     "execution_count": 28,
     "metadata": {},
     "output_type": "execute_result"
    }
   ],
   "source": [
    "fruits = ['apple','banana', 'cherry', 'date']\n",
    "fruits"
   ]
  },
  {
   "cell_type": "code",
   "execution_count": 30,
   "id": "36ccb41d",
   "metadata": {},
   "outputs": [
    {
     "data": {
      "text/plain": [
       "['banana', 'cherry', 'apple', 'date']"
      ]
     },
     "execution_count": 30,
     "metadata": {},
     "output_type": "execute_result"
    }
   ],
   "source": [
    "myfruits = sorted(fruits, key=len, reverse=True)\n",
    "myfruits"
   ]
  },
  {
   "cell_type": "code",
   "execution_count": 68,
   "id": "cfef5928",
   "metadata": {},
   "outputs": [],
   "source": [
    "# 등수구하기 \n",
    "\n",
    "# 영어 점수와 수학 점수의 평균 점수를 기준으로 학생들의 등수를 매기려고 합니다. 영어 \n",
    "# 점수와 수학 점수를 담은 2차원 리스트 score가 주어질 때, 영어 점수와 수학 점수의 평균을 \n",
    "# 기준으로 매긴 등수를 담은 리스트를 return하도록 함수를 만들어주세요 \n",
    "\n",
    " \n",
    "\n",
    "[[80, 70], [90, 50], [40, 70], [50, 80]] # [1, 2, 4, 3] \n",
    "\n",
    "[[80, 70], [70, 80], [30, 50], [90, 100], [100, 90], [100, 100], [10, 30]] # [4, 4, 6, 2, 2, 1, 7] \n",
    "\n",
    "def rank(score): \n",
    "    result = []\n",
    "    # YOUR_CODE_HERE\n",
    "    # 1. 평균값을 가지는 리스트\n",
    "    avg = []\n",
    "    for i, j in score:\n",
    "        # print((i+j)/2)\n",
    "        avg.append((i+j)/2)\n",
    "    # print(avg)\n",
    "    #[75.0, 70.0, 55.0, 65.0]\n",
    "    \n",
    "    # 2. 평균값을 내림차순으로 정렬\n",
    "    avg_sort = sorted(avg, reverse=True)\n",
    "    # print(avg_sort)\n",
    "    #[75.0, 70.0, 65.0, 55.0]\n",
    "\n",
    "    # 3. 비교해서 등수 처리\n",
    "    for i in avg:\n",
    "        result.append(avg_sort.index(i) + 1)\n",
    "        #print(result)\n",
    "        #[1, 2, 4, 3]\n",
    "    return result"
   ]
  },
  {
   "cell_type": "code",
   "execution_count": 65,
   "id": "99a0ec6d",
   "metadata": {},
   "outputs": [
    {
     "data": {
      "text/plain": [
       "[1, 2, 4, 3]"
      ]
     },
     "execution_count": 65,
     "metadata": {},
     "output_type": "execute_result"
    }
   ],
   "source": [
    "score1 = [[80, 70], [90, 50], [40, 70], [50, 80]]\n",
    "rank(score1) # [1, 2, 4, 3]"
   ]
  },
  {
   "cell_type": "code",
   "execution_count": 69,
   "id": "388f0891",
   "metadata": {},
   "outputs": [
    {
     "data": {
      "text/plain": [
       "[4, 4, 6, 2, 2, 1, 7]"
      ]
     },
     "execution_count": 69,
     "metadata": {},
     "output_type": "execute_result"
    }
   ],
   "source": [
    "score2 = [[80, 70], [70, 80], [30, 50], [90, 100], [100, 90], [100, 100], [10, 30]] # [4, 4, 6, 2, 2, 1, 7]\n",
    "rank(score2) # [4, 4, 6, 2, 2, 1, 7]"
   ]
  },
  {
   "cell_type": "code",
   "execution_count": null,
   "id": "9d49f69c",
   "metadata": {},
   "outputs": [],
   "source": [
    "#소수 판별 함수 is_prime()\n",
    "[2,3,4,5,6,7,8,9] # [True, True, False, True, False, True, False, False]\n",
    "\n",
    "def is_prime(num):\n",
    "    if num < 2:\n",
    "        return False\n",
    "    for i in range(2, )\n"
   ]
  }
 ],
 "metadata": {
  "kernelspec": {
   "display_name": "Python 3",
   "language": "python",
   "name": "python3"
  },
  "language_info": {
   "codemirror_mode": {
    "name": "ipython",
    "version": 3
   },
   "file_extension": ".py",
   "mimetype": "text/x-python",
   "name": "python",
   "nbconvert_exporter": "python",
   "pygments_lexer": "ipython3",
   "version": "3.11.8"
  }
 },
 "nbformat": 4,
 "nbformat_minor": 5
}
