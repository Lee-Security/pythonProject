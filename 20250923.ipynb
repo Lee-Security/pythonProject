{
 "cells": [
  {
   "cell_type": "code",
   "execution_count": 70,
   "id": "d5fed585",
   "metadata": {},
   "outputs": [
    {
     "name": "stdout",
     "output_type": "stream",
     "text": [
      "1\n"
     ]
    }
   ],
   "source": [
    "# 함수와 변수의 효력 범위\n",
    "a = 1\n",
    "def vartest(a): # 매개변수 a는 지역변수\n",
    "    a = a + 1\n",
    "\n",
    "vartest(a) # 아무것도 리턴하지 않음 #none\n",
    "print(a) "
   ]
  },
  {
   "cell_type": "code",
   "execution_count": 71,
   "id": "75dcbd8f",
   "metadata": {},
   "outputs": [
    {
     "name": "stdout",
     "output_type": "stream",
     "text": [
      "None\n",
      "1\n"
     ]
    }
   ],
   "source": [
    "b = 1\n",
    "def vartest(a): # 매개변수 a는 지역변수\n",
    "    a = a + 1\n",
    "\n",
    "print(vartest(b)) # 아무것도 리턴하지 않음 #none\n",
    "print(a) "
   ]
  },
  {
   "cell_type": "code",
   "execution_count": 72,
   "id": "7170f456",
   "metadata": {},
   "outputs": [
    {
     "name": "stdout",
     "output_type": "stream",
     "text": [
      "2\n"
     ]
    }
   ],
   "source": [
    "# 2를 출력하고 싶은 경우\n",
    "a = 1\n",
    "def vartest(a):\n",
    "    return a + 1\n",
    "\n",
    "a = vartest(a)\n",
    "print(a)"
   ]
  },
  {
   "cell_type": "code",
   "execution_count": 73,
   "id": "2a0b903a",
   "metadata": {},
   "outputs": [
    {
     "name": "stdout",
     "output_type": "stream",
     "text": [
      "2\n"
     ]
    }
   ],
   "source": [
    "# 함수와 변수의 효력 범위\n",
    "def vartest(a):\n",
    "    a = a + 1\n",
    "    # 함수 종료 후 사라짐\n",
    "vartest(3)\n",
    "print(a)\n",
    "#NameError   "
   ]
  },
  {
   "cell_type": "code",
   "execution_count": 74,
   "id": "2769f07c",
   "metadata": {},
   "outputs": [
    {
     "name": "stdout",
     "output_type": "stream",
     "text": [
      "1\n",
      "6\n"
     ]
    }
   ],
   "source": [
    "a = 1\n",
    "def vartest():\n",
    "    global a \n",
    "    # 전역변수 a를 직접 수정하겠다\n",
    "    # 유지보수성에 악영향을 줄 수 있음\n",
    "\n",
    "    a = a + 5\n",
    "print(a)\n",
    "vartest()\n",
    "print(a)\n",
    "   "
   ]
  },
  {
   "cell_type": "code",
   "execution_count": 75,
   "id": "22afecd4",
   "metadata": {},
   "outputs": [
    {
     "ename": "SyntaxError",
     "evalue": "name 'a' is parameter and global (488234992.py, line 6)",
     "output_type": "error",
     "traceback": [
      "  \u001b[36mCell\u001b[39m\u001b[36m \u001b[39m\u001b[32mIn[75]\u001b[39m\u001b[32m, line 6\u001b[39m\n\u001b[31m    \u001b[39m\u001b[31mglobal a\u001b[39m\n    ^\n\u001b[31mSyntaxError\u001b[39m\u001b[31m:\u001b[39m name 'a' is parameter and global\n"
     ]
    }
   ],
   "source": [
    "# 만약 매개변수로 받는 변수의 이름과 글로벌 메모리에있는 변수 이름이 겹치면 어떯게 되나요? \n",
    "# 함수 자체가 알아서 글로벌 태그로 구별해주나요? (이승엽 수강생 질문)\n",
    "## SyntaxError 발생\n",
    "a = 1\n",
    "def vartest(a):\n",
    "    global a \n",
    "    # 전역변수 a를 직접 수정하겠다\n",
    "    # 유지보수성에 악영향을 줄 수 있음\n",
    "\n",
    "    a = a + 5\n",
    "print(a)\n",
    "vartest(3)\n",
    "print(a)"
   ]
  },
  {
   "cell_type": "code",
   "execution_count": null,
   "id": "2ca9184b",
   "metadata": {},
   "outputs": [],
   "source": [
    "def say_myself(name, age, man):\n",
    "    print(f'{name}, {age}')"
   ]
  },
  {
   "cell_type": "code",
   "execution_count": null,
   "id": "9bab09a1",
   "metadata": {},
   "outputs": [
    {
     "ename": "TypeError",
     "evalue": "say_myself() missing 1 required positional argument: 'man'",
     "output_type": "error",
     "traceback": [
      "\u001b[31m---------------------------------------------------------------------------\u001b[39m",
      "\u001b[31mTypeError\u001b[39m                                 Traceback (most recent call last)",
      "\u001b[36mCell\u001b[39m\u001b[36m \u001b[39m\u001b[32mIn[9]\u001b[39m\u001b[32m, line 1\u001b[39m\n\u001b[32m----> \u001b[39m\u001b[32m1\u001b[39m \u001b[43msay_myself\u001b[49m\u001b[43m(\u001b[49m\u001b[33;43m\"\u001b[39;49m\u001b[33;43mjimin\u001b[39;49m\u001b[33;43m\"\u001b[39;49m\u001b[43m,\u001b[49m\u001b[43m \u001b[49m\u001b[32;43m29\u001b[39;49m\u001b[43m)\u001b[49m\n",
      "\u001b[31mTypeError\u001b[39m: say_myself() missing 1 required positional argument: 'man'"
     ]
    }
   ],
   "source": [
    "say_myself(\"jimin\", 29)\n",
    "# typeError: say_myself() missing 1 required positional argument: 'man'"
   ]
  },
  {
   "cell_type": "code",
   "execution_count": null,
   "id": "3759c728",
   "metadata": {},
   "outputs": [],
   "source": [
    "def say_myself(name, age, man=True, hobby='python'):\n",
    "    print(f'{name}, {age}')\n",
    "    print(man)\n",
    "    print(hobby)"
   ]
  },
  {
   "cell_type": "code",
   "execution_count": null,
   "id": "e98ceed5",
   "metadata": {},
   "outputs": [
    {
     "name": "stdout",
     "output_type": "stream",
     "text": [
      "jimin, 29\n",
      "False\n",
      "game\n"
     ]
    }
   ],
   "source": [
    "say_myself('jimin', 29, False, 'game')"
   ]
  },
  {
   "cell_type": "code",
   "execution_count": null,
   "id": "d8b267be",
   "metadata": {},
   "outputs": [
    {
     "name": "stdout",
     "output_type": "stream",
     "text": [
      "Hello:::::python:::::World\n"
     ]
    }
   ],
   "source": [
    "print(\"Hello\", \"python\", \"World\", sep=':::::')"
   ]
  },
  {
   "cell_type": "code",
   "execution_count": null,
   "id": "f352d460",
   "metadata": {},
   "outputs": [],
   "source": [
    "# 내장 함수를 활용한 예제\n",
    "zip 함수\n",
    "- zip(*iterable) # 여러 개의 순회 가능한(iterable) 객체를 인자로 받아, \n",
    "# 각 객체에서 동일한 인덱스에 위치한 요소들을 튜플로 묶어주는 함수입니다.\n",
    "- 각 iterable의 동일 인덱스의 item들을 묶어서 튜플 쌍으로 반환\n",
    "- 반환되는 객체는 zip 타입이며, iterable의 길이는 달라도 무방"
   ]
  },
  {
   "cell_type": "code",
   "execution_count": null,
   "id": "15bfb90e",
   "metadata": {},
   "outputs": [
    {
     "name": "stdout",
     "output_type": "stream",
     "text": [
      "<zip object at 0x000001E988677E80>\n"
     ]
    }
   ],
   "source": [
    "r = (52, 255, 39, 132)\n",
    "g = (19, 0, 277, 132)\n",
    "b = (52, 255, 39, 187)\n",
    "\n",
    "img = zip(r, g, b) # img = list(zip(r, g, b))\n",
    "print(img)"
   ]
  },
  {
   "cell_type": "code",
   "execution_count": null,
   "id": "a3a030e7",
   "metadata": {},
   "outputs": [
    {
     "name": "stdout",
     "output_type": "stream",
     "text": [
      "<zip object at 0x000001E9886BC6C0>\n",
      "[(52, 19, 52), (255, 0, 255), (39, 277, 39), (132, 132, 187)]\n",
      "(52, 19, 52)\n",
      "<class 'tuple'>\n"
     ]
    }
   ],
   "source": [
    "r = (52, 255, 39, 132)\n",
    "g = (19, 0, 277, 132)\n",
    "b = (52, 255, 39, 187)\n",
    "\n",
    "zip_abject = zip(r, g, b)\n",
    "print(zip_abject)\n",
    "\n",
    "img = list(zip_abject)\n",
    "print(img)\n",
    "\n",
    "print(img[0])\n",
    "print(type(img[0]))"
   ]
  },
  {
   "cell_type": "code",
   "execution_count": null,
   "id": "f1df0aa9",
   "metadata": {},
   "outputs": [],
   "source": [
    "#내장 함수를 활용한 예제\n",
    "enumerate 함수\n",
    "- enumerate(iterable, [, start=0]) # 순서가 있는 자료형(리스트, 튜플, 문자열)을 입력으로 받아 인덱스 값을 포함하는 enumerate 객체를 반환합니다."
   ]
  },
  {
   "cell_type": "code",
   "execution_count": null,
   "id": "cd23cdce",
   "metadata": {},
   "outputs": [],
   "source": [
    "f = ('apple', 'banana', 'cherry', 'date')"
   ]
  },
  {
   "cell_type": "code",
   "execution_count": null,
   "id": "3becbea8",
   "metadata": {},
   "outputs": [
    {
     "data": {
      "text/plain": [
       "<enumerate at 0x1b5e1f2ede0>"
      ]
     },
     "execution_count": 37,
     "metadata": {},
     "output_type": "execute_result"
    }
   ],
   "source": [
    "enumerate(f, 1)\n",
    "# 생성 위치(주소)가 달라짐"
   ]
  },
  {
   "cell_type": "code",
   "execution_count": null,
   "id": "cdf816bd",
   "metadata": {},
   "outputs": [
    {
     "data": {
      "text/plain": [
       "{1: 'apple', 2: 'banana', 3: 'cherry', 4: 'date'}"
      ]
     },
     "execution_count": 20,
     "metadata": {},
     "output_type": "execute_result"
    }
   ],
   "source": [
    "dict(enumerate(f, 1))"
   ]
  },
  {
   "cell_type": "code",
   "execution_count": null,
   "id": "4f46a2fc",
   "metadata": {},
   "outputs": [],
   "source": [
    "map 함수 #맵핑\n",
    "- map(function, iterable)\n",
    "- function에 iterable의 item들을 인자"
   ]
  },
  {
   "cell_type": "code",
   "execution_count": null,
   "id": "74372942",
   "metadata": {},
   "outputs": [],
   "source": [
    "mylist = [1, 2, 3, 4, 5]\n",
    "# -> [2, 3, 4, 5, 6]\n"
   ]
  },
  {
   "cell_type": "code",
   "execution_count": null,
   "id": "2f656d20",
   "metadata": {},
   "outputs": [
    {
     "name": "stdout",
     "output_type": "stream",
     "text": [
      "[2, 3, 4, 5, 6]\n"
     ]
    }
   ],
   "source": [
    "result = []\n",
    "for i in mylist:\n",
    "    result.append(i + 1)\n",
    "\n",
    "print(result)"
   ]
  },
  {
   "cell_type": "code",
   "execution_count": null,
   "id": "84642068",
   "metadata": {},
   "outputs": [
    {
     "data": {
      "text/plain": [
       "<map at 0x13cb0c43250>"
      ]
     },
     "execution_count": 8,
     "metadata": {},
     "output_type": "execute_result"
    }
   ],
   "source": [
    "mylist = [1, 2, 3, 4, 5]\n",
    "\n",
    "def add_one(n):\n",
    "    return n + 1\n",
    "\n",
    "result = map(add_one, mylist)\n",
    "result"
   ]
  },
  {
   "cell_type": "code",
   "execution_count": null,
   "id": "3ca96c66",
   "metadata": {},
   "outputs": [
    {
     "data": {
      "text/plain": [
       "[2, 3, 4, 5, 6]"
      ]
     },
     "execution_count": 7,
     "metadata": {},
     "output_type": "execute_result"
    }
   ],
   "source": [
    "result = []\n",
    "\n",
    "def add_one(n):\n",
    "    return n + 1\n",
    "\n",
    "result = list(map(add_one, mylist))\n",
    "result"
   ]
  },
  {
   "cell_type": "code",
   "execution_count": null,
   "id": "be948842",
   "metadata": {},
   "outputs": [
    {
     "data": {
      "text/plain": [
       "[3, -6, 100, 25]"
      ]
     },
     "execution_count": 11,
     "metadata": {},
     "output_type": "execute_result"
    }
   ],
   "source": [
    "mylist = [3.14, -5.6, 100.4, 25.0]\n",
    "\n",
    "result = list(map(round, mylist))\n",
    "result"
   ]
  },
  {
   "cell_type": "code",
   "execution_count": null,
   "id": "764d4ee3",
   "metadata": {},
   "outputs": [
    {
     "data": {
      "text/plain": [
       "100"
      ]
     },
     "execution_count": 10,
     "metadata": {},
     "output_type": "execute_result"
    }
   ],
   "source": [
    "round(100.4)"
   ]
  },
  {
   "cell_type": "code",
   "execution_count": null,
   "id": "de7d6b2c",
   "metadata": {},
   "outputs": [],
   "source": [
    "내장 함수를 활용한 예제 - filter 사용하기\n",
    "- 반복 가능한 객체에서 특정 조건을 만족하는 요소들만 걸러내는 함수입니다.\n",
    "- filter 에 지정한 함수의 반환값이 True인 요소들만 걸러냅니다.\n",
    "- filter(함수, 반복 가능한 객체)\n",
    "\n",
    "def f(x):\n",
    "    return x > 5 and x < 10\n",
    "\n",
    "a = [3, 4, 5, 6, 7, 8, 9, 10]\n",
    "list(filter(f, a))"
   ]
  },
  {
   "cell_type": "code",
   "execution_count": null,
   "id": "8ac1601b",
   "metadata": {},
   "outputs": [],
   "source": [
    "a = [8, 3, 2, 10, 15, 7, 0, 11]"
   ]
  },
  {
   "cell_type": "code",
   "execution_count": null,
   "id": "c0c5f655",
   "metadata": {},
   "outputs": [
    {
     "data": {
      "text/plain": [
       "[8, 7]"
      ]
     },
     "execution_count": 19,
     "metadata": {},
     "output_type": "execute_result"
    }
   ],
   "source": [
    "list(filter(lambda x: x>5 and x<10, a))"
   ]
  },
  {
   "cell_type": "code",
   "execution_count": null,
   "id": "11abcf27",
   "metadata": {},
   "outputs": [],
   "source": [
    "def f(x):\n",
    "    return x > 5 and x < 10"
   ]
  },
  {
   "cell_type": "code",
   "execution_count": null,
   "id": "43ceab2b",
   "metadata": {},
   "outputs": [
    {
     "data": {
      "text/plain": [
       "[8, 7]"
      ]
     },
     "execution_count": 18,
     "metadata": {},
     "output_type": "execute_result"
    }
   ],
   "source": [
    "list(filter(f, a))"
   ]
  },
  {
   "cell_type": "code",
   "execution_count": null,
   "id": "23dd07f8",
   "metadata": {},
   "outputs": [
    {
     "data": {
      "text/plain": [
       "[8, 7]"
      ]
     },
     "execution_count": 14,
     "metadata": {},
     "output_type": "execute_result"
    }
   ],
   "source": [
    "result = []\n",
    "for i in a:\n",
    "    if i > 5 and i < 10:\n",
    "        result.append(i)\n",
    "\n",
    "result\n"
   ]
  },
  {
   "cell_type": "code",
   "execution_count": null,
   "id": "c6800845",
   "metadata": {},
   "outputs": [],
   "source": [
    "람다함수(익명함수)\n",
    "- 이름이 없는 함수\n",
    "- 람다함수의 장점 -> 코드의 간결함 메모리의 절약\n",
    "\n",
    "def 함수이름(매개변수):     lambda 매개변수: 결과\n",
    "    return 결과\n",
    "\n",
    ">>> lambda x : x + 1 로 표현 가능"
   ]
  },
  {
   "cell_type": "code",
   "execution_count": null,
   "id": "3f6ac60c",
   "metadata": {},
   "outputs": [
    {
     "name": "stdout",
     "output_type": "stream",
     "text": [
      "[1, 4, 9, 16]\n"
     ]
    }
   ],
   "source": [
    "# 람다함수 사용 예\n",
    "# map: 시퀀스의 각 요소에 함수를 적용하여 새로운 시귄스를 반환.\n",
    "\n",
    "numbers = [1, 2, 3, 4]\n",
    "squared = list(map(lambda x: x**2, numbers))\n",
    "print(squared)"
   ]
  },
  {
   "cell_type": "code",
   "execution_count": null,
   "id": "4b30716f",
   "metadata": {},
   "outputs": [
    {
     "name": "stdout",
     "output_type": "stream",
     "text": [
      "[2, 4]\n"
     ]
    }
   ],
   "source": [
    "# 람다함수 사용 예\n",
    "# filter: 시퀀스의 각 요소에 함수를 적용하여 조건을 만족하는 요소들만 반환.\n",
    "\n",
    "numbers = [1, 2, 3, 4, 5]\n",
    "even_numbers = list(filter(lambda x: x % 2 == 0, numbers))\n",
    "print(even_numbers)"
   ]
  },
  {
   "cell_type": "code",
   "execution_count": null,
   "id": "85614e9a",
   "metadata": {},
   "outputs": [
    {
     "name": "stdout",
     "output_type": "stream",
     "text": [
      "[(5, 1), (1, 2), (3, 4)]\n"
     ]
    }
   ],
   "source": [
    "# 람다함수 사용 예\n",
    "# sorted 함수의 키로 사용하여 특정 조건에 따라 데이터를 정렬\n",
    "\n",
    "points = [(1, 2), (3, 4), (5, 1)]\n",
    "sorted_points = sorted(points, key=lambda point: point[1])\n",
    "print(sorted_points)\n",
    "\n",
    "# 두 번째 값을 기준으로 정렬"
   ]
  },
  {
   "cell_type": "code",
   "execution_count": null,
   "id": "7b1520a5",
   "metadata": {},
   "outputs": [
    {
     "name": "stdout",
     "output_type": "stream",
     "text": [
      "[(4, 1), (5, 1), (1, 2), (3, 4)]\n"
     ]
    }
   ],
   "source": [
    "points = [(1, 2), (3, 4), (5, 1), (4, 1)]\n",
    "sorted_points = sorted(points, key=lambda x: (x[1], x[0]))\n",
    "print(sorted_points)\n",
    "# y축 오름차순"
   ]
  },
  {
   "cell_type": "code",
   "execution_count": null,
   "id": "606edaf3",
   "metadata": {},
   "outputs": [],
   "source": [
    "numbers = [1, 2, 3, 4, 5]"
   ]
  },
  {
   "cell_type": "code",
   "execution_count": null,
   "id": "259df35f",
   "metadata": {},
   "outputs": [],
   "source": [
    "my_nembers = sorted(numbers, reverse=True)"
   ]
  },
  {
   "cell_type": "code",
   "execution_count": null,
   "id": "8996c343",
   "metadata": {},
   "outputs": [
    {
     "data": {
      "text/plain": [
       "[1, 2, 3, 4, 5]"
      ]
     },
     "execution_count": 25,
     "metadata": {},
     "output_type": "execute_result"
    }
   ],
   "source": [
    "numbers"
   ]
  },
  {
   "cell_type": "code",
   "execution_count": null,
   "id": "f6a39bc6",
   "metadata": {},
   "outputs": [
    {
     "data": {
      "text/plain": [
       "[5, 4, 3, 2, 1]"
      ]
     },
     "execution_count": 26,
     "metadata": {},
     "output_type": "execute_result"
    }
   ],
   "source": [
    "my_nembers"
   ]
  },
  {
   "cell_type": "code",
   "execution_count": null,
   "id": "e992dc29",
   "metadata": {},
   "outputs": [
    {
     "data": {
      "text/plain": [
       "['apple', 'banana', 'cherry', 'date']"
      ]
     },
     "execution_count": 28,
     "metadata": {},
     "output_type": "execute_result"
    }
   ],
   "source": [
    "fruits = ['apple','banana', 'cherry', 'date']\n",
    "fruits"
   ]
  },
  {
   "cell_type": "code",
   "execution_count": null,
   "id": "36ccb41d",
   "metadata": {},
   "outputs": [
    {
     "data": {
      "text/plain": [
       "['banana', 'cherry', 'apple', 'date']"
      ]
     },
     "execution_count": 30,
     "metadata": {},
     "output_type": "execute_result"
    }
   ],
   "source": [
    "myfruits = sorted(fruits, key=len, reverse=True)\n",
    "myfruits"
   ]
  },
  {
   "cell_type": "code",
   "execution_count": null,
   "id": "cfef5928",
   "metadata": {},
   "outputs": [],
   "source": [
    "# 등수구하기 \n",
    "\n",
    "# 영어 점수와 수학 점수의 평균 점수를 기준으로 학생들의 등수를 매기려고 합니다. 영어 \n",
    "# 점수와 수학 점수를 담은 2차원 리스트 score가 주어질 때, 영어 점수와 수학 점수의 평균을 \n",
    "# 기준으로 매긴 등수를 담은 리스트를 return하도록 함수를 만들어주세요 \n",
    "\n",
    " \n",
    "\n",
    "[[80, 70], [90, 50], [40, 70], [50, 80]] # [1, 2, 4, 3] \n",
    "\n",
    "[[80, 70], [70, 80], [30, 50], [90, 100], [100, 90], [100, 100], [10, 30]] # [4, 4, 6, 2, 2, 1, 7] \n",
    "\n",
    "def rank(score): \n",
    "    result = []\n",
    "    # YOUR_CODE_HERE\n",
    "    # 1. 평균값을 가지는 리스트\n",
    "    avg = []\n",
    "    for i, j in score:\n",
    "        # print((i+j)/2)\n",
    "        avg.append((i+j)/2)\n",
    "    # print(avg)\n",
    "    #[75.0, 70.0, 55.0, 65.0]\n",
    "    \n",
    "    # 2. 평균값을 내림차순으로 정렬\n",
    "    avg_sort = sorted(avg, reverse=True)\n",
    "    # print(avg_sort)\n",
    "    #[75.0, 70.0, 65.0, 55.0]\n",
    "\n",
    "    # 3. 비교해서 등수 처리\n",
    "    for i in avg:\n",
    "        result.append(avg_sort.index(i) + 1)\n",
    "        #print(result)\n",
    "        #[1, 2, 4, 3]\n",
    "    return result"
   ]
  },
  {
   "cell_type": "code",
   "execution_count": null,
   "id": "99a0ec6d",
   "metadata": {},
   "outputs": [
    {
     "data": {
      "text/plain": [
       "[1, 2, 4, 3]"
      ]
     },
     "execution_count": 65,
     "metadata": {},
     "output_type": "execute_result"
    }
   ],
   "source": [
    "score1 = [[80, 70], [90, 50], [40, 70], [50, 80]]\n",
    "rank(score1) # [1, 2, 4, 3]"
   ]
  },
  {
   "cell_type": "code",
   "execution_count": null,
   "id": "388f0891",
   "metadata": {},
   "outputs": [
    {
     "data": {
      "text/plain": [
       "[4, 4, 6, 2, 2, 1, 7]"
      ]
     },
     "execution_count": 69,
     "metadata": {},
     "output_type": "execute_result"
    }
   ],
   "source": [
    "score2 = [[80, 70], [70, 80], [30, 50], [90, 100], [100, 90], [100, 100], [10, 30]] # [4, 4, 6, 2, 2, 1, 7]\n",
    "rank(score2) # [4, 4, 6, 2, 2, 1, 7]"
   ]
  },
  {
   "cell_type": "code",
   "execution_count": null,
   "id": "9d49f69c",
   "metadata": {},
   "outputs": [],
   "source": [
    "#소수 판별 함수 is_prime()\n",
    "[2,3,4,5,6,7,8,9] # [True, True, False, True, False, True, False, False]"
   ]
  },
  {
   "cell_type": "code",
   "execution_count": 76,
   "id": "6a402e97",
   "metadata": {},
   "outputs": [],
   "source": [
    "def is_prime(num_lsit):\n",
    "    result = []\n",
    "    for num in num_lsit:\n",
    "        isprime = True\n",
    "        for i in range(2, num):\n",
    "            if num % i == 0:\n",
    "                isprime = False\n",
    "                break\n",
    "        result.append(isprime)\n",
    "    return result"
   ]
  },
  {
   "cell_type": "code",
   "execution_count": 77,
   "id": "4b309b6e",
   "metadata": {},
   "outputs": [
    {
     "data": {
      "text/plain": [
       "[True, True, False, True, False, True, False, False]"
      ]
     },
     "execution_count": 77,
     "metadata": {},
     "output_type": "execute_result"
    }
   ],
   "source": [
    "is_prime([2,3,4,5,6,7,8,9])"
   ]
  },
  {
   "cell_type": "code",
   "execution_count": null,
   "id": "8bb1e394",
   "metadata": {},
   "outputs": [],
   "source": [
    "#모듈이란?\n",
    "\n",
    " - 파이썬 코드로 이루어진 파일\n",
    " - 함수나 변수, 클래스 등의 코드가 들어있음\n",
    " - 직접 만들거나(사용자 정의 모듈)\n",
    " - 다른 사람이 만들어 놓은 모듈을 가져와 사용\n",
    "\n",
    " - 사용법 import 모둘명 #모듈 전체를 가져옴, 뒷부분에 as ...를 넣어 긴 모듈명을 줄일 수 있음.\n",
    " - from 모듈명 import 함수1, 함수2, ... #모듈 내 특정 함수만 가지고 오는 방법\n",
    "\n",
    "#패지키란?\n",
    "- 관련 있는 모듈의 집합\n",
    "- 모듈을 담는 디렉토리\n",
    "- 파이썬 모듈을 계층적인 디렉토리 구조로 관리할 수 있게 함\n"
   ]
  },
  {
   "cell_type": "code",
   "execution_count": 83,
   "id": "3d1d18c0",
   "metadata": {},
   "outputs": [],
   "source": [
    "import random"
   ]
  },
  {
   "cell_type": "code",
   "execution_count": 88,
   "id": "04cfc90f",
   "metadata": {},
   "outputs": [
    {
     "data": {
      "text/plain": [
       "24"
      ]
     },
     "execution_count": 88,
     "metadata": {},
     "output_type": "execute_result"
    }
   ],
   "source": [
    "random.randint(1, 100)"
   ]
  },
  {
   "cell_type": "code",
   "execution_count": 90,
   "id": "0e46c29b",
   "metadata": {},
   "outputs": [
    {
     "data": {
      "text/plain": [
       "79"
      ]
     },
     "execution_count": 90,
     "metadata": {},
     "output_type": "execute_result"
    }
   ],
   "source": [
    "import random as r #축약어\n",
    "r.randint(1, 100)"
   ]
  },
  {
   "cell_type": "code",
   "execution_count": 96,
   "id": "91d81220",
   "metadata": {},
   "outputs": [
    {
     "data": {
      "text/plain": [
       "99"
      ]
     },
     "execution_count": 96,
     "metadata": {},
     "output_type": "execute_result"
    }
   ],
   "source": [
    "import random \n",
    "\n",
    "randint(1, 100)"
   ]
  },
  {
   "cell_type": "code",
   "execution_count": 9,
   "id": "034eddb3",
   "metadata": {},
   "outputs": [
    {
     "data": {
      "text/plain": [
       "86"
      ]
     },
     "execution_count": 9,
     "metadata": {},
     "output_type": "execute_result"
    }
   ],
   "source": [
    "from random import randint\n",
    "\n",
    "randint(1, 100)\n",
    "# randrange(1, 3) NameError 발생"
   ]
  },
  {
   "cell_type": "code",
   "execution_count": null,
   "id": "2c9d147f",
   "metadata": {},
   "outputs": [
    {
     "data": {
      "text/plain": [
       "[2]"
      ]
     },
     "execution_count": 101,
     "metadata": {},
     "output_type": "execute_result"
    }
   ],
   "source": [
    "# 권장하지 않음\n",
    "\n",
    "from random import *\n",
    "from math import *\n",
    "# from numpy import *\n",
    "\n",
    "randint(1, 100)\n",
    "randrange(1, 3)\n",
    "sample([1,2,3], 1)\n"
   ]
  },
  {
   "cell_type": "code",
   "execution_count": 104,
   "id": "049e9f37",
   "metadata": {},
   "outputs": [
    {
     "name": "stdout",
     "output_type": "stream",
     "text": [
      "11.0\n"
     ]
    }
   ],
   "source": [
    "# 모듈 가져오기 예제\n",
    "\n",
    "import math\n",
    "\n",
    "num1 = math.pow(2, 3)\n",
    "num2 = math.sqrt(9)\n",
    "\n",
    "print(num1 + num2)"
   ]
  },
  {
   "cell_type": "code",
   "execution_count": 35,
   "id": "4d8c5def",
   "metadata": {},
   "outputs": [
    {
     "name": "stdout",
     "output_type": "stream",
     "text": [
      "[15, 19, 21, 33, 34, 45]\n"
     ]
    }
   ],
   "source": [
    "# 행운번호 추첨기 (무작위 생성된 6개의 숫자 출력)\n",
    "\n",
    "import random as r\n",
    "\n",
    "\n",
    "result = []\n",
    "while len(result) < 6:\n",
    "    num = r.randint(1, 45)\n",
    "    if num not in result:\n",
    "        result.append(num)\n",
    "\n",
    "print(sorted(result)) # 작은 숫자부터 sorted"
   ]
  },
  {
   "cell_type": "markdown",
   "id": "1aaa67c6",
   "metadata": {},
   "source": [
    "## 사용자정의모듈"
   ]
  },
  {
   "cell_type": "code",
   "execution_count": 1,
   "id": "d124548c",
   "metadata": {},
   "outputs": [
    {
     "name": "stdout",
     "output_type": "stream",
     "text": [
      "mymodule안에서의 __name__: mymodule\n",
      "10\n",
      "-2\n"
     ]
    }
   ],
   "source": [
    "import mymodule as mm\n",
    "\n",
    "print(mm.my_add(7, 3))\n",
    "print(mm.my_sub(3, 5))"
   ]
  },
  {
   "cell_type": "code",
   "execution_count": null,
   "id": "5ab54db8",
   "metadata": {},
   "outputs": [
    {
     "data": {
      "text/plain": [
       "'__main__'"
      ]
     },
     "execution_count": 2,
     "metadata": {},
     "output_type": "execute_result"
    }
   ],
   "source": [
    "__name__ 변수\n",
    "\n",
    "파이썬이 내부적으로 사용하는 특별한 변수 이름"
   ]
  },
  {
   "cell_type": "markdown",
   "id": "257c0fd8",
   "metadata": {},
   "source": [
    "## 클래스"
   ]
  },
  {
   "cell_type": "code",
   "execution_count": null,
   "id": "5f799d13",
   "metadata": {},
   "outputs": [],
   "source": [
    "객체지향의 기본적인 개념\n",
    "객체를 표현하기 위한 문법\n",
    "    객체: 체크박스, 스크롤바, 터틀객체 등 특정한 모양이나 개념이 존재하는 것.\n",
    "현실세계 사물의 속성과 동작들을 코드로 구현하는 것\n",
    "관련된 속성과 동작을 하나의 범주로 묶음\n",
    "사물의 속성은 변수로, 동작은 함수(메소드)로 표현\n",
    "    - 속성은 매개변수를 받아 사용하기 위한 값을 정함\n",
    "    - 메소드는 만들어진 속성을 이용해 그에 따른 동작을 실행\n",
    "멤버: 클래스를 구성하는 변수와 함수\n",
    "메소드: 클래스에 속한 함수"
   ]
  },
  {
   "cell_type": "code",
   "execution_count": null,
   "id": "be2868ba",
   "metadata": {},
   "outputs": [],
   "source": [
    "# 클래스 뒤는 대문자로 작성하는 현업자들의 암묵적 규칙이 있다.\n",
    "# 사용자 지정 함수 def __init__는 약속이다.\n",
    "\n",
    "class Person:\n",
    "    def __init__(self, name, age):\n",
    "        self.name = name    \n",
    "        self.age = age\n",
    "\n",
    "    def walk(self):\n",
    "        print(f'{self.name}이 걸어가요')\n"
   ]
  },
  {
   "cell_type": "code",
   "execution_count": 5,
   "id": "82c38bcf",
   "metadata": {},
   "outputs": [],
   "source": [
    "# class 이름을 통해서\n",
    "\n",
    "person1 = Person(\"박지민\", 31)"
   ]
  },
  {
   "cell_type": "code",
   "execution_count": 7,
   "id": "12447baf",
   "metadata": {},
   "outputs": [
    {
     "name": "stdout",
     "output_type": "stream",
     "text": [
      "<class '__main__.Person'>\n"
     ]
    }
   ],
   "source": [
    "print(type(person1))"
   ]
  },
  {
   "cell_type": "code",
   "execution_count": 9,
   "id": "c1e834b2",
   "metadata": {},
   "outputs": [
    {
     "name": "stdout",
     "output_type": "stream",
     "text": [
      "박지민이 걸어가요\n"
     ]
    }
   ],
   "source": [
    "person1.walk()"
   ]
  },
  {
   "cell_type": "code",
   "execution_count": 10,
   "id": "6d84b2d9",
   "metadata": {},
   "outputs": [],
   "source": [
    "person2 = Person(\"전정국\", 29)"
   ]
  },
  {
   "cell_type": "code",
   "execution_count": 11,
   "id": "99ac431e",
   "metadata": {},
   "outputs": [
    {
     "name": "stdout",
     "output_type": "stream",
     "text": [
      "전정국이 걸어가요\n"
     ]
    }
   ],
   "source": [
    "person2.walk()"
   ]
  },
  {
   "cell_type": "code",
   "execution_count": 27,
   "id": "07c88995",
   "metadata": {},
   "outputs": [],
   "source": [
    "class NewPerson(Person):\n",
    "    def fly(self):\n",
    "        print(f'{self.name}이 날아가요')\n",
    "    def walk(self):\n",
    "        print(f'{self.name}이 너무 잘 걸어가요')"
   ]
  },
  {
   "cell_type": "code",
   "execution_count": 30,
   "id": "3f52f76c",
   "metadata": {},
   "outputs": [],
   "source": [
    "person3 = NewPerson(\"정호석\", 33)"
   ]
  },
  {
   "cell_type": "code",
   "execution_count": 31,
   "id": "7cd26430",
   "metadata": {},
   "outputs": [
    {
     "name": "stdout",
     "output_type": "stream",
     "text": [
      "정호석이 너무 잘 걸어가요\n"
     ]
    }
   ],
   "source": [
    "person3.walk()"
   ]
  },
  {
   "cell_type": "code",
   "execution_count": null,
   "id": "01504582",
   "metadata": {},
   "outputs": [],
   "source": [
    "클래스 - 메서드 오버라이딩\n",
    "\n",
    "- 메서드 오버라이딩\n",
    "부모 클래스에 있는 메서드를 동일한 이름으로 다시 만드는 것"
   ]
  },
  {
   "cell_type": "code",
   "execution_count": null,
   "id": "9ca3dbdb",
   "metadata": {},
   "outputs": [],
   "source": [
    "클래스 변수\n",
    "- 클래스 안에 변수를 성언하여 생성\n",
    "- 클래스_이름.클래스 변수로 사용"
   ]
  },
  {
   "cell_type": "code",
   "execution_count": null,
   "id": "6e1c41ce",
   "metadata": {},
   "outputs": [],
   "source": []
  },
  {
   "cell_type": "code",
   "execution_count": 1,
   "id": "b623ea3e",
   "metadata": {},
   "outputs": [
    {
     "name": "stdout",
     "output_type": "stream",
     "text": [
      "mymodule안에서의 __name__: {__name__}\n"
     ]
    },
    {
     "ename": "NameError",
     "evalue": "name 'my_add' is not defined",
     "output_type": "error",
     "traceback": [
      "\u001b[31m---------------------------------------------------------------------------\u001b[39m",
      "\u001b[31mNameError\u001b[39m                                 Traceback (most recent call last)",
      "\u001b[36mCell\u001b[39m\u001b[36m \u001b[39m\u001b[32mIn[1]\u001b[39m\u001b[32m, line 10\u001b[39m\n\u001b[32m      7\u001b[39m \u001b[38;5;28mprint\u001b[39m(\u001b[33m\"\u001b[39m\u001b[33mmymodule안에서의 __name__: \u001b[39m\u001b[38;5;132;01m{__name__}\u001b[39;00m\u001b[33m\"\u001b[39m)\n\u001b[32m      9\u001b[39m \u001b[38;5;28;01mif\u001b[39;00m \u001b[34m__name__\u001b[39m == \u001b[33m\"\u001b[39m\u001b[33m__main__\u001b[39m\u001b[33m\"\u001b[39m:\n\u001b[32m---> \u001b[39m\u001b[32m10\u001b[39m     \u001b[38;5;28mprint\u001b[39m(\u001b[43mmy_add\u001b[49m(\u001b[32m1\u001b[39m, \u001b[32m2\u001b[39m))\n\u001b[32m     11\u001b[39m     \u001b[38;5;28mprint\u001b[39m(my_sub(\u001b[32m3\u001b[39m, \u001b[32m4\u001b[39m))\n\u001b[32m     12\u001b[39m     wizard = Character(\u001b[33m\"\u001b[39m\u001b[33m법사\u001b[39m\u001b[33m\"\u001b[39m)\n",
      "\u001b[31mNameError\u001b[39m: name 'my_add' is not defined"
     ]
    }
   ],
   "source": [
    "class Character:\n",
    "    def __init__(self):\n",
    "        self.name = name\n",
    "    def speak(self):\n",
    "        print(f\"저는 {self.name}입니다.\")\n",
    "\n",
    "print(\"mymodule안에서의 __name__: {__name__}\")\n",
    "\n",
    "if __name__ == \"__main__\":\n",
    "    print(my_add(1, 2))\n",
    "    print(my_sub(3, 4))\n",
    "    wizard = Character(\"법사\")\n",
    "    wizard.speak()\n"
   ]
  },
  {
   "cell_type": "markdown",
   "id": "cb7cb8fd",
   "metadata": {},
   "source": [
    "### 결제시스템\n",
    "신용카드, 포인트 결제"
   ]
  },
  {
   "cell_type": "code",
   "execution_count": null,
   "id": "f2bae078",
   "metadata": {},
   "outputs": [],
   "source": [
    "def pay_credit_payment(card_info, amount):\n",
    "    \"\"\" 신용카드 결제 로직 \"\"\"\n",
    "    print(f\"{card_info['card_number']}카드로 {amount}원 결제합니다.\")\n",
    "    print('결제 완료')\n",
    " \n",
    "def pay_with_point(point_wallet, amount):\n",
    "    if point_wallet['balance'] >= amount:\n",
    "        point_wallet['balance'] -= amount\n",
    "        print(f\"포인트 {amount}점을 사용해서 결제했습니다.\")\n",
    "    else:\n",
    "        print(\"포인트가 부족합니다.\")"
   ]
  },
  {
   "cell_type": "code",
   "execution_count": 23,
   "id": "fd0da387",
   "metadata": {},
   "outputs": [],
   "source": [
    "credit_card = {\n",
    "    'type':'credit_card',\n",
    "    'card_number': '1234-5678-xxxx-xxxx',\n",
    "    'cvc': 123\n",
    "}\n",
    " \n",
    "my_points = {\n",
    "    'type':\"point_wallet\",\n",
    "    'balance': 50000\n",
    "}"
   ]
  },
  {
   "cell_type": "code",
   "execution_count": 20,
   "id": "974b2562",
   "metadata": {},
   "outputs": [],
   "source": [
    "def payment(payment_method, amount):\n",
    "    payment_type=payment_method['type']\n",
    " \n",
    "    if payment_type == 'credit_card':\n",
    "        pay_credit_payment(payment_method, amount)\n",
    "    elif payment_type == 'point_wallet':\n",
    "        pay_with_point(payment_method, amount)\n",
    "    else:\n",
    "        print(\"지원되지 않는 결제방식\")"
   ]
  },
  {
   "cell_type": "code",
   "execution_count": 25,
   "id": "75a7b746",
   "metadata": {},
   "outputs": [
    {
     "name": "stdout",
     "output_type": "stream",
     "text": [
      "1234-5678-xxxx-xxxx카드로 2500원 결제합니다.\n",
      "결제 완료\n",
      "포인트 10000점을 사용해서 결제했습니다.\n",
      "포인트가 부족합니다.\n"
     ]
    }
   ],
   "source": [
    "payment(credit_card, 2500)\n",
    "payment(my_points, 10000)\n",
    "payment(my_points, 50000)"
   ]
  },
  {
   "cell_type": "code",
   "execution_count": 28,
   "id": "42f3d1f5",
   "metadata": {},
   "outputs": [],
   "source": [
    "class PaymentMethod:\n",
    "    def pay(selt, amount):\n",
    "        print(f\"{amount}원 결제\")"
   ]
  },
  {
   "cell_type": "code",
   "execution_count": 41,
   "id": "bf5e3ad7",
   "metadata": {},
   "outputs": [],
   "source": [
    "class PaymentMethod:\n",
    "    def pay(self, amount):\n",
    "        print(f\"{amount}원 결제\")\n",
    " \n",
    "class CreditCard(PaymentMethod):\n",
    "    def __init__(self, card_number, cvc):\n",
    "        self.card_number = card_number\n",
    "        self.cvc = cvc\n",
    "    def pay(self, amount):\n",
    "        print(f\"{self.card_number}카드로 {amount}원 결제합니다.\")\n",
    "        # 서버 결제 요청\n",
    "        print('결제 완료')\n",
    "class PointWallet(PaymentMethod):\n",
    "    def __init__(self, balance):\n",
    "        self.balance = balance\n",
    "    def pay(self, amount):\n",
    "        if self.balance >= amount:\n",
    "            self.balance -= amount\n",
    "            print(f\"포인트 {amount}점을 사용해서 결제했습니다.\")\n",
    "        else:\n",
    "            print(\"포인트가 부족합니다.\")"
   ]
  },
  {
   "cell_type": "code",
   "execution_count": 42,
   "id": "83e73bea",
   "metadata": {},
   "outputs": [],
   "source": [
    "def process_payment(payment_method, amount):\n",
    "    payment_method.pay(amount)\n",
    "\n",
    "card_obj = CreditCard(\"3333-3333-xxxx\", 333)\n",
    "point_obj = PointWallet(50000)"
   ]
  },
  {
   "cell_type": "code",
   "execution_count": 43,
   "id": "e4dab675",
   "metadata": {},
   "outputs": [
    {
     "name": "stdout",
     "output_type": "stream",
     "text": [
      "3333-3333-xxxx카드로 1000원 결제합니다.\n",
      "결제 완료\n",
      "포인트 10000점을 사용해서 결제했습니다.\n",
      "포인트가 부족합니다.\n"
     ]
    }
   ],
   "source": [
    "process_payment(card_obj, 1000)\n",
    "process_payment(point_obj, 10000)\n",
    "process_payment(point_obj, 50000)"
   ]
  },
  {
   "cell_type": "code",
   "execution_count": null,
   "id": "693daac0",
   "metadata": {},
   "outputs": [],
   "source": [
    "파이썬 터들이란?\n",
    "\n",
    "파이썬에서 사용할 수 있는 그래픽 모듈\n",
    "LOGO 언어의 그래픽 라이브러리\n",
    "터틀(거북이) 모양의 커서가 지나간 흔적을 이용해 화면에 선을 그림\n",
    "그래픽 환경에서만 작동\n",
    "\n",
    "https://docs.python.org/ko/3.10/library/turtle.html (참고)"
   ]
  },
  {
   "cell_type": "code",
   "execution_count": 45,
   "id": "e856d484",
   "metadata": {},
   "outputs": [
    {
     "name": "stdout",
     "output_type": "stream",
     "text": [
      "Collecting numpy\n",
      "  Downloading numpy-2.3.3-cp311-cp311-win_amd64.whl.metadata (60 kB)\n",
      "     ---------------------------------------- 0.0/60.9 kB ? eta -:--:--\n",
      "     ------------ ------------------------- 20.5/60.9 kB 330.3 kB/s eta 0:00:01\n",
      "     ------------------------- ------------ 41.0/60.9 kB 495.5 kB/s eta 0:00:01\n",
      "     -------------------------------------- 60.9/60.9 kB 545.1 kB/s eta 0:00:00\n",
      "Downloading numpy-2.3.3-cp311-cp311-win_amd64.whl (13.1 MB)\n",
      "   ---------------------------------------- 0.0/13.1 MB ? eta -:--:--\n",
      "   ---------------------------------------- 0.1/13.1 MB 3.2 MB/s eta 0:00:05\n",
      "   - -------------------------------------- 0.5/13.1 MB 6.6 MB/s eta 0:00:02\n",
      "   --- ------------------------------------ 1.1/13.1 MB 8.9 MB/s eta 0:00:02\n",
      "   ---- ----------------------------------- 1.6/13.1 MB 9.4 MB/s eta 0:00:02\n",
      "   ----- ---------------------------------- 1.9/13.1 MB 9.5 MB/s eta 0:00:02\n",
      "   ------- -------------------------------- 2.3/13.1 MB 8.8 MB/s eta 0:00:02\n",
      "   -------- ------------------------------- 2.7/13.1 MB 8.6 MB/s eta 0:00:02\n",
      "   --------- ------------------------------ 3.0/13.1 MB 8.6 MB/s eta 0:00:02\n",
      "   ---------- ----------------------------- 3.3/13.1 MB 8.4 MB/s eta 0:00:02\n",
      "   ---------- ----------------------------- 3.5/13.1 MB 7.8 MB/s eta 0:00:02\n",
      "   ----------- ---------------------------- 3.9/13.1 MB 7.7 MB/s eta 0:00:02\n",
      "   ------------ --------------------------- 4.1/13.1 MB 7.5 MB/s eta 0:00:02\n",
      "   ------------- -------------------------- 4.3/13.1 MB 7.2 MB/s eta 0:00:02\n",
      "   ------------- -------------------------- 4.6/13.1 MB 7.3 MB/s eta 0:00:02\n",
      "   -------------- ------------------------- 4.9/13.1 MB 7.3 MB/s eta 0:00:02\n",
      "   --------------- ------------------------ 5.2/13.1 MB 7.2 MB/s eta 0:00:02\n",
      "   ---------------- ----------------------- 5.4/13.1 MB 7.0 MB/s eta 0:00:02\n",
      "   ----------------- ---------------------- 5.7/13.1 MB 6.9 MB/s eta 0:00:02\n",
      "   ------------------ --------------------- 5.9/13.1 MB 6.9 MB/s eta 0:00:02\n",
      "   ------------------ --------------------- 6.2/13.1 MB 6.8 MB/s eta 0:00:02\n",
      "   ------------------- -------------------- 6.4/13.1 MB 6.7 MB/s eta 0:00:02\n",
      "   -------------------- ------------------- 6.7/13.1 MB 6.7 MB/s eta 0:00:01\n",
      "   --------------------- ------------------ 7.1/13.1 MB 6.7 MB/s eta 0:00:01\n",
      "   ---------------------- ----------------- 7.4/13.1 MB 6.8 MB/s eta 0:00:01\n",
      "   ----------------------- ---------------- 7.8/13.1 MB 6.9 MB/s eta 0:00:01\n",
      "   ------------------------ --------------- 8.1/13.1 MB 6.9 MB/s eta 0:00:01\n",
      "   ------------------------- -------------- 8.4/13.1 MB 6.9 MB/s eta 0:00:01\n",
      "   --------------------------- ------------ 8.8/13.1 MB 6.9 MB/s eta 0:00:01\n",
      "   ---------------------------- ----------- 9.2/13.1 MB 7.0 MB/s eta 0:00:01\n",
      "   ----------------------------- ---------- 9.6/13.1 MB 7.0 MB/s eta 0:00:01\n",
      "   ------------------------------ --------- 10.1/13.1 MB 7.2 MB/s eta 0:00:01\n",
      "   -------------------------------- ------- 10.6/13.1 MB 7.4 MB/s eta 0:00:01\n",
      "   --------------------------------- ------ 10.9/13.1 MB 7.3 MB/s eta 0:00:01\n",
      "   ---------------------------------- ----- 11.3/13.1 MB 7.2 MB/s eta 0:00:01\n",
      "   ----------------------------------- ---- 11.7/13.1 MB 7.1 MB/s eta 0:00:01\n",
      "   ------------------------------------ --- 12.1/13.1 MB 7.1 MB/s eta 0:00:01\n",
      "   ------------------------------------- -- 12.4/13.1 MB 7.0 MB/s eta 0:00:01\n",
      "   -------------------------------------- - 12.7/13.1 MB 7.0 MB/s eta 0:00:01\n",
      "   ---------------------------------------  13.1/13.1 MB 7.2 MB/s eta 0:00:01\n",
      "   ---------------------------------------- 13.1/13.1 MB 7.0 MB/s eta 0:00:00\n",
      "Installing collected packages: numpy\n",
      "Successfully installed numpy-2.3.3\n"
     ]
    },
    {
     "name": "stderr",
     "output_type": "stream",
     "text": [
      "\n",
      "[notice] A new release of pip is available: 24.0 -> 25.2\n",
      "[notice] To update, run: python.exe -m pip install --upgrade pip\n"
     ]
    }
   ],
   "source": [
    "!pip install numpy"
   ]
  },
  {
   "cell_type": "code",
   "execution_count": 46,
   "id": "ba26b3e2",
   "metadata": {},
   "outputs": [],
   "source": [
    "import numpy"
   ]
  },
  {
   "cell_type": "code",
   "execution_count": 47,
   "id": "01f1905d",
   "metadata": {},
   "outputs": [
    {
     "name": "stdout",
     "output_type": "stream",
     "text": [
      "Collecting beautifulsoup4\n",
      "  Downloading beautifulsoup4-4.13.5-py3-none-any.whl.metadata (3.8 kB)\n",
      "Collecting soupsieve>1.2 (from beautifulsoup4)\n",
      "  Downloading soupsieve-2.8-py3-none-any.whl.metadata (4.6 kB)\n",
      "Requirement already satisfied: typing-extensions>=4.0.0 in c:\\users\\el06\\appdata\\roaming\\python\\python311\\site-packages (from beautifulsoup4) (4.15.0)\n",
      "Downloading beautifulsoup4-4.13.5-py3-none-any.whl (105 kB)\n",
      "   ---------------------------------------- 0.0/105.1 kB ? eta -:--:--\n",
      "   ---------------------------------------- 0.0/105.1 kB ? eta -:--:--\n",
      "   ----------- ---------------------------- 30.7/105.1 kB ? eta -:--:--\n",
      "   ------------------------------- -------- 81.9/105.1 kB 1.5 MB/s eta 0:00:01\n",
      "   ---------------------------------------- 105.1/105.1 kB 1.5 MB/s eta 0:00:00\n",
      "Downloading soupsieve-2.8-py3-none-any.whl (36 kB)\n",
      "Installing collected packages: soupsieve, beautifulsoup4\n",
      "Successfully installed beautifulsoup4-4.13.5 soupsieve-2.8\n"
     ]
    },
    {
     "name": "stderr",
     "output_type": "stream",
     "text": [
      "\n",
      "[notice] A new release of pip is available: 24.0 -> 25.2\n",
      "[notice] To update, run: python.exe -m pip install --upgrade pip\n"
     ]
    }
   ],
   "source": [
    "!pip install beautifulsoup4"
   ]
  },
  {
   "cell_type": "code",
   "execution_count": 49,
   "id": "261cb53d",
   "metadata": {},
   "outputs": [],
   "source": [
    "from bs4 import BeautifulSoup"
   ]
  }
 ],
 "metadata": {
  "kernelspec": {
   "display_name": "Python 3",
   "language": "python",
   "name": "python3"
  },
  "language_info": {
   "codemirror_mode": {
    "name": "ipython",
    "version": 3
   },
   "file_extension": ".py",
   "mimetype": "text/x-python",
   "name": "python",
   "nbconvert_exporter": "python",
   "pygments_lexer": "ipython3",
   "version": "3.11.8"
  }
 },
 "nbformat": 4,
 "nbformat_minor": 5
}
