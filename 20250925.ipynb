{
 "cells": [
  {
   "cell_type": "markdown",
   "id": "a8616be1",
   "metadata": {},
   "source": [
    "## 파이썬 데이터분석\n",
    "#### -아르테미스 달탐사-"
   ]
  },
  {
   "cell_type": "code",
   "execution_count": null,
   "id": "acbb61c9",
   "metadata": {},
   "outputs": [],
   "source": [
    "# 문제 정의 - > 데이터 수집 - > 데이터 가공\n",
    "# - > 데이터 분석 - > 시각화 및 탐색"
   ]
  },
  {
   "cell_type": "code",
   "execution_count": null,
   "id": "0fc0d8b7",
   "metadata": {},
   "outputs": [],
   "source": [
    "1. 문제 정의\n",
    "\n",
    "- 오버 더 문 소개\n",
    "- 우주 암석과 달 암석의 중요성\n",
    "- NASA의 달탐사\n",
    "- 달 암석 채취시의 문제점과 파악 및 분석 주제 결정"
   ]
  },
  {
   "cell_type": "code",
   "execution_count": null,
   "id": "afcf6453",
   "metadata": {},
   "outputs": [],
   "source": []
  }
 ],
 "metadata": {
  "language_info": {
   "name": "python"
  }
 },
 "nbformat": 4,
 "nbformat_minor": 5
}
