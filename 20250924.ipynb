{
 "cells": [
  {
   "cell_type": "markdown",
   "id": "6491a693",
   "metadata": {},
   "source": [
    "## 파이썬\n",
    "\n",
    "Numpy, Pandas, Matplotlib"
   ]
  },
  {
   "cell_type": "code",
   "execution_count": null,
   "id": "0c5904ee",
   "metadata": {},
   "outputs": [],
   "source": [
    "넘파이(Numpy)\n",
    "    대수, 행렬, 통계 등 수학 및 과학 연산을 위한 라이브러리\n",
    "    ndarray라는 다차원 배열을 데이터로 나타내고 처리하는데 특화\n",
    "    실행속도가 빠르고 짧고 간경한 코드 구현이 가능.\n",
    "    외부 라이브러리임"
   ]
  },
  {
   "cell_type": "code",
   "execution_count": null,
   "id": "8a1f0afe",
   "metadata": {},
   "outputs": [],
   "source": [
    "NumPy 배열과 파이썬 리스트의 차이\n",
    "    파이썬 리스트는 배열에 실제 데이터의 주소가 담겨져있음\n",
    "    이것으로 인해 서로 다른 데이터 타입을 리스트 요소로 넣을 수 있음\n",
    "    반면 Numpy 배열은 실제 데이터가 배열에 들어 있음\n",
    "    리스트는 데이터를 읽고 쓰기에 numpy 배열보다 2배의 시간이 걸림\n",
    "    대량의 배열 연산 또는 행렬 연산에는 numpy가 유리함"
   ]
  },
  {
   "cell_type": "code",
   "execution_count": null,
   "id": "95eae1a8",
   "metadata": {},
   "outputs": [],
   "source": [
    "넘파이 배열\n",
    "    넘파이는 다차원 배열을 지원\n",
    "    한 가지 자료형 데이터를 요소로 갖음\n",
    "\n",
    "벡터 > 매트릭스 > 텐서(3차원 이상)"
   ]
  },
  {
   "cell_type": "code",
   "execution_count": null,
   "id": "9e076d4a",
   "metadata": {},
   "outputs": [],
   "source": [
    "np.array(리스트)\n",
    "넘파이 배열은 콤마(,) 없이 공백으로 데이터를 구분함."
   ]
  },
  {
   "cell_type": "code",
   "execution_count": null,
   "id": "5a2cd600",
   "metadata": {},
   "outputs": [],
   "source": [
    "np.arange(시작 인덱스 :  끝 인덱스: 간격)"
   ]
  },
  {
   "cell_type": "code",
   "execution_count": null,
   "id": "4450670c",
   "metadata": {},
   "outputs": [],
   "source": [
    "넘파이 배열에 들어가는 자료형\n",
    "    한 가지 데이터 타입으로 통일되어 처리됨\n",
    "    큰 범위의 데이터 처리를 기준으로 바뀜\n",
    "    문자열행으로 통일, 실수형으로 통일"
   ]
  },
  {
   "cell_type": "code",
   "execution_count": null,
   "id": "7ca82d6b",
   "metadata": {},
   "outputs": [],
   "source": [
    "2차원 배열 생성\n",
    "    2차원 배열은 핼렬(matrix)라고 함\n",
    "가로중은 행(row), 세로줄은 열(column)"
   ]
  },
  {
   "cell_type": "code",
   "execution_count": null,
   "id": "efaeafed",
   "metadata": {},
   "outputs": [],
   "source": [
    "3차원 이상의 배열은 tensor\n",
    "배열의 차원과 크기 알아보기\n",
    "    .ndim 차원을 알려줌\n",
    "    shape 넘파이.shape"
   ]
  },
  {
   "cell_type": "code",
   "execution_count": null,
   "id": "08d88b27",
   "metadata": {},
   "outputs": [],
   "source": [
    ".shape\n",
    "1차원 요소수가 4개라서 \n",
    "(4,) 1차원이 이렇게 표현 됨.\n"
   ]
  },
  {
   "cell_type": "code",
   "execution_count": null,
   "id": "d3400949",
   "metadata": {},
   "outputs": [],
   "source": [
    "넘파이 배열명.reshape(크기)\n",
    "\n",
    "넘파이 연산\n",
    "shape이 같다면 덧셈, 뺄셈, 곱셈, 나눗셈의 연산을 할 수 있다.\n",
    "동일한 인덱스 끼리 알아서 연산\n",
    "np.array() 일괄적으로 모든 요소에 적용 거눙 (식 등)"
   ]
  },
  {
   "cell_type": "markdown",
   "id": "be29a3af",
   "metadata": {},
   "source": [
    "#### Numpy"
   ]
  },
  {
   "cell_type": "code",
   "execution_count": 4,
   "id": "c6d5c4a6",
   "metadata": {},
   "outputs": [],
   "source": [
    "import numpy as np\n",
    "# (확인 코드)"
   ]
  },
  {
   "cell_type": "code",
   "execution_count": 5,
   "id": "39e0f189",
   "metadata": {},
   "outputs": [
    {
     "data": {
      "text/plain": [
       "'2.3.3'"
      ]
     },
     "execution_count": 5,
     "metadata": {},
     "output_type": "execute_result"
    }
   ],
   "source": [
    "np.__version__"
   ]
  },
  {
   "cell_type": "code",
   "execution_count": null,
   "id": "7be81478",
   "metadata": {},
   "outputs": [],
   "source": [
    "!pip install numpy\n",
    "numpy는 list보다 속도가 빠르다"
   ]
  },
  {
   "cell_type": "code",
   "execution_count": 6,
   "id": "24a9da2f",
   "metadata": {},
   "outputs": [
    {
     "name": "stdout",
     "output_type": "stream",
     "text": [
      "54.1 μs ± 12.7 μs per loop (mean ± std. dev. of 7 runs, 10,000 loops each)\n"
     ]
    }
   ],
   "source": [
    "L = range(1000)\n",
    "%timeit L2 = [i **2 for i in L] #% timeit 시간 측정 매직 키워드 "
   ]
  },
  {
   "cell_type": "code",
   "execution_count": null,
   "id": "b1ca7efe",
   "metadata": {},
   "outputs": [
    {
     "name": "stdout",
     "output_type": "stream",
     "text": [
      "1.22 μs ± 27 ns per loop (mean ± std. dev. of 7 runs, 1,000,000 loops each)\n"
     ]
    }
   ],
   "source": [
    "arr = np.arange(1000)\n",
    "%timeit arr2 = arr**2\n",
    "\n",
    "# arr가 list보다 2배 정도 빠르다\n",
    "# 차이만 확인"
   ]
  },
  {
   "cell_type": "code",
   "execution_count": 8,
   "id": "7bfac132",
   "metadata": {},
   "outputs": [],
   "source": [
    "alist = [1,2,3,4,5,6]"
   ]
  },
  {
   "cell_type": "code",
   "execution_count": 9,
   "id": "d58e423c",
   "metadata": {},
   "outputs": [
    {
     "name": "stdout",
     "output_type": "stream",
     "text": [
      "[1, 2, 3, 4, 5, 6]\n",
      "<class 'list'>\n"
     ]
    }
   ],
   "source": [
    "print(alist)\n",
    "print(type(alist))"
   ]
  },
  {
   "cell_type": "code",
   "execution_count": null,
   "id": "e25571f5",
   "metadata": {},
   "outputs": [],
   "source": [
    "#의도적으로 빈칸을 둘 경우\n",
    "blist = [1,2,  ,4,5,6] # SyntaxError 발생\n"
   ]
  },
  {
   "cell_type": "code",
   "execution_count": null,
   "id": "29fc8685",
   "metadata": {},
   "outputs": [
    {
     "name": "stdout",
     "output_type": "stream",
     "text": [
      "[1 2 3 4 5 6]\n",
      "<class 'numpy.ndarray'>\n"
     ]
    }
   ],
   "source": [
    "ar1 = np.array(alist) # (.) 콤마가 살라짐\n",
    "print(ar1)\n",
    "print(type(ar1))"
   ]
  },
  {
   "cell_type": "code",
   "execution_count": null,
   "id": "bffae558",
   "metadata": {},
   "outputs": [
    {
     "data": {
      "text/plain": [
       "dtype('int64')"
      ]
     },
     "execution_count": 12,
     "metadata": {},
     "output_type": "execute_result"
    }
   ],
   "source": [
    "ar1.dtype\n",
    "# 정수형 타입"
   ]
  },
  {
   "cell_type": "code",
   "execution_count": 13,
   "id": "7ae25a8e",
   "metadata": {},
   "outputs": [],
   "source": [
    "ar2 = np.array([1.1, 2.2, 3.3])"
   ]
  },
  {
   "cell_type": "code",
   "execution_count": 15,
   "id": "0efc1b86",
   "metadata": {},
   "outputs": [
    {
     "name": "stdout",
     "output_type": "stream",
     "text": [
      "[1.1 2.2 3.3]\n"
     ]
    }
   ],
   "source": [
    "print(ar2)"
   ]
  },
  {
   "cell_type": "code",
   "execution_count": 16,
   "id": "7105fc70",
   "metadata": {},
   "outputs": [
    {
     "data": {
      "text/plain": [
       "dtype('float64')"
      ]
     },
     "execution_count": 16,
     "metadata": {},
     "output_type": "execute_result"
    }
   ],
   "source": [
    "ar2.dtype"
   ]
  },
  {
   "cell_type": "code",
   "execution_count": 17,
   "id": "a6f72228",
   "metadata": {},
   "outputs": [
    {
     "name": "stdout",
     "output_type": "stream",
     "text": [
      "[1 2 3]\n",
      "int64\n"
     ]
    }
   ],
   "source": [
    "list_data = [1,2. , 3]\n",
    "\n",
    "ar3 = np.array(list_data, dtype='int')\n",
    "\n",
    "print(ar3)\n",
    "print(ar3.dtype)\n"
   ]
  },
  {
   "cell_type": "code",
   "execution_count": null,
   "id": "a5eec472",
   "metadata": {},
   "outputs": [
    {
     "data": {
      "text/plain": [
       "array([ 1.,  2., nan,  4.])"
      ]
     },
     "execution_count": 19,
     "metadata": {},
     "output_type": "execute_result"
    }
   ],
   "source": [
    "np.array([1,2, np.nan,4]) # 확장 1차원\n",
    "#none - 파이썬 입장, nan=null - 데이터의 입장"
   ]
  },
  {
   "cell_type": "code",
   "execution_count": 20,
   "id": "e3b0d1f7",
   "metadata": {},
   "outputs": [
    {
     "name": "stdout",
     "output_type": "stream",
     "text": [
      "[1 2 3 4]\n",
      "1\n",
      "(4,)\n"
     ]
    }
   ],
   "source": [
    "arr1 = np.array([1,2,3,4])\n",
    "\n",
    "print(arr1)\n",
    "print(arr1.ndim)\n",
    "print(arr1.shape)"
   ]
  },
  {
   "cell_type": "code",
   "execution_count": 22,
   "id": "bb5e1454",
   "metadata": {},
   "outputs": [
    {
     "data": {
      "text/plain": [
       "(1, 4)"
      ]
     },
     "execution_count": 22,
     "metadata": {},
     "output_type": "execute_result"
    }
   ],
   "source": [
    "(1, 4)"
   ]
  },
  {
   "cell_type": "code",
   "execution_count": 23,
   "id": "c499bc5c",
   "metadata": {},
   "outputs": [
    {
     "name": "stdout",
     "output_type": "stream",
     "text": [
      "[[1 2 3 4]]\n",
      "2\n",
      "(1, 4)\n"
     ]
    }
   ],
   "source": [
    "arr2 = np.array([[1, 2, 3, 4]])\n",
    "\n",
    "print(arr2)\n",
    "print(arr2.ndim)\n",
    "print(arr2.shape)"
   ]
  },
  {
   "cell_type": "code",
   "execution_count": 24,
   "id": "efac93da",
   "metadata": {},
   "outputs": [
    {
     "data": {
      "text/plain": [
       "(1, 2, 3)"
      ]
     },
     "execution_count": 24,
     "metadata": {},
     "output_type": "execute_result"
    }
   ],
   "source": [
    "(1, 2, 3)"
   ]
  },
  {
   "cell_type": "code",
   "execution_count": 25,
   "id": "ac604b25",
   "metadata": {},
   "outputs": [
    {
     "name": "stdout",
     "output_type": "stream",
     "text": [
      "[[ 1  2  3  4]\n",
      " [ 5  6  7  8]\n",
      " [ 9 10 11 12]]\n",
      "2\n",
      "(3, 4)\n"
     ]
    }
   ],
   "source": [
    "arr2 = np.array([[1, 2, 3, 4], [5, 6, 7, 8], [9, 10, 11, 12]])\n",
    "\n",
    "print(arr2)\n",
    "print(arr2.ndim)\n",
    "print(arr2.shape)"
   ]
  },
  {
   "cell_type": "code",
   "execution_count": 30,
   "id": "c6259f84",
   "metadata": {},
   "outputs": [
    {
     "name": "stdout",
     "output_type": "stream",
     "text": [
      "[[[ 1  2  3]\n",
      "  [ 4  5  6]]\n",
      "\n",
      " [[ 7  8  9]\n",
      "  [10 11 12]]]\n",
      "3\n",
      "(2, 2, 3)\n"
     ]
    }
   ],
   "source": [
    "arr3 = arr2.reshape(2, -1, 3) # -1는 하나만\n",
    "\n",
    "print(arr3)\n",
    "print(arr3.ndim)\n",
    "print(arr3.shape)"
   ]
  },
  {
   "cell_type": "code",
   "execution_count": 40,
   "id": "8a1bcd14",
   "metadata": {},
   "outputs": [],
   "source": [
    "alist = np.array([1,2,3,4,5])\n",
    "blist = np.array([6,7,8,9,10])"
   ]
  },
  {
   "cell_type": "code",
   "execution_count": 41,
   "id": "6fd0a4d8",
   "metadata": {},
   "outputs": [
    {
     "name": "stdout",
     "output_type": "stream",
     "text": [
      "[ 7  9 11 13 15]\n",
      "[-5 -5 -5 -5 -5]\n",
      "[ 6 14 24 36 50]\n",
      "[0.16666667 0.28571429 0.375      0.44444444 0.5       ]\n"
     ]
    }
   ],
   "source": [
    "print(alist + blist)\n",
    "print(alist - blist)\n",
    "print(alist * blist)\n",
    "print(alist / blist)"
   ]
  },
  {
   "cell_type": "code",
   "execution_count": 42,
   "id": "d763fa10",
   "metadata": {},
   "outputs": [
    {
     "name": "stdout",
     "output_type": "stream",
     "text": [
      "[3 4 5 6 7]\n",
      "[-1  0  1  2  3]\n",
      "[ 2  4  6  8 10]\n",
      "[0.5 1.  1.5 2.  2.5]\n"
     ]
    }
   ],
   "source": [
    "print(alist + 2)\n",
    "print(alist - 2)\n",
    "print(alist * 2)\n",
    "print(alist / 2)"
   ]
  }
 ],
 "metadata": {
  "kernelspec": {
   "display_name": "Python 3",
   "language": "python",
   "name": "python3"
  },
  "language_info": {
   "codemirror_mode": {
    "name": "ipython",
    "version": 3
   },
   "file_extension": ".py",
   "mimetype": "text/x-python",
   "name": "python",
   "nbconvert_exporter": "python",
   "pygments_lexer": "ipython3",
   "version": "3.11.8"
  }
 },
 "nbformat": 4,
 "nbformat_minor": 5
}
