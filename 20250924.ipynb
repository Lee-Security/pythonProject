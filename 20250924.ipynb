{
 "cells": [
  {
   "cell_type": "markdown",
   "id": "6491a693",
   "metadata": {},
   "source": [
    "## 파이썬\n",
    "\n",
    "Numpy, Pandas, Matplotlib"
   ]
  },
  {
   "cell_type": "code",
   "execution_count": null,
   "id": "0c5904ee",
   "metadata": {},
   "outputs": [],
   "source": [
    "넘파이(Numpy)\n",
    "    대수, 행렬, 통계 등 수학 및 과학 연산을 위한 라이브러리\n",
    "    ndarray라는 다차원 배열을 데이터로 나타내고 처리하는데 특화\n",
    "    실행속도가 빠르고 짧고 간경한 코드 구현이 가능.\n",
    "    외부 라이브러리임"
   ]
  },
  {
   "cell_type": "code",
   "execution_count": null,
   "id": "8a1f0afe",
   "metadata": {},
   "outputs": [],
   "source": [
    "NumPy 배열과 파이썬 리스트의 차이\n",
    "    파이썬 리스트는 배열에 실제 데이터의 주소가 담겨져있음\n",
    "    이것으로 인해 서로 다른 데이터 타입을 리스트 요소로 넣을 수 있음\n",
    "    반면 Numpy 배열은 실제 데이터가 배열에 들어 있음\n",
    "    리스트는 데이터를 읽고 쓰기에 numpy 배열보다 2배의 시간이 걸림\n",
    "    대량의 배열 연산 또는 행렬 연산에는 numpy가 유리함"
   ]
  },
  {
   "cell_type": "code",
   "execution_count": null,
   "id": "95eae1a8",
   "metadata": {},
   "outputs": [],
   "source": [
    "넘파이 배열\n",
    "    넘파이는 다차원 배열을 지원\n",
    "    한 가지 자료형 데이터를 요소로 갖음\n",
    "\n",
    "벡터 > 매트릭스 > 텐서(3차원 이상)"
   ]
  },
  {
   "cell_type": "code",
   "execution_count": null,
   "id": "9e076d4a",
   "metadata": {},
   "outputs": [],
   "source": [
    "np.array(리스트)\n",
    "넘파이 배열은 콤마(,) 없이 공백으로 데이터를 구분함."
   ]
  },
  {
   "cell_type": "code",
   "execution_count": null,
   "id": "5a2cd600",
   "metadata": {},
   "outputs": [],
   "source": [
    "np.arange(시작 인덱스 :  끝 인덱스: 간격)"
   ]
  },
  {
   "cell_type": "code",
   "execution_count": null,
   "id": "4450670c",
   "metadata": {},
   "outputs": [],
   "source": [
    "넘파이 배열에 들어가는 자료형\n",
    "    한 가지 데이터 타입으로 통일되어 처리됨\n",
    "    큰 범위의 데이터 처리를 기준으로 바뀜\n",
    "    문자열행으로 통일, 실수형으로 통일"
   ]
  },
  {
   "cell_type": "code",
   "execution_count": null,
   "id": "7ca82d6b",
   "metadata": {},
   "outputs": [],
   "source": [
    "2차원 배열 생성\n",
    "    2차원 배열은 핼렬(matrix)라고 함\n",
    "가로중은 행(row), 세로줄은 열(column)"
   ]
  },
  {
   "cell_type": "code",
   "execution_count": null,
   "id": "efaeafed",
   "metadata": {},
   "outputs": [],
   "source": [
    "3차원 이상의 배열은 tensor\n",
    "배열의 차원과 크기 알아보기\n",
    "    .ndim 차원을 알려줌\n",
    "    shape 넘파이.shape"
   ]
  },
  {
   "cell_type": "code",
   "execution_count": null,
   "id": "08d88b27",
   "metadata": {},
   "outputs": [],
   "source": [
    ".shape\n",
    "1차원 요소수가 4개라서 \n",
    "(4,) 1차원이 이렇게 표현 됨.\n"
   ]
  },
  {
   "cell_type": "code",
   "execution_count": null,
   "id": "d3400949",
   "metadata": {},
   "outputs": [],
   "source": [
    "넘파이 배열명.reshape(크기)\n",
    "\n",
    "넘파이 연산\n",
    "shape이 같다면 덧셈, 뺄셈, 곱셈, 나눗셈의 연산을 할 수 있다.\n",
    "동일한 인덱스 끼리 알아서 연산\n",
    "np.array() 일괄적으로 모든 요소에 적용 거눙 (식 등)"
   ]
  },
  {
   "cell_type": "markdown",
   "id": "be29a3af",
   "metadata": {},
   "source": [
    "#### Numpy"
   ]
  },
  {
   "cell_type": "code",
   "execution_count": 2,
   "id": "c6d5c4a6",
   "metadata": {},
   "outputs": [],
   "source": [
    "import numpy as np\n",
    "# (확인 코드)"
   ]
  },
  {
   "cell_type": "code",
   "execution_count": 5,
   "id": "39e0f189",
   "metadata": {},
   "outputs": [
    {
     "data": {
      "text/plain": [
       "'2.3.3'"
      ]
     },
     "execution_count": 5,
     "metadata": {},
     "output_type": "execute_result"
    }
   ],
   "source": [
    "np.__version__"
   ]
  },
  {
   "cell_type": "code",
   "execution_count": null,
   "id": "7be81478",
   "metadata": {},
   "outputs": [],
   "source": [
    "!pip install numpy\n",
    "numpy는 list보다 속도가 빠르다"
   ]
  },
  {
   "cell_type": "code",
   "execution_count": 6,
   "id": "24a9da2f",
   "metadata": {},
   "outputs": [
    {
     "name": "stdout",
     "output_type": "stream",
     "text": [
      "54.1 μs ± 12.7 μs per loop (mean ± std. dev. of 7 runs, 10,000 loops each)\n"
     ]
    }
   ],
   "source": [
    "L = range(1000)\n",
    "%timeit L2 = [i **2 for i in L] #% timeit 시간 측정 매직 키워드 "
   ]
  },
  {
   "cell_type": "code",
   "execution_count": null,
   "id": "b1ca7efe",
   "metadata": {},
   "outputs": [
    {
     "name": "stdout",
     "output_type": "stream",
     "text": [
      "1.22 μs ± 27 ns per loop (mean ± std. dev. of 7 runs, 1,000,000 loops each)\n"
     ]
    }
   ],
   "source": [
    "arr = np.arange(1000)\n",
    "%timeit arr2 = arr**2\n",
    "\n",
    "# arr가 list보다 2배 정도 빠르다\n",
    "# 차이만 확인"
   ]
  },
  {
   "cell_type": "code",
   "execution_count": 8,
   "id": "7bfac132",
   "metadata": {},
   "outputs": [],
   "source": [
    "alist = [1,2,3,4,5,6]"
   ]
  },
  {
   "cell_type": "code",
   "execution_count": 9,
   "id": "d58e423c",
   "metadata": {},
   "outputs": [
    {
     "name": "stdout",
     "output_type": "stream",
     "text": [
      "[1, 2, 3, 4, 5, 6]\n",
      "<class 'list'>\n"
     ]
    }
   ],
   "source": [
    "print(alist)\n",
    "print(type(alist))"
   ]
  },
  {
   "cell_type": "code",
   "execution_count": null,
   "id": "e25571f5",
   "metadata": {},
   "outputs": [],
   "source": [
    "#의도적으로 빈칸을 둘 경우\n",
    "blist = [1,2,  ,4,5,6] # SyntaxError 발생\n"
   ]
  },
  {
   "cell_type": "code",
   "execution_count": null,
   "id": "29fc8685",
   "metadata": {},
   "outputs": [
    {
     "name": "stdout",
     "output_type": "stream",
     "text": [
      "[1 2 3 4 5 6]\n",
      "<class 'numpy.ndarray'>\n"
     ]
    }
   ],
   "source": [
    "ar1 = np.array(alist) # (.) 콤마가 살라짐\n",
    "print(ar1)\n",
    "print(type(ar1))"
   ]
  },
  {
   "cell_type": "code",
   "execution_count": null,
   "id": "bffae558",
   "metadata": {},
   "outputs": [
    {
     "data": {
      "text/plain": [
       "dtype('int64')"
      ]
     },
     "execution_count": 12,
     "metadata": {},
     "output_type": "execute_result"
    }
   ],
   "source": [
    "ar1.dtype\n",
    "# 정수형 타입"
   ]
  },
  {
   "cell_type": "code",
   "execution_count": 13,
   "id": "7ae25a8e",
   "metadata": {},
   "outputs": [],
   "source": [
    "ar2 = np.array([1.1, 2.2, 3.3])"
   ]
  },
  {
   "cell_type": "code",
   "execution_count": 15,
   "id": "0efc1b86",
   "metadata": {},
   "outputs": [
    {
     "name": "stdout",
     "output_type": "stream",
     "text": [
      "[1.1 2.2 3.3]\n"
     ]
    }
   ],
   "source": [
    "print(ar2)"
   ]
  },
  {
   "cell_type": "code",
   "execution_count": 16,
   "id": "7105fc70",
   "metadata": {},
   "outputs": [
    {
     "data": {
      "text/plain": [
       "dtype('float64')"
      ]
     },
     "execution_count": 16,
     "metadata": {},
     "output_type": "execute_result"
    }
   ],
   "source": [
    "ar2.dtype"
   ]
  },
  {
   "cell_type": "code",
   "execution_count": 17,
   "id": "a6f72228",
   "metadata": {},
   "outputs": [
    {
     "name": "stdout",
     "output_type": "stream",
     "text": [
      "[1 2 3]\n",
      "int64\n"
     ]
    }
   ],
   "source": [
    "list_data = [1,2. , 3]\n",
    "\n",
    "ar3 = np.array(list_data, dtype='int')\n",
    "\n",
    "print(ar3)\n",
    "print(ar3.dtype)\n"
   ]
  },
  {
   "cell_type": "code",
   "execution_count": null,
   "id": "a5eec472",
   "metadata": {},
   "outputs": [
    {
     "data": {
      "text/plain": [
       "array([ 1.,  2., nan,  4.])"
      ]
     },
     "execution_count": 19,
     "metadata": {},
     "output_type": "execute_result"
    }
   ],
   "source": [
    "np.array([1,2, np.nan,4]) # 확장 1차원\n",
    "#none - 파이썬 입장, nan=null - 데이터의 입장"
   ]
  },
  {
   "cell_type": "code",
   "execution_count": 20,
   "id": "e3b0d1f7",
   "metadata": {},
   "outputs": [
    {
     "name": "stdout",
     "output_type": "stream",
     "text": [
      "[1 2 3 4]\n",
      "1\n",
      "(4,)\n"
     ]
    }
   ],
   "source": [
    "arr1 = np.array([1,2,3,4])\n",
    "\n",
    "print(arr1)\n",
    "print(arr1.ndim)\n",
    "print(arr1.shape)"
   ]
  },
  {
   "cell_type": "code",
   "execution_count": 22,
   "id": "bb5e1454",
   "metadata": {},
   "outputs": [
    {
     "data": {
      "text/plain": [
       "(1, 4)"
      ]
     },
     "execution_count": 22,
     "metadata": {},
     "output_type": "execute_result"
    }
   ],
   "source": [
    "(1, 4)"
   ]
  },
  {
   "cell_type": "code",
   "execution_count": 23,
   "id": "c499bc5c",
   "metadata": {},
   "outputs": [
    {
     "name": "stdout",
     "output_type": "stream",
     "text": [
      "[[1 2 3 4]]\n",
      "2\n",
      "(1, 4)\n"
     ]
    }
   ],
   "source": [
    "arr2 = np.array([[1, 2, 3, 4]])\n",
    "\n",
    "print(arr2)\n",
    "print(arr2.ndim)\n",
    "print(arr2.shape)"
   ]
  },
  {
   "cell_type": "code",
   "execution_count": 24,
   "id": "efac93da",
   "metadata": {},
   "outputs": [
    {
     "data": {
      "text/plain": [
       "(1, 2, 3)"
      ]
     },
     "execution_count": 24,
     "metadata": {},
     "output_type": "execute_result"
    }
   ],
   "source": [
    "(1, 2, 3)"
   ]
  },
  {
   "cell_type": "code",
   "execution_count": 25,
   "id": "ac604b25",
   "metadata": {},
   "outputs": [
    {
     "name": "stdout",
     "output_type": "stream",
     "text": [
      "[[ 1  2  3  4]\n",
      " [ 5  6  7  8]\n",
      " [ 9 10 11 12]]\n",
      "2\n",
      "(3, 4)\n"
     ]
    }
   ],
   "source": [
    "arr2 = np.array([[1, 2, 3, 4], [5, 6, 7, 8], [9, 10, 11, 12]])\n",
    "\n",
    "print(arr2)\n",
    "print(arr2.ndim)\n",
    "print(arr2.shape)"
   ]
  },
  {
   "cell_type": "code",
   "execution_count": 30,
   "id": "c6259f84",
   "metadata": {},
   "outputs": [
    {
     "name": "stdout",
     "output_type": "stream",
     "text": [
      "[[[ 1  2  3]\n",
      "  [ 4  5  6]]\n",
      "\n",
      " [[ 7  8  9]\n",
      "  [10 11 12]]]\n",
      "3\n",
      "(2, 2, 3)\n"
     ]
    }
   ],
   "source": [
    "arr3 = arr2.reshape(2, -1, 3) # -1는 하나만\n",
    "\n",
    "print(arr3)\n",
    "print(arr3.ndim)\n",
    "print(arr3.shape)"
   ]
  },
  {
   "cell_type": "code",
   "execution_count": 40,
   "id": "8a1bcd14",
   "metadata": {},
   "outputs": [],
   "source": [
    "alist = np.array([1,2,3,4,5])\n",
    "blist = np.array([6,7,8,9,10])"
   ]
  },
  {
   "cell_type": "code",
   "execution_count": 41,
   "id": "6fd0a4d8",
   "metadata": {},
   "outputs": [
    {
     "name": "stdout",
     "output_type": "stream",
     "text": [
      "[ 7  9 11 13 15]\n",
      "[-5 -5 -5 -5 -5]\n",
      "[ 6 14 24 36 50]\n",
      "[0.16666667 0.28571429 0.375      0.44444444 0.5       ]\n"
     ]
    }
   ],
   "source": [
    "print(alist + blist)\n",
    "print(alist - blist)\n",
    "print(alist * blist)\n",
    "print(alist / blist)"
   ]
  },
  {
   "cell_type": "code",
   "execution_count": 42,
   "id": "d763fa10",
   "metadata": {},
   "outputs": [
    {
     "name": "stdout",
     "output_type": "stream",
     "text": [
      "[3 4 5 6 7]\n",
      "[-1  0  1  2  3]\n",
      "[ 2  4  6  8 10]\n",
      "[0.5 1.  1.5 2.  2.5]\n"
     ]
    }
   ],
   "source": [
    "print(alist + 2)\n",
    "print(alist - 2)\n",
    "print(alist * 2)\n",
    "print(alist / 2)"
   ]
  },
  {
   "cell_type": "code",
   "execution_count": null,
   "id": "d212f47f",
   "metadata": {},
   "outputs": [],
   "source": [
    "#다양한 인덱싱 슬라이스를 지원함"
   ]
  },
  {
   "cell_type": "code",
   "execution_count": 43,
   "id": "323c8149",
   "metadata": {},
   "outputs": [],
   "source": [
    "a = np.array([1,2,3])\n",
    "b = np.array([10,20,30])"
   ]
  },
  {
   "cell_type": "code",
   "execution_count": null,
   "id": "3070d3ce",
   "metadata": {},
   "outputs": [],
   "source": [
    "#백터화 연산 (개인 복습 필요)"
   ]
  },
  {
   "cell_type": "code",
   "execution_count": null,
   "id": "4f722c72",
   "metadata": {},
   "outputs": [
    {
     "data": {
      "text/plain": [
       "array([False,  True, False])"
      ]
     },
     "execution_count": 52,
     "metadata": {},
     "output_type": "execute_result"
    }
   ],
   "source": [
    "# 2 * a + b\n",
    "# a == 2\n",
    "# b > 10 \n",
    "(a == 2) & (b > 10) # and는 불가, & 벡터 연산"
   ]
  },
  {
   "cell_type": "code",
   "execution_count": 50,
   "id": "add2d17b",
   "metadata": {},
   "outputs": [
    {
     "data": {
      "text/plain": [
       "array([False,  True, False])"
      ]
     },
     "execution_count": 50,
     "metadata": {},
     "output_type": "execute_result"
    }
   ],
   "source": [
    "a = np.array([1,2,3])\n",
    "\n",
    "a == 2"
   ]
  },
  {
   "cell_type": "code",
   "execution_count": null,
   "id": "be66969d",
   "metadata": {},
   "outputs": [],
   "source": [
    "배열의 인덱싱\n",
    "\n",
    "다음의 결과는?\n",
    "\n",
    "a = np.array({0,1,2,3,4})\n",
    "print(a[2]) 2\n",
    "print(a[-1]) 4"
   ]
  },
  {
   "cell_type": "code",
   "execution_count": 78,
   "id": "a3886a9b",
   "metadata": {},
   "outputs": [
    {
     "name": "stdout",
     "output_type": "stream",
     "text": [
      "0 1 5\n"
     ]
    }
   ],
   "source": [
    "alist = [0,1,2], [3,4,5]\n",
    "#0, 1, 5 출력\n",
    "print(alist[0][0], alist[0][1], alist[1][2])"
   ]
  },
  {
   "cell_type": "code",
   "execution_count": 79,
   "id": "4f3f43cc",
   "metadata": {},
   "outputs": [],
   "source": [
    "l_list = [[0, 1, 2], [3, 4, 5]]\n",
    "# 0, 1 슬라이싱 [0, 1]\n",
    "# 4, 5 슬라이싱 [4, 5]\n",
    "# 1, 4를 하나의 리스트에 담아서 보여주세요(슬라이싱?) [1, 4] "
   ]
  },
  {
   "cell_type": "code",
   "execution_count": 72,
   "id": "74b30320",
   "metadata": {},
   "outputs": [
    {
     "data": {
      "text/plain": [
       "[0, 1]"
      ]
     },
     "execution_count": 72,
     "metadata": {},
     "output_type": "execute_result"
    }
   ],
   "source": [
    "alist[0][:2]"
   ]
  },
  {
   "cell_type": "code",
   "execution_count": 71,
   "id": "197c9dae",
   "metadata": {},
   "outputs": [
    {
     "data": {
      "text/plain": [
       "[4, 5]"
      ]
     },
     "execution_count": 71,
     "metadata": {},
     "output_type": "execute_result"
    }
   ],
   "source": [
    "alist[1][1:]"
   ]
  },
  {
   "cell_type": "code",
   "execution_count": null,
   "id": "26047cd4",
   "metadata": {},
   "outputs": [
    {
     "data": {
      "text/plain": [
       "([0, 1, 2], [3, 4, 5])"
      ]
     },
     "execution_count": 75,
     "metadata": {},
     "output_type": "execute_result"
    }
   ],
   "source": [
    "result = [alist[0][1],alist[alist[1][1]]]\n",
    "result = "
   ]
  },
  {
   "cell_type": "code",
   "execution_count": 94,
   "id": "54957b82",
   "metadata": {},
   "outputs": [
    {
     "data": {
      "text/plain": [
       "array([[0, 1, 2],\n",
       "       [3, 4, 5]])"
      ]
     },
     "execution_count": 94,
     "metadata": {},
     "output_type": "execute_result"
    }
   ],
   "source": [
    "blist = np.array([[0, 1, 2], [3, 4, 5]])\n",
    "blist"
   ]
  },
  {
   "cell_type": "code",
   "execution_count": 102,
   "id": "fe46d266",
   "metadata": {},
   "outputs": [
    {
     "name": "stdout",
     "output_type": "stream",
     "text": [
      "0 1 5\n",
      "0 1 5\n"
     ]
    }
   ],
   "source": [
    "print(blist[0][0], blist[0][1], blist[1][2])\n",
    "print(blist[0,0], blist[0,1], blist[1,2])"
   ]
  },
  {
   "cell_type": "code",
   "execution_count": 99,
   "id": "3bf9f172",
   "metadata": {},
   "outputs": [
    {
     "data": {
      "text/plain": [
       "array([0, 1])"
      ]
     },
     "execution_count": 99,
     "metadata": {},
     "output_type": "execute_result"
    }
   ],
   "source": [
    "blist[0, :2]"
   ]
  },
  {
   "cell_type": "code",
   "execution_count": 100,
   "id": "2baeed08",
   "metadata": {},
   "outputs": [
    {
     "data": {
      "text/plain": [
       "array([4, 5])"
      ]
     },
     "execution_count": 100,
     "metadata": {},
     "output_type": "execute_result"
    }
   ],
   "source": [
    "blist[-1,1: ]"
   ]
  },
  {
   "cell_type": "code",
   "execution_count": 101,
   "id": "6f8c443c",
   "metadata": {},
   "outputs": [
    {
     "data": {
      "text/plain": [
       "array([1, 4])"
      ]
     },
     "execution_count": 101,
     "metadata": {},
     "output_type": "execute_result"
    }
   ],
   "source": [
    "blist[: ,1] # : 처음부터 끝까지 "
   ]
  },
  {
   "cell_type": "code",
   "execution_count": 7,
   "id": "b24b3529",
   "metadata": {},
   "outputs": [
    {
     "data": {
      "text/plain": [
       "array([[0, 1, 2, 3],\n",
       "       [4, 5, 6, 7]])"
      ]
     },
     "execution_count": 7,
     "metadata": {},
     "output_type": "execute_result"
    }
   ],
   "source": [
    "a = np.array([[0,1,2,3],[4,5,6,7]])\n",
    "a"
   ]
  },
  {
   "cell_type": "code",
   "execution_count": 4,
   "id": "60df1139",
   "metadata": {},
   "outputs": [
    {
     "data": {
      "text/plain": [
       "array([1, 5])"
      ]
     },
     "execution_count": 4,
     "metadata": {},
     "output_type": "execute_result"
    }
   ],
   "source": [
    "a[: ,1]"
   ]
  },
  {
   "cell_type": "code",
   "execution_count": 5,
   "id": "dd7b5618",
   "metadata": {},
   "outputs": [
    {
     "data": {
      "text/plain": [
       "array([5, 6, 7])"
      ]
     },
     "execution_count": 5,
     "metadata": {},
     "output_type": "execute_result"
    }
   ],
   "source": [
    "a[1, 1:]"
   ]
  },
  {
   "cell_type": "code",
   "execution_count": 11,
   "id": "3ef6fe83",
   "metadata": {},
   "outputs": [
    {
     "name": "stdout",
     "output_type": "stream",
     "text": [
      "[[0 1]\n",
      " [4 5]]\n"
     ]
    }
   ],
   "source": [
    "result = a[:, :2]\n",
    "print(result)\n"
   ]
  },
  {
   "cell_type": "code",
   "execution_count": null,
   "id": "b85ea672",
   "metadata": {},
   "outputs": [
    {
     "data": {
      "text/plain": [
       "array([[ 0,  1,  2,  4],\n",
       "       [ 5,  6,  7,  8],\n",
       "       [ 9, 10, 11, 12]])"
      ]
     },
     "execution_count": 10,
     "metadata": {},
     "output_type": "execute_result"
    }
   ],
   "source": [
    "# 산출물 미션\n",
    "clist = np.array([[0,1,2,4],[5,6,7,8],[9,10,11,12]])\n",
    "clist\n",
    "# 슬라이싱 최소 3회\n",
    "[행, 열]"
   ]
  },
  {
   "cell_type": "code",
   "execution_count": null,
   "id": "215573f1",
   "metadata": {},
   "outputs": [
    {
     "data": {
      "text/plain": [
       "array([ 1,  6, 10])"
      ]
     },
     "execution_count": 12,
     "metadata": {},
     "output_type": "execute_result"
    }
   ],
   "source": [
    "clist[:, 1]"
   ]
  },
  {
   "cell_type": "code",
   "execution_count": 14,
   "id": "abc5b76d",
   "metadata": {},
   "outputs": [
    {
     "data": {
      "text/plain": [
       "array([ 2,  7, 11])"
      ]
     },
     "execution_count": 14,
     "metadata": {},
     "output_type": "execute_result"
    }
   ],
   "source": [
    "clist[: ,2]"
   ]
  },
  {
   "cell_type": "code",
   "execution_count": 33,
   "id": "302d6c2e",
   "metadata": {},
   "outputs": [
    {
     "data": {
      "text/plain": [
       "array([ 2,  7, 11])"
      ]
     },
     "execution_count": 33,
     "metadata": {},
     "output_type": "execute_result"
    }
   ],
   "source": [
    "clist[:, 2][clist[:, 2] >= 2]"
   ]
  },
  {
   "cell_type": "markdown",
   "id": "c38d108f",
   "metadata": {},
   "source": [
    "## 팬시 인덱싱(fancy indexing)\n",
    "- 수치적 경우엔 1차원으로 뽑는 것일 뿐이고\n",
    "- 원래 위치나 차원이 중요한 경우엔 슬라이싱을 뽑아냄"
   ]
  },
  {
   "cell_type": "code",
   "execution_count": 41,
   "id": "e047515f",
   "metadata": {},
   "outputs": [
    {
     "data": {
      "text/plain": [
       "array([0, 2, 4, 6, 8])"
      ]
     },
     "execution_count": 41,
     "metadata": {},
     "output_type": "execute_result"
    }
   ],
   "source": [
    "a = np.array([0,1,2,3,4,5,6,7,8,9])\n",
    "idx = np.array([True, False, True, False, True, False, True, False, True, False])\n",
    "a[idx]"
   ]
  },
  {
   "cell_type": "code",
   "execution_count": 42,
   "id": "e4053ed9",
   "metadata": {},
   "outputs": [
    {
     "data": {
      "text/plain": [
       "array([0, 2, 5])"
      ]
     },
     "execution_count": 42,
     "metadata": {},
     "output_type": "execute_result"
    }
   ],
   "source": [
    "a = np.array([0,1,2,3,4,5,6,7,8,9])\n",
    "idx = [0, 2, 5]\n",
    "a[idx]"
   ]
  },
  {
   "cell_type": "code",
   "execution_count": 46,
   "id": "cb9efa4c",
   "metadata": {},
   "outputs": [
    {
     "data": {
      "text/plain": [
       "array([[1, 2, 3],\n",
       "       [4, 5, 6],\n",
       "       [7, 8, 9]])"
      ]
     },
     "execution_count": 46,
     "metadata": {},
     "output_type": "execute_result"
    }
   ],
   "source": [
    "b = np.array([[1,2,3], [4,5,6], [7,8,9]])\n",
    "b"
   ]
  },
  {
   "cell_type": "code",
   "execution_count": 45,
   "id": "570be7a6",
   "metadata": {},
   "outputs": [
    {
     "data": {
      "text/plain": [
       "array([[1, 2, 3],\n",
       "       [7, 8, 9]])"
      ]
     },
     "execution_count": 45,
     "metadata": {},
     "output_type": "execute_result"
    }
   ],
   "source": [
    "b[[0, 2]]"
   ]
  },
  {
   "cell_type": "code",
   "execution_count": 49,
   "id": "9cc4c5fd",
   "metadata": {},
   "outputs": [
    {
     "data": {
      "text/plain": [
       "array([2, 6, 7])"
      ]
     },
     "execution_count": 49,
     "metadata": {},
     "output_type": "execute_result"
    }
   ],
   "source": [
    "b[[0,1,2],[1,2,0]]"
   ]
  },
  {
   "cell_type": "code",
   "execution_count": 50,
   "id": "8c160a07",
   "metadata": {},
   "outputs": [],
   "source": [
    "arr = np.array([1,2,3,4,5,6,7,8,])"
   ]
  },
  {
   "cell_type": "code",
   "execution_count": 51,
   "id": "cd9b5a72",
   "metadata": {},
   "outputs": [
    {
     "data": {
      "text/plain": [
       "array([False,  True, False,  True, False,  True, False,  True])"
      ]
     },
     "execution_count": 51,
     "metadata": {},
     "output_type": "execute_result"
    }
   ],
   "source": [
    "arr % 2 == 0"
   ]
  },
  {
   "cell_type": "code",
   "execution_count": 52,
   "id": "b4350ffc",
   "metadata": {},
   "outputs": [
    {
     "data": {
      "text/plain": [
       "array([2, 4, 6, 8])"
      ]
     },
     "execution_count": 52,
     "metadata": {},
     "output_type": "execute_result"
    }
   ],
   "source": [
    "arr[arr % 2 == 0]"
   ]
  },
  {
   "cell_type": "code",
   "execution_count": null,
   "id": "e5825099",
   "metadata": {},
   "outputs": [
    {
     "data": {
      "text/plain": [
       "array([1, 3, 5, 7])"
      ]
     },
     "execution_count": 55,
     "metadata": {},
     "output_type": "execute_result"
    }
   ],
   "source": [
    "# 조건문 연산을 사용하여 홀수인 원소만 골라내기\n",
    "arr[arr % 2 != 0]"
   ]
  },
  {
   "cell_type": "code",
   "execution_count": 57,
   "id": "98e13d84",
   "metadata": {},
   "outputs": [
    {
     "data": {
      "text/plain": [
       "array([11, 11, 11, 11, 11, 11, 11, 22, 22, 22, 22, 22, 33, 33, 33, 33, 33,\n",
       "       33])"
      ]
     },
     "execution_count": 57,
     "metadata": {},
     "output_type": "execute_result"
    }
   ],
   "source": [
    "#정수 배열 인덱싱 방식\n",
    "a = np.array([11,22,33,44,55,66,77,88,99])\n",
    "idx = np.array([0,0,0,0,0,0,0,1,1,1,1,1,2,2,2,2,2,2])\n",
    "a[idx]"
   ]
  },
  {
   "cell_type": "code",
   "execution_count": null,
   "id": "feb470c0",
   "metadata": {},
   "outputs": [
    {
     "data": {
      "text/plain": [
       "array([[ 1,  2,  3,  4],\n",
       "       [ 5,  6,  7,  8],\n",
       "       [ 9, 10, 11, 12]])"
      ]
     },
     "execution_count": 60,
     "metadata": {},
     "output_type": "execute_result"
    }
   ],
   "source": [
    "#산출물 미션 ([0], [[2]])\n",
    "a = np.array([[1,2,3,4,], [5,6,7,8], [9,10,11,12]])\n",
    "a"
   ]
  },
  {
   "cell_type": "code",
   "execution_count": 62,
   "id": "ebea3dab",
   "metadata": {},
   "outputs": [
    {
     "data": {
      "text/plain": [
       "array([[ 1,  4],\n",
       "       [ 5,  8],\n",
       "       [ 9, 12]])"
      ]
     },
     "execution_count": 62,
     "metadata": {},
     "output_type": "execute_result"
    }
   ],
   "source": [
    "a[:, [0,3]]"
   ]
  },
  {
   "cell_type": "code",
   "execution_count": 64,
   "id": "6f17fbb8",
   "metadata": {},
   "outputs": [
    {
     "data": {
      "text/plain": [
       "array([[ 1,  4],\n",
       "       [ 5,  8],\n",
       "       [ 9, 12]])"
      ]
     },
     "execution_count": 64,
     "metadata": {},
     "output_type": "execute_result"
    }
   ],
   "source": [
    "a[:, [True, False, False, True]]"
   ]
  },
  {
   "cell_type": "code",
   "execution_count": null,
   "id": "dead76ba",
   "metadata": {},
   "outputs": [
    {
     "data": {
      "text/plain": [
       "array([[ 9, 10, 11, 12],\n",
       "       [ 1,  2,  3,  4],\n",
       "       [ 5,  6,  7,  8]])"
      ]
     },
     "execution_count": 66,
     "metadata": {},
     "output_type": "execute_result"
    }
   ],
   "source": [
    "# 맨 아래 행을 위로 올리기\n",
    "a[[2, 0, 1],: ]\n",
    "#호출 순서를 바꾸면 됨.."
   ]
  },
  {
   "cell_type": "code",
   "execution_count": null,
   "id": "f63be4b6",
   "metadata": {},
   "outputs": [],
   "source": [
    "data = np.array([1, 4, 9, 16])\n",
    "#연산자"
   ]
  },
  {
   "cell_type": "code",
   "execution_count": 68,
   "id": "96396a40",
   "metadata": {},
   "outputs": [
    {
     "data": {
      "text/plain": [
       "array([1., 2., 3., 4.])"
      ]
     },
     "execution_count": 68,
     "metadata": {},
     "output_type": "execute_result"
    }
   ],
   "source": [
    "np.sqrt(data)"
   ]
  },
  {
   "cell_type": "code",
   "execution_count": null,
   "id": "c303a0da",
   "metadata": {},
   "outputs": [
    {
     "data": {
      "text/plain": [
       "array([2.71828183e+00, 5.45981500e+01, 8.10308393e+03, 8.88611052e+06])"
      ]
     },
     "execution_count": 69,
     "metadata": {},
     "output_type": "execute_result"
    }
   ],
   "source": [
    "np.exp(data)"
   ]
  },
  {
   "cell_type": "code",
   "execution_count": 70,
   "id": "d606ca0f",
   "metadata": {},
   "outputs": [
    {
     "data": {
      "text/plain": [
       "np.int64(30)"
      ]
     },
     "execution_count": 70,
     "metadata": {},
     "output_type": "execute_result"
    }
   ],
   "source": [
    "np.sum(data)"
   ]
  },
  {
   "cell_type": "code",
   "execution_count": 71,
   "id": "e08ba545",
   "metadata": {},
   "outputs": [
    {
     "data": {
      "text/plain": [
       "np.float64(7.5)"
      ]
     },
     "execution_count": 71,
     "metadata": {},
     "output_type": "execute_result"
    }
   ],
   "source": [
    "np.mean(data)"
   ]
  },
  {
   "cell_type": "code",
   "execution_count": 72,
   "id": "7f892576",
   "metadata": {},
   "outputs": [
    {
     "data": {
      "text/plain": [
       "np.float64(5.678908345800274)"
      ]
     },
     "execution_count": 72,
     "metadata": {},
     "output_type": "execute_result"
    }
   ],
   "source": [
    "np.std(data)"
   ]
  },
  {
   "cell_type": "code",
   "execution_count": null,
   "id": "36a8516b",
   "metadata": {},
   "outputs": [],
   "source": [
    "#미션 \n",
    "\n",
    "x = np.array([1,2,3,4,5,6,7,8,9,10,\n",
    "              11,12,13,14,15,16,17,18,19,20])\n",
    "# 배열에서 3의 배수를 찾아주세요\n",
    "# 배열에서 4로 나누면 1이 남는 수를 찾아주세요.\n",
    "# 배열에서 3으로 나누어 떨어지고 4로 나누면 1이 남는 수는?"
   ]
  },
  {
   "cell_type": "code",
   "execution_count": 77,
   "id": "420443aa",
   "metadata": {},
   "outputs": [
    {
     "data": {
      "text/plain": [
       "array([ 3,  6,  9, 12, 15, 18])"
      ]
     },
     "execution_count": 77,
     "metadata": {},
     "output_type": "execute_result"
    }
   ],
   "source": [
    "# 배열에서 3의 배수를 찾아주세요\n",
    "x[x % 3 == 0]"
   ]
  },
  {
   "cell_type": "code",
   "execution_count": 78,
   "id": "1d685bff",
   "metadata": {},
   "outputs": [
    {
     "data": {
      "text/plain": [
       "array([ 1,  5,  9, 13, 17])"
      ]
     },
     "execution_count": 78,
     "metadata": {},
     "output_type": "execute_result"
    }
   ],
   "source": [
    "# 배열에서 4로 나누면 1이 남는 수를 찾아주세요.\n",
    "x[x % 4 == 1]"
   ]
  },
  {
   "cell_type": "code",
   "execution_count": 82,
   "id": "fa3c637a",
   "metadata": {},
   "outputs": [
    {
     "data": {
      "text/plain": [
       "array([9])"
      ]
     },
     "execution_count": 82,
     "metadata": {},
     "output_type": "execute_result"
    }
   ],
   "source": [
    "# 배열에서 3으로 나누어 떨어지고 4로 나누면 1이 남는 수는?\n",
    "x[(x % 3 == 0) & (x % 4 == 1)]"
   ]
  },
  {
   "cell_type": "markdown",
   "id": "3e48819c",
   "metadata": {},
   "source": [
    "## pandas "
   ]
  },
  {
   "cell_type": "code",
   "execution_count": 84,
   "id": "e2fc5a66",
   "metadata": {},
   "outputs": [
    {
     "name": "stdout",
     "output_type": "stream",
     "text": [
      "Collecting pandas\n",
      "  Downloading pandas-2.3.2-cp311-cp311-win_amd64.whl.metadata (19 kB)\n",
      "Requirement already satisfied: numpy>=1.23.2 in c:\\users\\el06\\appdata\\local\\programs\\python\\python311\\lib\\site-packages (from pandas) (2.3.3)\n",
      "Requirement already satisfied: python-dateutil>=2.8.2 in c:\\users\\el06\\appdata\\roaming\\python\\python311\\site-packages (from pandas) (2.9.0.post0)\n",
      "Collecting pytz>=2020.1 (from pandas)\n",
      "  Downloading pytz-2025.2-py2.py3-none-any.whl.metadata (22 kB)\n",
      "Collecting tzdata>=2022.7 (from pandas)\n",
      "  Downloading tzdata-2025.2-py2.py3-none-any.whl.metadata (1.4 kB)\n",
      "Requirement already satisfied: six>=1.5 in c:\\users\\el06\\appdata\\roaming\\python\\python311\\site-packages (from python-dateutil>=2.8.2->pandas) (1.17.0)\n",
      "Downloading pandas-2.3.2-cp311-cp311-win_amd64.whl (11.3 MB)\n",
      "   ---------------------------------------- 0.0/11.3 MB ? eta -:--:--\n",
      "    --------------------------------------- 0.2/11.3 MB 6.3 MB/s eta 0:00:02\n",
      "   -- ------------------------------------- 0.7/11.3 MB 8.9 MB/s eta 0:00:02\n",
      "   ---- ----------------------------------- 1.1/11.3 MB 9.1 MB/s eta 0:00:02\n",
      "   ---- ----------------------------------- 1.4/11.3 MB 8.8 MB/s eta 0:00:02\n",
      "   ------ --------------------------------- 1.9/11.3 MB 8.5 MB/s eta 0:00:02\n",
      "   ------- -------------------------------- 2.2/11.3 MB 8.3 MB/s eta 0:00:02\n",
      "   --------- ------------------------------ 2.8/11.3 MB 8.8 MB/s eta 0:00:01\n",
      "   ----------- ---------------------------- 3.2/11.3 MB 8.9 MB/s eta 0:00:01\n",
      "   ------------- -------------------------- 3.7/11.3 MB 9.2 MB/s eta 0:00:01\n",
      "   -------------- ------------------------- 4.2/11.3 MB 9.2 MB/s eta 0:00:01\n",
      "   ---------------- ----------------------- 4.6/11.3 MB 9.2 MB/s eta 0:00:01\n",
      "   ----------------- ---------------------- 5.0/11.3 MB 9.2 MB/s eta 0:00:01\n",
      "   ------------------- -------------------- 5.5/11.3 MB 9.2 MB/s eta 0:00:01\n",
      "   -------------------- ------------------- 5.9/11.3 MB 9.2 MB/s eta 0:00:01\n",
      "   ---------------------- ----------------- 6.4/11.3 MB 9.3 MB/s eta 0:00:01\n",
      "   ------------------------ --------------- 6.8/11.3 MB 9.3 MB/s eta 0:00:01\n",
      "   ------------------------- -------------- 7.1/11.3 MB 9.3 MB/s eta 0:00:01\n",
      "   -------------------------- ------------- 7.6/11.3 MB 9.4 MB/s eta 0:00:01\n",
      "   ---------------------------- ----------- 8.1/11.3 MB 9.2 MB/s eta 0:00:01\n",
      "   ------------------------------ --------- 8.6/11.3 MB 9.5 MB/s eta 0:00:01\n",
      "   ------------------------------- -------- 9.0/11.3 MB 9.4 MB/s eta 0:00:01\n",
      "   --------------------------------- ------ 9.5/11.3 MB 9.5 MB/s eta 0:00:01\n",
      "   ----------------------------------- ---- 10.0/11.3 MB 9.5 MB/s eta 0:00:01\n",
      "   ------------------------------------ --- 10.4/11.3 MB 9.6 MB/s eta 0:00:01\n",
      "   -------------------------------------- - 11.0/11.3 MB 9.6 MB/s eta 0:00:01\n",
      "   ---------------------------------------  11.3/11.3 MB 9.8 MB/s eta 0:00:01\n",
      "   ---------------------------------------- 11.3/11.3 MB 9.5 MB/s eta 0:00:00\n",
      "Downloading pytz-2025.2-py2.py3-none-any.whl (509 kB)\n",
      "   ---------------------------------------- 0.0/509.2 kB ? eta -:--:--\n",
      "   --------------------------------------  501.8/509.2 kB 10.5 MB/s eta 0:00:01\n",
      "   ---------------------------------------- 509.2/509.2 kB 8.0 MB/s eta 0:00:00\n",
      "Downloading tzdata-2025.2-py2.py3-none-any.whl (347 kB)\n",
      "   ---------------------------------------- 0.0/347.8 kB ? eta -:--:--\n",
      "   ------------------------------------- - 337.9/347.8 kB 10.6 MB/s eta 0:00:01\n",
      "   ---------------------------------------- 347.8/347.8 kB 7.2 MB/s eta 0:00:00\n",
      "Installing collected packages: pytz, tzdata, pandas\n",
      "Successfully installed pandas-2.3.2 pytz-2025.2 tzdata-2025.2\n"
     ]
    },
    {
     "name": "stderr",
     "output_type": "stream",
     "text": [
      "\n",
      "[notice] A new release of pip is available: 24.0 -> 25.2\n",
      "[notice] To update, run: python.exe -m pip install --upgrade pip\n"
     ]
    }
   ],
   "source": [
    "!pip install pandas"
   ]
  },
  {
   "cell_type": "code",
   "execution_count": 88,
   "id": "c4f18ef8",
   "metadata": {},
   "outputs": [],
   "source": [
    "import pandas as pd"
   ]
  },
  {
   "cell_type": "code",
   "execution_count": null,
   "id": "33e90625",
   "metadata": {},
   "outputs": [],
   "source": [
    "pandas 사이트\n",
    "https://pandas.pydata.org/\n",
    "\n",
    "데이터를 조작/분석하기 위한 라이브러리\n",
    "다양한 데이터 분석 함수 제공\n",
    "행과 열로 이루어진 데이터 객체를 만들고 다룰 수 있게 해줌"
   ]
  },
  {
   "cell_type": "code",
   "execution_count": null,
   "id": "7fefc0dc",
   "metadata": {},
   "outputs": [],
   "source": [
    "데이터 프레임 만들기\n",
    "이중 리스트나 딕셔너리로 만들 수 있다.\n",
    "\n",
    "csv 데이터\n",
    "외부 데이터를 저장할 때 utf8로 지정해야 한글이 깨지지 않음\n",
    "데이터 파일의 이름을 적어줄 때 같은 폴더 안에 위치 하지 않는다면 경로까지 적어준다."
   ]
  },
  {
   "cell_type": "code",
   "execution_count": null,
   "id": "337d94fd",
   "metadata": {},
   "outputs": [],
   "source": [
    "데이터프레임명[\"컬럼명\"].apply(함수명)\n",
    "\n",
    "def add_cm(height):\n",
    "    return str(height) + 'cm'\n",
    "\n",
    "df3['키'] = df3['키']"
   ]
  },
  {
   "cell_type": "code",
   "execution_count": 89,
   "id": "894a4e89",
   "metadata": {},
   "outputs": [],
   "source": [
    "import pandas as pd"
   ]
  },
  {
   "cell_type": "code",
   "execution_count": null,
   "id": "70dfc7f4",
   "metadata": {},
   "outputs": [
    {
     "data": {
      "text/html": [
       "<div>\n",
       "<style scoped>\n",
       "    .dataframe tbody tr th:only-of-type {\n",
       "        vertical-align: middle;\n",
       "    }\n",
       "\n",
       "    .dataframe tbody tr th {\n",
       "        vertical-align: top;\n",
       "    }\n",
       "\n",
       "    .dataframe thead th {\n",
       "        text-align: right;\n",
       "    }\n",
       "</style>\n",
       "<table border=\"1\" class=\"dataframe\">\n",
       "  <thead>\n",
       "    <tr style=\"text-align: right;\">\n",
       "      <th></th>\n",
       "      <th>이름</th>\n",
       "      <th>나이</th>\n",
       "      <th>직업</th>\n",
       "      <th>국적</th>\n",
       "      <th>키</th>\n",
       "      <th>재산</th>\n",
       "    </tr>\n",
       "  </thead>\n",
       "  <tbody>\n",
       "    <tr>\n",
       "      <th>0</th>\n",
       "      <td>아이언맨</td>\n",
       "      <td>58</td>\n",
       "      <td>CEO</td>\n",
       "      <td>미국</td>\n",
       "      <td>174</td>\n",
       "      <td>1.150000e+13</td>\n",
       "    </tr>\n",
       "    <tr>\n",
       "      <th>1</th>\n",
       "      <td>토르</td>\n",
       "      <td>45</td>\n",
       "      <td>신</td>\n",
       "      <td>아스가르드</td>\n",
       "      <td>190</td>\n",
       "      <td>NaN</td>\n",
       "    </tr>\n",
       "    <tr>\n",
       "      <th>2</th>\n",
       "      <td>스파이더맨</td>\n",
       "      <td>18</td>\n",
       "      <td>고등학생</td>\n",
       "      <td>미국</td>\n",
       "      <td>177</td>\n",
       "      <td>6.000000e+02</td>\n",
       "    </tr>\n",
       "    <tr>\n",
       "      <th>3</th>\n",
       "      <td>원더우먼</td>\n",
       "      <td>27</td>\n",
       "      <td>공주</td>\n",
       "      <td>데미스키라</td>\n",
       "      <td>178</td>\n",
       "      <td>NaN</td>\n",
       "    </tr>\n",
       "    <tr>\n",
       "      <th>4</th>\n",
       "      <td>헐크</td>\n",
       "      <td>33</td>\n",
       "      <td>핵물리학자</td>\n",
       "      <td>미국</td>\n",
       "      <td>270</td>\n",
       "      <td>1.000000e+09</td>\n",
       "    </tr>\n",
       "    <tr>\n",
       "      <th>5</th>\n",
       "      <td>캡틴마블</td>\n",
       "      <td>25</td>\n",
       "      <td>파일럿</td>\n",
       "      <td>미국</td>\n",
       "      <td>170</td>\n",
       "      <td>3.400000e+08</td>\n",
       "    </tr>\n",
       "    <tr>\n",
       "      <th>6</th>\n",
       "      <td>블랙위도우</td>\n",
       "      <td>32</td>\n",
       "      <td>스파이</td>\n",
       "      <td>러시아</td>\n",
       "      <td>170</td>\n",
       "      <td>5.000000e+07</td>\n",
       "    </tr>\n",
       "  </tbody>\n",
       "</table>\n",
       "</div>"
      ],
      "text/plain": [
       "      이름  나이     직업     국적    키            재산\n",
       "0   아이언맨  58    CEO     미국  174  1.150000e+13\n",
       "1     토르  45      신  아스가르드  190           NaN\n",
       "2  스파이더맨  18   고등학생     미국  177  6.000000e+02\n",
       "3   원더우먼  27     공주  데미스키라  178           NaN\n",
       "4     헐크  33  핵물리학자     미국  270  1.000000e+09\n",
       "5   캡틴마블  25    파일럿     미국  170  3.400000e+08\n",
       "6  블랙위도우  32    스파이    러시아  170  5.000000e+07"
      ]
     },
     "execution_count": 92,
     "metadata": {},
     "output_type": "execute_result"
    }
   ],
   "source": [
    "df = pd.read_csv('heroes.csv') #오타로 인한 FileNotFoundError 주의\n",
    "df "
   ]
  },
  {
   "cell_type": "code",
   "execution_count": 93,
   "id": "27129eb3",
   "metadata": {},
   "outputs": [],
   "source": [
    "pd.options.display.float_format = '{:.0f}'.format"
   ]
  },
  {
   "cell_type": "code",
   "execution_count": 94,
   "id": "8df3f366",
   "metadata": {},
   "outputs": [
    {
     "data": {
      "text/html": [
       "<div>\n",
       "<style scoped>\n",
       "    .dataframe tbody tr th:only-of-type {\n",
       "        vertical-align: middle;\n",
       "    }\n",
       "\n",
       "    .dataframe tbody tr th {\n",
       "        vertical-align: top;\n",
       "    }\n",
       "\n",
       "    .dataframe thead th {\n",
       "        text-align: right;\n",
       "    }\n",
       "</style>\n",
       "<table border=\"1\" class=\"dataframe\">\n",
       "  <thead>\n",
       "    <tr style=\"text-align: right;\">\n",
       "      <th></th>\n",
       "      <th>이름</th>\n",
       "      <th>나이</th>\n",
       "      <th>직업</th>\n",
       "      <th>국적</th>\n",
       "      <th>키</th>\n",
       "      <th>재산</th>\n",
       "    </tr>\n",
       "  </thead>\n",
       "  <tbody>\n",
       "    <tr>\n",
       "      <th>0</th>\n",
       "      <td>아이언맨</td>\n",
       "      <td>58</td>\n",
       "      <td>CEO</td>\n",
       "      <td>미국</td>\n",
       "      <td>174</td>\n",
       "      <td>11500000000000</td>\n",
       "    </tr>\n",
       "    <tr>\n",
       "      <th>1</th>\n",
       "      <td>토르</td>\n",
       "      <td>45</td>\n",
       "      <td>신</td>\n",
       "      <td>아스가르드</td>\n",
       "      <td>190</td>\n",
       "      <td>NaN</td>\n",
       "    </tr>\n",
       "    <tr>\n",
       "      <th>2</th>\n",
       "      <td>스파이더맨</td>\n",
       "      <td>18</td>\n",
       "      <td>고등학생</td>\n",
       "      <td>미국</td>\n",
       "      <td>177</td>\n",
       "      <td>600</td>\n",
       "    </tr>\n",
       "    <tr>\n",
       "      <th>3</th>\n",
       "      <td>원더우먼</td>\n",
       "      <td>27</td>\n",
       "      <td>공주</td>\n",
       "      <td>데미스키라</td>\n",
       "      <td>178</td>\n",
       "      <td>NaN</td>\n",
       "    </tr>\n",
       "    <tr>\n",
       "      <th>4</th>\n",
       "      <td>헐크</td>\n",
       "      <td>33</td>\n",
       "      <td>핵물리학자</td>\n",
       "      <td>미국</td>\n",
       "      <td>270</td>\n",
       "      <td>1000000000</td>\n",
       "    </tr>\n",
       "    <tr>\n",
       "      <th>5</th>\n",
       "      <td>캡틴마블</td>\n",
       "      <td>25</td>\n",
       "      <td>파일럿</td>\n",
       "      <td>미국</td>\n",
       "      <td>170</td>\n",
       "      <td>340000000</td>\n",
       "    </tr>\n",
       "    <tr>\n",
       "      <th>6</th>\n",
       "      <td>블랙위도우</td>\n",
       "      <td>32</td>\n",
       "      <td>스파이</td>\n",
       "      <td>러시아</td>\n",
       "      <td>170</td>\n",
       "      <td>50000000</td>\n",
       "    </tr>\n",
       "  </tbody>\n",
       "</table>\n",
       "</div>"
      ],
      "text/plain": [
       "      이름  나이     직업     국적    키             재산\n",
       "0   아이언맨  58    CEO     미국  174 11500000000000\n",
       "1     토르  45      신  아스가르드  190            NaN\n",
       "2  스파이더맨  18   고등학생     미국  177            600\n",
       "3   원더우먼  27     공주  데미스키라  178            NaN\n",
       "4     헐크  33  핵물리학자     미국  270     1000000000\n",
       "5   캡틴마블  25    파일럿     미국  170      340000000\n",
       "6  블랙위도우  32    스파이    러시아  170       50000000"
      ]
     },
     "execution_count": 94,
     "metadata": {},
     "output_type": "execute_result"
    }
   ],
   "source": [
    "df"
   ]
  },
  {
   "cell_type": "code",
   "execution_count": 95,
   "id": "d89b6a8c",
   "metadata": {},
   "outputs": [
    {
     "name": "stdout",
     "output_type": "stream",
     "text": [
      "<class 'pandas.core.frame.DataFrame'>\n",
      "RangeIndex: 7 entries, 0 to 6\n",
      "Data columns (total 6 columns):\n",
      " #   Column  Non-Null Count  Dtype  \n",
      "---  ------  --------------  -----  \n",
      " 0   이름      7 non-null      object \n",
      " 1   나이      7 non-null      int64  \n",
      " 2   직업      7 non-null      object \n",
      " 3   국적      7 non-null      object \n",
      " 4   키       7 non-null      int64  \n",
      " 5   재산      5 non-null      float64\n",
      "dtypes: float64(1), int64(2), object(3)\n",
      "memory usage: 468.0+ bytes\n"
     ]
    }
   ],
   "source": [
    "df.info()"
   ]
  },
  {
   "cell_type": "code",
   "execution_count": 96,
   "id": "2662e783",
   "metadata": {},
   "outputs": [
    {
     "data": {
      "text/plain": [
       "<bound method NDFrame.describe of       이름  나이     직업     국적    키             재산\n",
       "0   아이언맨  58    CEO     미국  174 11500000000000\n",
       "1     토르  45      신  아스가르드  190            NaN\n",
       "2  스파이더맨  18   고등학생     미국  177            600\n",
       "3   원더우먼  27     공주  데미스키라  178            NaN\n",
       "4     헐크  33  핵물리학자     미국  270     1000000000\n",
       "5   캡틴마블  25    파일럿     미국  170      340000000\n",
       "6  블랙위도우  32    스파이    러시아  170       50000000>"
      ]
     },
     "execution_count": 96,
     "metadata": {},
     "output_type": "execute_result"
    }
   ],
   "source": [
    "df.describe"
   ]
  },
  {
   "cell_type": "code",
   "execution_count": 97,
   "id": "4fb5cb32",
   "metadata": {},
   "outputs": [
    {
     "data": {
      "text/plain": [
       "<bound method NDFrame.head of       이름  나이     직업     국적    키             재산\n",
       "0   아이언맨  58    CEO     미국  174 11500000000000\n",
       "1     토르  45      신  아스가르드  190            NaN\n",
       "2  스파이더맨  18   고등학생     미국  177            600\n",
       "3   원더우먼  27     공주  데미스키라  178            NaN\n",
       "4     헐크  33  핵물리학자     미국  270     1000000000\n",
       "5   캡틴마블  25    파일럿     미국  170      340000000\n",
       "6  블랙위도우  32    스파이    러시아  170       50000000>"
      ]
     },
     "execution_count": 97,
     "metadata": {},
     "output_type": "execute_result"
    }
   ],
   "source": [
    "df.head"
   ]
  },
  {
   "cell_type": "code",
   "execution_count": null,
   "id": "04f33cb4",
   "metadata": {},
   "outputs": [],
   "source": []
  }
 ],
 "metadata": {
  "kernelspec": {
   "display_name": "Python 3",
   "language": "python",
   "name": "python3"
  },
  "language_info": {
   "codemirror_mode": {
    "name": "ipython",
    "version": 3
   },
   "file_extension": ".py",
   "mimetype": "text/x-python",
   "name": "python",
   "nbconvert_exporter": "python",
   "pygments_lexer": "ipython3",
   "version": "3.11.8"
  }
 },
 "nbformat": 4,
 "nbformat_minor": 5
}
